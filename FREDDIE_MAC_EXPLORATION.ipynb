{
  "nbformat": 4,
  "nbformat_minor": 0,
  "metadata": {
    "colab": {
      "name": "FREDDIE_MAC_EXPLORATION.ipynb",
      "provenance": [],
      "collapsed_sections": []
    },
    "kernelspec": {
      "name": "python3",
      "display_name": "Python 3"
    }
  },
  "cells": [
    {
      "cell_type": "markdown",
      "metadata": {
        "id": "jxuNJOolkHyI",
        "colab_type": "text"
      },
      "source": [
        "# Eploratory Analysis of Freddie Mac mortgage data"
      ]
    },
    {
      "cell_type": "markdown",
      "metadata": {
        "id": "HKB_KJuo55cW",
        "colab_type": "text"
      },
      "source": [
        "## Overall preparation of the data\n",
        "\n"
      ]
    },
    {
      "cell_type": "code",
      "metadata": {
        "id": "_DNrgPJjkY7l",
        "colab_type": "code",
        "colab": {}
      },
      "source": [
        "# Imports\n",
        "import math\n",
        "import operator\n",
        "import numpy as np\n",
        "import scipy as sp\n",
        "import pandas as pd\n",
        "import matplotlib.pyplot as plt\n",
        "%matplotlib inline"
      ],
      "execution_count": 0,
      "outputs": []
    },
    {
      "cell_type": "code",
      "metadata": {
        "id": "GQ0qeVomthFu",
        "colab_type": "code",
        "colab": {}
      },
      "source": [
        "# PATHS\n",
        "\n",
        "origination_path = \"origination_sample.csv\"\n",
        "update_path = \"update_sample.csv\""
      ],
      "execution_count": 0,
      "outputs": []
    },
    {
      "cell_type": "code",
      "metadata": {
        "id": "r1IecJ5Cti6Q",
        "colab_type": "code",
        "outputId": "40b1dc40-197b-4213-b301-35e10e63ea73",
        "colab": {
          "base_uri": "https://localhost:8080/",
          "height": 72
        }
      },
      "source": [
        "orig_df = pd.read_csv(origination_path)\n",
        "update_df =  pd.read_csv(update_path)"
      ],
      "execution_count": 3,
      "outputs": [
        {
          "output_type": "stream",
          "text": [
            "/usr/local/lib/python3.6/dist-packages/IPython/core/interactiveshell.py:2718: DtypeWarning: Columns (3,7,14,23,24) have mixed types. Specify dtype option on import or set low_memory=False.\n",
            "  interactivity=interactivity, compiler=compiler, result=result)\n"
          ],
          "name": "stderr"
        }
      ]
    },
    {
      "cell_type": "code",
      "metadata": {
        "id": "IT7ewx9Ltx7N",
        "colab_type": "code",
        "outputId": "dab06dcd-2bf6-43ed-cc4a-ed69336bb299",
        "colab": {
          "base_uri": "https://localhost:8080/",
          "height": 215
        }
      },
      "source": [
        "orig_df.head()"
      ],
      "execution_count": 4,
      "outputs": [
        {
          "output_type": "execute_result",
          "data": {
            "text/html": [
              "<div>\n",
              "<style scoped>\n",
              "    .dataframe tbody tr th:only-of-type {\n",
              "        vertical-align: middle;\n",
              "    }\n",
              "\n",
              "    .dataframe tbody tr th {\n",
              "        vertical-align: top;\n",
              "    }\n",
              "\n",
              "    .dataframe thead th {\n",
              "        text-align: right;\n",
              "    }\n",
              "</style>\n",
              "<table border=\"1\" class=\"dataframe\">\n",
              "  <thead>\n",
              "    <tr style=\"text-align: right;\">\n",
              "      <th></th>\n",
              "      <th>credit_score</th>\n",
              "      <th>first_payment_date</th>\n",
              "      <th>first_time_homebuyer_flag</th>\n",
              "      <th>maturity_date</th>\n",
              "      <th>msa</th>\n",
              "      <th>mi_percentage</th>\n",
              "      <th>num_units</th>\n",
              "      <th>occupancy_status</th>\n",
              "      <th>cltv</th>\n",
              "      <th>dti_ratio</th>\n",
              "      <th>original_upb</th>\n",
              "      <th>original_ltv</th>\n",
              "      <th>original_rate</th>\n",
              "      <th>channel</th>\n",
              "      <th>ppm_flag</th>\n",
              "      <th>product_type</th>\n",
              "      <th>property_state</th>\n",
              "      <th>property_type</th>\n",
              "      <th>postal_code</th>\n",
              "      <th>loan_sequence_number</th>\n",
              "      <th>loan_purpose</th>\n",
              "      <th>original_loan_term</th>\n",
              "      <th>num_borrowers</th>\n",
              "      <th>seller_name</th>\n",
              "      <th>servicer_name</th>\n",
              "      <th>super_conforming_flag</th>\n",
              "      <th>pre_harp_lsn</th>\n",
              "    </tr>\n",
              "  </thead>\n",
              "  <tbody>\n",
              "    <tr>\n",
              "      <th>0</th>\n",
              "      <td>806</td>\n",
              "      <td>200911</td>\n",
              "      <td>N</td>\n",
              "      <td>203910</td>\n",
              "      <td>42044.0</td>\n",
              "      <td>0</td>\n",
              "      <td>1</td>\n",
              "      <td>P</td>\n",
              "      <td>6</td>\n",
              "      <td>27</td>\n",
              "      <td>47000</td>\n",
              "      <td>6</td>\n",
              "      <td>5.500</td>\n",
              "      <td>R</td>\n",
              "      <td>N</td>\n",
              "      <td>FRM</td>\n",
              "      <td>CA</td>\n",
              "      <td>SF</td>\n",
              "      <td>92600.0</td>\n",
              "      <td>F109Q3265444</td>\n",
              "      <td>C</td>\n",
              "      <td>360</td>\n",
              "      <td>1</td>\n",
              "      <td>CITIMORTGAGE,INC</td>\n",
              "      <td>CITIMORTGAGE,INC</td>\n",
              "      <td>NaN</td>\n",
              "      <td>NaN</td>\n",
              "    </tr>\n",
              "    <tr>\n",
              "      <th>1</th>\n",
              "      <td>808</td>\n",
              "      <td>201606</td>\n",
              "      <td>9</td>\n",
              "      <td>204605</td>\n",
              "      <td>41940.0</td>\n",
              "      <td>0</td>\n",
              "      <td>1</td>\n",
              "      <td>P</td>\n",
              "      <td>6</td>\n",
              "      <td>48</td>\n",
              "      <td>107000</td>\n",
              "      <td>6</td>\n",
              "      <td>3.750</td>\n",
              "      <td>R</td>\n",
              "      <td>N</td>\n",
              "      <td>FRM</td>\n",
              "      <td>CA</td>\n",
              "      <td>SF</td>\n",
              "      <td>95000.0</td>\n",
              "      <td>F116Q2147949</td>\n",
              "      <td>N</td>\n",
              "      <td>360</td>\n",
              "      <td>2</td>\n",
              "      <td>USBANKNA</td>\n",
              "      <td>USBANKNA</td>\n",
              "      <td>NaN</td>\n",
              "      <td>NaN</td>\n",
              "    </tr>\n",
              "    <tr>\n",
              "      <th>2</th>\n",
              "      <td>815</td>\n",
              "      <td>200805</td>\n",
              "      <td>9</td>\n",
              "      <td>201804</td>\n",
              "      <td>35614.0</td>\n",
              "      <td>0</td>\n",
              "      <td>1</td>\n",
              "      <td>P</td>\n",
              "      <td>7</td>\n",
              "      <td>3</td>\n",
              "      <td>41000</td>\n",
              "      <td>7</td>\n",
              "      <td>6.125</td>\n",
              "      <td>R</td>\n",
              "      <td>N</td>\n",
              "      <td>FRM</td>\n",
              "      <td>NJ</td>\n",
              "      <td>SF</td>\n",
              "      <td>7600.0</td>\n",
              "      <td>F108Q1379240</td>\n",
              "      <td>N</td>\n",
              "      <td>120</td>\n",
              "      <td>2</td>\n",
              "      <td>WELLSFARGOBANK,NA</td>\n",
              "      <td>WELLSFARGOBANK,NA</td>\n",
              "      <td>NaN</td>\n",
              "      <td>NaN</td>\n",
              "    </tr>\n",
              "    <tr>\n",
              "      <th>3</th>\n",
              "      <td>788</td>\n",
              "      <td>200503</td>\n",
              "      <td>9</td>\n",
              "      <td>203502</td>\n",
              "      <td>34940.0</td>\n",
              "      <td>0</td>\n",
              "      <td>1</td>\n",
              "      <td>P</td>\n",
              "      <td>7</td>\n",
              "      <td>6</td>\n",
              "      <td>66000</td>\n",
              "      <td>7</td>\n",
              "      <td>6.000</td>\n",
              "      <td>R</td>\n",
              "      <td>N</td>\n",
              "      <td>FRM</td>\n",
              "      <td>FL</td>\n",
              "      <td>SF</td>\n",
              "      <td>34100.0</td>\n",
              "      <td>F105Q1090945</td>\n",
              "      <td>N</td>\n",
              "      <td>360</td>\n",
              "      <td>2</td>\n",
              "      <td>WELLSFARGOBANK,NA</td>\n",
              "      <td>WELLSFARGOBANK,NA</td>\n",
              "      <td>NaN</td>\n",
              "      <td>NaN</td>\n",
              "    </tr>\n",
              "    <tr>\n",
              "      <th>4</th>\n",
              "      <td>787</td>\n",
              "      <td>200301</td>\n",
              "      <td>9</td>\n",
              "      <td>203212</td>\n",
              "      <td>12940.0</td>\n",
              "      <td>0</td>\n",
              "      <td>1</td>\n",
              "      <td>P</td>\n",
              "      <td>7</td>\n",
              "      <td>34</td>\n",
              "      <td>142000</td>\n",
              "      <td>7</td>\n",
              "      <td>5.875</td>\n",
              "      <td>T</td>\n",
              "      <td>N</td>\n",
              "      <td>FRM</td>\n",
              "      <td>LA</td>\n",
              "      <td>SF</td>\n",
              "      <td>70700.0</td>\n",
              "      <td>F102Q4366150</td>\n",
              "      <td>N</td>\n",
              "      <td>360</td>\n",
              "      <td>1</td>\n",
              "      <td>WELLSFARGOHOMEMORTGA</td>\n",
              "      <td>WELLSFARGOBANK,NA</td>\n",
              "      <td>NaN</td>\n",
              "      <td>NaN</td>\n",
              "    </tr>\n",
              "  </tbody>\n",
              "</table>\n",
              "</div>"
            ],
            "text/plain": [
              "   credit_score  first_payment_date  ... super_conforming_flag  pre_harp_lsn\n",
              "0           806              200911  ...                   NaN           NaN\n",
              "1           808              201606  ...                   NaN           NaN\n",
              "2           815              200805  ...                   NaN           NaN\n",
              "3           788              200503  ...                   NaN           NaN\n",
              "4           787              200301  ...                   NaN           NaN\n",
              "\n",
              "[5 rows x 27 columns]"
            ]
          },
          "metadata": {
            "tags": []
          },
          "execution_count": 4
        }
      ]
    },
    {
      "cell_type": "code",
      "metadata": {
        "id": "9qEOnP9LyD_n",
        "colab_type": "code",
        "outputId": "347bcf39-0822-4dd3-e3f3-0fbe8967c7bd",
        "colab": {
          "base_uri": "https://localhost:8080/",
          "height": 304
        }
      },
      "source": [
        "orig_df.describe()"
      ],
      "execution_count": 5,
      "outputs": [
        {
          "output_type": "execute_result",
          "data": {
            "text/html": [
              "<div>\n",
              "<style scoped>\n",
              "    .dataframe tbody tr th:only-of-type {\n",
              "        vertical-align: middle;\n",
              "    }\n",
              "\n",
              "    .dataframe tbody tr th {\n",
              "        vertical-align: top;\n",
              "    }\n",
              "\n",
              "    .dataframe thead th {\n",
              "        text-align: right;\n",
              "    }\n",
              "</style>\n",
              "<table border=\"1\" class=\"dataframe\">\n",
              "  <thead>\n",
              "    <tr style=\"text-align: right;\">\n",
              "      <th></th>\n",
              "      <th>credit_score</th>\n",
              "      <th>first_payment_date</th>\n",
              "      <th>maturity_date</th>\n",
              "      <th>msa</th>\n",
              "      <th>mi_percentage</th>\n",
              "      <th>num_units</th>\n",
              "      <th>cltv</th>\n",
              "      <th>dti_ratio</th>\n",
              "      <th>original_upb</th>\n",
              "      <th>original_ltv</th>\n",
              "      <th>original_rate</th>\n",
              "      <th>postal_code</th>\n",
              "      <th>original_loan_term</th>\n",
              "      <th>num_borrowers</th>\n",
              "      <th>pre_harp_lsn</th>\n",
              "    </tr>\n",
              "  </thead>\n",
              "  <tbody>\n",
              "    <tr>\n",
              "      <th>count</th>\n",
              "      <td>102187.000000</td>\n",
              "      <td>102187.000000</td>\n",
              "      <td>102187.000000</td>\n",
              "      <td>87958.000000</td>\n",
              "      <td>102187.000000</td>\n",
              "      <td>102187.000000</td>\n",
              "      <td>102187.000000</td>\n",
              "      <td>102187.000000</td>\n",
              "      <td>1.021870e+05</td>\n",
              "      <td>102187.000000</td>\n",
              "      <td>102187.000000</td>\n",
              "      <td>102180.000000</td>\n",
              "      <td>102187.000000</td>\n",
              "      <td>102187.000000</td>\n",
              "      <td>0.0</td>\n",
              "    </tr>\n",
              "    <tr>\n",
              "      <th>mean</th>\n",
              "      <td>755.645836</td>\n",
              "      <td>200810.291906</td>\n",
              "      <td>203560.937732</td>\n",
              "      <td>30399.858774</td>\n",
              "      <td>14.145929</td>\n",
              "      <td>1.028575</td>\n",
              "      <td>72.768219</td>\n",
              "      <td>45.513823</td>\n",
              "      <td>1.917391e+05</td>\n",
              "      <td>71.675477</td>\n",
              "      <td>5.376428</td>\n",
              "      <td>53316.522803</td>\n",
              "      <td>331.031384</td>\n",
              "      <td>1.596749</td>\n",
              "      <td>NaN</td>\n",
              "    </tr>\n",
              "    <tr>\n",
              "      <th>std</th>\n",
              "      <td>404.587320</td>\n",
              "      <td>538.431164</td>\n",
              "      <td>648.793015</td>\n",
              "      <td>11334.692129</td>\n",
              "      <td>96.450279</td>\n",
              "      <td>0.377272</td>\n",
              "      <td>19.111486</td>\n",
              "      <td>107.071221</td>\n",
              "      <td>1.064525e+05</td>\n",
              "      <td>18.671648</td>\n",
              "      <td>1.347730</td>\n",
              "      <td>29678.519831</td>\n",
              "      <td>65.410734</td>\n",
              "      <td>1.383878</td>\n",
              "      <td>NaN</td>\n",
              "    </tr>\n",
              "    <tr>\n",
              "      <th>min</th>\n",
              "      <td>300.000000</td>\n",
              "      <td>199902.000000</td>\n",
              "      <td>201408.000000</td>\n",
              "      <td>10180.000000</td>\n",
              "      <td>0.000000</td>\n",
              "      <td>1.000000</td>\n",
              "      <td>6.000000</td>\n",
              "      <td>1.000000</td>\n",
              "      <td>8.000000e+03</td>\n",
              "      <td>6.000000</td>\n",
              "      <td>2.250000</td>\n",
              "      <td>600.000000</td>\n",
              "      <td>90.000000</td>\n",
              "      <td>1.000000</td>\n",
              "      <td>NaN</td>\n",
              "    </tr>\n",
              "    <tr>\n",
              "      <th>25%</th>\n",
              "      <td>703.000000</td>\n",
              "      <td>200309.000000</td>\n",
              "      <td>203109.000000</td>\n",
              "      <td>19340.000000</td>\n",
              "      <td>0.000000</td>\n",
              "      <td>1.000000</td>\n",
              "      <td>64.000000</td>\n",
              "      <td>26.000000</td>\n",
              "      <td>1.120000e+05</td>\n",
              "      <td>63.000000</td>\n",
              "      <td>4.250000</td>\n",
              "      <td>29400.000000</td>\n",
              "      <td>360.000000</td>\n",
              "      <td>1.000000</td>\n",
              "      <td>NaN</td>\n",
              "    </tr>\n",
              "    <tr>\n",
              "      <th>50%</th>\n",
              "      <td>749.000000</td>\n",
              "      <td>200805.000000</td>\n",
              "      <td>203505.000000</td>\n",
              "      <td>32820.000000</td>\n",
              "      <td>0.000000</td>\n",
              "      <td>1.000000</td>\n",
              "      <td>78.000000</td>\n",
              "      <td>34.000000</td>\n",
              "      <td>1.680000e+05</td>\n",
              "      <td>76.000000</td>\n",
              "      <td>5.500000</td>\n",
              "      <td>53000.000000</td>\n",
              "      <td>360.000000</td>\n",
              "      <td>2.000000</td>\n",
              "      <td>NaN</td>\n",
              "    </tr>\n",
              "    <tr>\n",
              "      <th>75%</th>\n",
              "      <td>781.000000</td>\n",
              "      <td>201302.000000</td>\n",
              "      <td>204010.000000</td>\n",
              "      <td>40140.000000</td>\n",
              "      <td>0.000000</td>\n",
              "      <td>1.000000</td>\n",
              "      <td>80.000000</td>\n",
              "      <td>42.000000</td>\n",
              "      <td>2.500000e+05</td>\n",
              "      <td>80.000000</td>\n",
              "      <td>6.375000</td>\n",
              "      <td>80600.000000</td>\n",
              "      <td>360.000000</td>\n",
              "      <td>2.000000</td>\n",
              "      <td>NaN</td>\n",
              "    </tr>\n",
              "    <tr>\n",
              "      <th>max</th>\n",
              "      <td>9999.000000</td>\n",
              "      <td>201810.000000</td>\n",
              "      <td>204809.000000</td>\n",
              "      <td>49740.000000</td>\n",
              "      <td>999.000000</td>\n",
              "      <td>99.000000</td>\n",
              "      <td>999.000000</td>\n",
              "      <td>999.000000</td>\n",
              "      <td>1.203000e+06</td>\n",
              "      <td>999.000000</td>\n",
              "      <td>12.000000</td>\n",
              "      <td>99900.000000</td>\n",
              "      <td>480.000000</td>\n",
              "      <td>99.000000</td>\n",
              "      <td>NaN</td>\n",
              "    </tr>\n",
              "  </tbody>\n",
              "</table>\n",
              "</div>"
            ],
            "text/plain": [
              "        credit_score  first_payment_date  ...  num_borrowers  pre_harp_lsn\n",
              "count  102187.000000       102187.000000  ...  102187.000000           0.0\n",
              "mean      755.645836       200810.291906  ...       1.596749           NaN\n",
              "std       404.587320          538.431164  ...       1.383878           NaN\n",
              "min       300.000000       199902.000000  ...       1.000000           NaN\n",
              "25%       703.000000       200309.000000  ...       1.000000           NaN\n",
              "50%       749.000000       200805.000000  ...       2.000000           NaN\n",
              "75%       781.000000       201302.000000  ...       2.000000           NaN\n",
              "max      9999.000000       201810.000000  ...      99.000000           NaN\n",
              "\n",
              "[8 rows x 15 columns]"
            ]
          },
          "metadata": {
            "tags": []
          },
          "execution_count": 5
        }
      ]
    },
    {
      "cell_type": "code",
      "metadata": {
        "id": "_5C-S6Cmt4sD",
        "colab_type": "code",
        "outputId": "c43f54ca-96c0-401d-9c2c-231b591d8a56",
        "colab": {
          "base_uri": "https://localhost:8080/",
          "height": 215
        }
      },
      "source": [
        "update_df.head()"
      ],
      "execution_count": 6,
      "outputs": [
        {
          "output_type": "execute_result",
          "data": {
            "text/html": [
              "<div>\n",
              "<style scoped>\n",
              "    .dataframe tbody tr th:only-of-type {\n",
              "        vertical-align: middle;\n",
              "    }\n",
              "\n",
              "    .dataframe tbody tr th {\n",
              "        vertical-align: top;\n",
              "    }\n",
              "\n",
              "    .dataframe thead th {\n",
              "        text-align: right;\n",
              "    }\n",
              "</style>\n",
              "<table border=\"1\" class=\"dataframe\">\n",
              "  <thead>\n",
              "    <tr style=\"text-align: right;\">\n",
              "      <th></th>\n",
              "      <th>loan_sequence_number</th>\n",
              "      <th>monthly_reporting_period</th>\n",
              "      <th>current_actual_upb</th>\n",
              "      <th>current_lds</th>\n",
              "      <th>loan_age</th>\n",
              "      <th>months_to_maturity</th>\n",
              "      <th>repurchase_flag</th>\n",
              "      <th>modification_flag</th>\n",
              "      <th>zero_balance_code</th>\n",
              "      <th>zero_balance_date</th>\n",
              "      <th>current_interest_rate</th>\n",
              "      <th>current_deffered_upb</th>\n",
              "      <th>ddlpi</th>\n",
              "      <th>mi_recoveries</th>\n",
              "      <th>net_sales_proceeds</th>\n",
              "      <th>non_mi_recoveries</th>\n",
              "      <th>expenses</th>\n",
              "      <th>legal_costs</th>\n",
              "      <th>maintenance_preservation_costs</th>\n",
              "      <th>taxes_insurance</th>\n",
              "      <th>misc_expenses</th>\n",
              "      <th>actual_loss_calculation</th>\n",
              "      <th>modification_cost</th>\n",
              "      <th>step_modification_flag</th>\n",
              "      <th>deferred_payment_modification</th>\n",
              "      <th>estimated_ltv</th>\n",
              "    </tr>\n",
              "  </thead>\n",
              "  <tbody>\n",
              "    <tr>\n",
              "      <th>0</th>\n",
              "      <td>F112Q3022742</td>\n",
              "      <td>201811</td>\n",
              "      <td>205553.10</td>\n",
              "      <td>0</td>\n",
              "      <td>74</td>\n",
              "      <td>285</td>\n",
              "      <td>NaN</td>\n",
              "      <td>NaN</td>\n",
              "      <td>NaN</td>\n",
              "      <td>NaN</td>\n",
              "      <td>3.470</td>\n",
              "      <td>0.0</td>\n",
              "      <td>NaN</td>\n",
              "      <td>NaN</td>\n",
              "      <td>NaN</td>\n",
              "      <td>NaN</td>\n",
              "      <td>NaN</td>\n",
              "      <td>NaN</td>\n",
              "      <td>NaN</td>\n",
              "      <td>NaN</td>\n",
              "      <td>NaN</td>\n",
              "      <td>NaN</td>\n",
              "      <td>NaN</td>\n",
              "      <td>NaN</td>\n",
              "      <td>NaN</td>\n",
              "      <td>60.1</td>\n",
              "    </tr>\n",
              "    <tr>\n",
              "      <th>1</th>\n",
              "      <td>F112Q3052305</td>\n",
              "      <td>201810</td>\n",
              "      <td>83108.63</td>\n",
              "      <td>0</td>\n",
              "      <td>74</td>\n",
              "      <td>286</td>\n",
              "      <td>NaN</td>\n",
              "      <td>NaN</td>\n",
              "      <td>NaN</td>\n",
              "      <td>NaN</td>\n",
              "      <td>3.865</td>\n",
              "      <td>0.0</td>\n",
              "      <td>NaN</td>\n",
              "      <td>NaN</td>\n",
              "      <td>NaN</td>\n",
              "      <td>NaN</td>\n",
              "      <td>NaN</td>\n",
              "      <td>NaN</td>\n",
              "      <td>NaN</td>\n",
              "      <td>NaN</td>\n",
              "      <td>NaN</td>\n",
              "      <td>NaN</td>\n",
              "      <td>NaN</td>\n",
              "      <td>NaN</td>\n",
              "      <td>NaN</td>\n",
              "      <td>47.9</td>\n",
              "    </tr>\n",
              "    <tr>\n",
              "      <th>2</th>\n",
              "      <td>F112Q3188392</td>\n",
              "      <td>201812</td>\n",
              "      <td>89450.91</td>\n",
              "      <td>0</td>\n",
              "      <td>74</td>\n",
              "      <td>286</td>\n",
              "      <td>NaN</td>\n",
              "      <td>NaN</td>\n",
              "      <td>NaN</td>\n",
              "      <td>NaN</td>\n",
              "      <td>3.600</td>\n",
              "      <td>0.0</td>\n",
              "      <td>NaN</td>\n",
              "      <td>NaN</td>\n",
              "      <td>NaN</td>\n",
              "      <td>NaN</td>\n",
              "      <td>NaN</td>\n",
              "      <td>NaN</td>\n",
              "      <td>NaN</td>\n",
              "      <td>NaN</td>\n",
              "      <td>NaN</td>\n",
              "      <td>NaN</td>\n",
              "      <td>NaN</td>\n",
              "      <td>NaN</td>\n",
              "      <td>NaN</td>\n",
              "      <td>61.3</td>\n",
              "    </tr>\n",
              "    <tr>\n",
              "      <th>3</th>\n",
              "      <td>F112Q4003161</td>\n",
              "      <td>201811</td>\n",
              "      <td>129901.23</td>\n",
              "      <td>0</td>\n",
              "      <td>72</td>\n",
              "      <td>288</td>\n",
              "      <td>NaN</td>\n",
              "      <td>NaN</td>\n",
              "      <td>NaN</td>\n",
              "      <td>NaN</td>\n",
              "      <td>3.700</td>\n",
              "      <td>0.0</td>\n",
              "      <td>NaN</td>\n",
              "      <td>NaN</td>\n",
              "      <td>NaN</td>\n",
              "      <td>NaN</td>\n",
              "      <td>NaN</td>\n",
              "      <td>NaN</td>\n",
              "      <td>NaN</td>\n",
              "      <td>NaN</td>\n",
              "      <td>NaN</td>\n",
              "      <td>NaN</td>\n",
              "      <td>NaN</td>\n",
              "      <td>NaN</td>\n",
              "      <td>NaN</td>\n",
              "      <td>NaN</td>\n",
              "    </tr>\n",
              "    <tr>\n",
              "      <th>4</th>\n",
              "      <td>F112Q4005357</td>\n",
              "      <td>201901</td>\n",
              "      <td>87611.90</td>\n",
              "      <td>0</td>\n",
              "      <td>74</td>\n",
              "      <td>286</td>\n",
              "      <td>NaN</td>\n",
              "      <td>NaN</td>\n",
              "      <td>NaN</td>\n",
              "      <td>NaN</td>\n",
              "      <td>3.449</td>\n",
              "      <td>0.0</td>\n",
              "      <td>NaN</td>\n",
              "      <td>NaN</td>\n",
              "      <td>NaN</td>\n",
              "      <td>NaN</td>\n",
              "      <td>NaN</td>\n",
              "      <td>NaN</td>\n",
              "      <td>NaN</td>\n",
              "      <td>NaN</td>\n",
              "      <td>NaN</td>\n",
              "      <td>NaN</td>\n",
              "      <td>NaN</td>\n",
              "      <td>NaN</td>\n",
              "      <td>NaN</td>\n",
              "      <td>61.9</td>\n",
              "    </tr>\n",
              "  </tbody>\n",
              "</table>\n",
              "</div>"
            ],
            "text/plain": [
              "  loan_sequence_number  ...  estimated_ltv\n",
              "0         F112Q3022742  ...           60.1\n",
              "1         F112Q3052305  ...           47.9\n",
              "2         F112Q3188392  ...           61.3\n",
              "3         F112Q4003161  ...            NaN\n",
              "4         F112Q4005357  ...           61.9\n",
              "\n",
              "[5 rows x 26 columns]"
            ]
          },
          "metadata": {
            "tags": []
          },
          "execution_count": 6
        }
      ]
    },
    {
      "cell_type": "code",
      "metadata": {
        "id": "TChdM2-8yZsn",
        "colab_type": "code",
        "outputId": "2673564d-2753-4fc1-f0e6-478dbe525987",
        "colab": {
          "base_uri": "https://localhost:8080/",
          "height": 304
        }
      },
      "source": [
        "update_df.describe()"
      ],
      "execution_count": 7,
      "outputs": [
        {
          "output_type": "execute_result",
          "data": {
            "text/html": [
              "<div>\n",
              "<style scoped>\n",
              "    .dataframe tbody tr th:only-of-type {\n",
              "        vertical-align: middle;\n",
              "    }\n",
              "\n",
              "    .dataframe tbody tr th {\n",
              "        vertical-align: top;\n",
              "    }\n",
              "\n",
              "    .dataframe thead th {\n",
              "        text-align: right;\n",
              "    }\n",
              "</style>\n",
              "<table border=\"1\" class=\"dataframe\">\n",
              "  <thead>\n",
              "    <tr style=\"text-align: right;\">\n",
              "      <th></th>\n",
              "      <th>monthly_reporting_period</th>\n",
              "      <th>current_actual_upb</th>\n",
              "      <th>loan_age</th>\n",
              "      <th>months_to_maturity</th>\n",
              "      <th>zero_balance_code</th>\n",
              "      <th>zero_balance_date</th>\n",
              "      <th>current_interest_rate</th>\n",
              "      <th>current_deffered_upb</th>\n",
              "      <th>ddlpi</th>\n",
              "      <th>mi_recoveries</th>\n",
              "      <th>non_mi_recoveries</th>\n",
              "      <th>expenses</th>\n",
              "      <th>legal_costs</th>\n",
              "      <th>maintenance_preservation_costs</th>\n",
              "      <th>taxes_insurance</th>\n",
              "      <th>misc_expenses</th>\n",
              "      <th>actual_loss_calculation</th>\n",
              "      <th>modification_cost</th>\n",
              "      <th>estimated_ltv</th>\n",
              "    </tr>\n",
              "  </thead>\n",
              "  <tbody>\n",
              "    <tr>\n",
              "      <th>count</th>\n",
              "      <td>3.139431e+06</td>\n",
              "      <td>3.139431e+06</td>\n",
              "      <td>3.139431e+06</td>\n",
              "      <td>3.139431e+06</td>\n",
              "      <td>41675.000000</td>\n",
              "      <td>41675.000000</td>\n",
              "      <td>3.139431e+06</td>\n",
              "      <td>3.139431e+06</td>\n",
              "      <td>3051.000000</td>\n",
              "      <td>2028.000000</td>\n",
              "      <td>2028.000000</td>\n",
              "      <td>2028.000000</td>\n",
              "      <td>2028.000000</td>\n",
              "      <td>2028.000000</td>\n",
              "      <td>2028.000000</td>\n",
              "      <td>2028.000000</td>\n",
              "      <td>2028.000000</td>\n",
              "      <td>70053.000000</td>\n",
              "      <td>629260.000000</td>\n",
              "    </tr>\n",
              "    <tr>\n",
              "      <th>mean</th>\n",
              "      <td>2.014252e+05</td>\n",
              "      <td>1.703254e+05</td>\n",
              "      <td>5.017247e+01</td>\n",
              "      <td>2.710650e+02</td>\n",
              "      <td>1.344331</td>\n",
              "      <td>201354.886335</td>\n",
              "      <td>4.722770e+00</td>\n",
              "      <td>2.182818e+02</td>\n",
              "      <td>201271.180597</td>\n",
              "      <td>8614.080868</td>\n",
              "      <td>5477.325444</td>\n",
              "      <td>-15373.760355</td>\n",
              "      <td>-3316.919625</td>\n",
              "      <td>-4857.492604</td>\n",
              "      <td>-6563.236686</td>\n",
              "      <td>-636.146943</td>\n",
              "      <td>-68557.753452</td>\n",
              "      <td>438.475429</td>\n",
              "      <td>53.192386</td>\n",
              "    </tr>\n",
              "    <tr>\n",
              "      <th>std</th>\n",
              "      <td>2.730069e+02</td>\n",
              "      <td>1.087168e+05</td>\n",
              "      <td>4.042225e+01</td>\n",
              "      <td>8.316521e+01</td>\n",
              "      <td>1.727437</td>\n",
              "      <td>256.874615</td>\n",
              "      <td>1.121410e+00</td>\n",
              "      <td>3.855349e+03</td>\n",
              "      <td>358.093056</td>\n",
              "      <td>20207.430619</td>\n",
              "      <td>24944.967943</td>\n",
              "      <td>17280.219500</td>\n",
              "      <td>2790.270690</td>\n",
              "      <td>7616.040555</td>\n",
              "      <td>11070.149293</td>\n",
              "      <td>5896.273212</td>\n",
              "      <td>61934.478349</td>\n",
              "      <td>4671.589954</td>\n",
              "      <td>20.408147</td>\n",
              "    </tr>\n",
              "    <tr>\n",
              "      <th>min</th>\n",
              "      <td>2.010010e+05</td>\n",
              "      <td>0.000000e+00</td>\n",
              "      <td>0.000000e+00</td>\n",
              "      <td>-1.000000e+00</td>\n",
              "      <td>1.000000</td>\n",
              "      <td>201001.000000</td>\n",
              "      <td>0.000000e+00</td>\n",
              "      <td>0.000000e+00</td>\n",
              "      <td>200705.000000</td>\n",
              "      <td>0.000000</td>\n",
              "      <td>-7853.000000</td>\n",
              "      <td>-160298.000000</td>\n",
              "      <td>-41199.000000</td>\n",
              "      <td>-65821.000000</td>\n",
              "      <td>-125312.000000</td>\n",
              "      <td>-25841.000000</td>\n",
              "      <td>-520030.000000</td>\n",
              "      <td>-2243.530000</td>\n",
              "      <td>0.000000</td>\n",
              "    </tr>\n",
              "    <tr>\n",
              "      <th>25%</th>\n",
              "      <td>2.012030e+05</td>\n",
              "      <td>9.009045e+04</td>\n",
              "      <td>1.800000e+01</td>\n",
              "      <td>2.130000e+02</td>\n",
              "      <td>1.000000</td>\n",
              "      <td>201112.000000</td>\n",
              "      <td>3.875000e+00</td>\n",
              "      <td>0.000000e+00</td>\n",
              "      <td>201003.000000</td>\n",
              "      <td>0.000000</td>\n",
              "      <td>153.750000</td>\n",
              "      <td>-20771.000000</td>\n",
              "      <td>-4635.250000</td>\n",
              "      <td>-6103.500000</td>\n",
              "      <td>-7949.500000</td>\n",
              "      <td>-1032.000000</td>\n",
              "      <td>-100212.500000</td>\n",
              "      <td>0.000000</td>\n",
              "      <td>38.900000</td>\n",
              "    </tr>\n",
              "    <tr>\n",
              "      <th>50%</th>\n",
              "      <td>2.014100e+05</td>\n",
              "      <td>1.455604e+05</td>\n",
              "      <td>4.000000e+01</td>\n",
              "      <td>2.980000e+02</td>\n",
              "      <td>1.000000</td>\n",
              "      <td>201305.000000</td>\n",
              "      <td>4.625000e+00</td>\n",
              "      <td>0.000000e+00</td>\n",
              "      <td>201112.000000</td>\n",
              "      <td>0.000000</td>\n",
              "      <td>1025.000000</td>\n",
              "      <td>-11301.000000</td>\n",
              "      <td>-3051.000000</td>\n",
              "      <td>-1934.000000</td>\n",
              "      <td>-3593.000000</td>\n",
              "      <td>-400.000000</td>\n",
              "      <td>-56666.500000</td>\n",
              "      <td>0.000000</td>\n",
              "      <td>54.900000</td>\n",
              "    </tr>\n",
              "    <tr>\n",
              "      <th>75%</th>\n",
              "      <td>2.017020e+05</td>\n",
              "      <td>2.288113e+05</td>\n",
              "      <td>7.300000e+01</td>\n",
              "      <td>3.360000e+02</td>\n",
              "      <td>1.000000</td>\n",
              "      <td>201603.000000</td>\n",
              "      <td>5.625000e+00</td>\n",
              "      <td>0.000000e+00</td>\n",
              "      <td>201603.000000</td>\n",
              "      <td>0.000000</td>\n",
              "      <td>2291.750000</td>\n",
              "      <td>-4871.250000</td>\n",
              "      <td>-1533.000000</td>\n",
              "      <td>-80.000000</td>\n",
              "      <td>-1144.750000</td>\n",
              "      <td>-220.000000</td>\n",
              "      <td>-23757.750000</td>\n",
              "      <td>0.000000</td>\n",
              "      <td>68.300000</td>\n",
              "    </tr>\n",
              "    <tr>\n",
              "      <th>max</th>\n",
              "      <td>2.019030e+05</td>\n",
              "      <td>1.203000e+06</td>\n",
              "      <td>2.410000e+02</td>\n",
              "      <td>4.800000e+02</td>\n",
              "      <td>15.000000</td>\n",
              "      <td>201903.000000</td>\n",
              "      <td>3.750000e+01</td>\n",
              "      <td>1.889712e+05</td>\n",
              "      <td>201901.000000</td>\n",
              "      <td>164453.000000</td>\n",
              "      <td>344156.000000</td>\n",
              "      <td>187918.000000</td>\n",
              "      <td>0.000000</td>\n",
              "      <td>0.000000</td>\n",
              "      <td>61264.000000</td>\n",
              "      <td>258299.000000</td>\n",
              "      <td>55007.000000</td>\n",
              "      <td>167815.930000</td>\n",
              "      <td>414.600000</td>\n",
              "    </tr>\n",
              "  </tbody>\n",
              "</table>\n",
              "</div>"
            ],
            "text/plain": [
              "       monthly_reporting_period  ...  estimated_ltv\n",
              "count              3.139431e+06  ...  629260.000000\n",
              "mean               2.014252e+05  ...      53.192386\n",
              "std                2.730069e+02  ...      20.408147\n",
              "min                2.010010e+05  ...       0.000000\n",
              "25%                2.012030e+05  ...      38.900000\n",
              "50%                2.014100e+05  ...      54.900000\n",
              "75%                2.017020e+05  ...      68.300000\n",
              "max                2.019030e+05  ...     414.600000\n",
              "\n",
              "[8 rows x 19 columns]"
            ]
          },
          "metadata": {
            "tags": []
          },
          "execution_count": 7
        }
      ]
    },
    {
      "cell_type": "markdown",
      "metadata": {
        "id": "KKHBvg-_9VMZ",
        "colab_type": "text"
      },
      "source": [
        "#Now we begin manipulating the origination data to gain insights\n",
        "\n",
        "First, lets create the field \"Year\" so that we can sort/manipulated by year of origination when we need to."
      ]
    },
    {
      "cell_type": "code",
      "metadata": {
        "id": "UUPY4D1jQZgb",
        "colab_type": "code",
        "colab": {}
      },
      "source": [
        "orig_df.insert(2, \"Year\", value=orig_df[\"first_payment_date\"])\n",
        "orig_df[\"Year\"] = orig_df[\"Year\"].floordiv(100)"
      ],
      "execution_count": 0,
      "outputs": []
    },
    {
      "cell_type": "markdown",
      "metadata": {
        "id": "w4DUIFIRQdqc",
        "colab_type": "text"
      },
      "source": [
        "## Let's begin by looking at the proportion of First Time Home Buyers:"
      ]
    },
    {
      "cell_type": "code",
      "metadata": {
        "id": "Mly-D9vWudtY",
        "colab_type": "code",
        "outputId": "5705b30d-757e-4dfd-8e48-120ea74c566b",
        "colab": {
          "base_uri": "https://localhost:8080/",
          "height": 87
        }
      },
      "source": [
        "# First Time Home Buyer Flag\n",
        "homebuyer_counts = orig_df['first_time_homebuyer_flag'].value_counts()\n",
        "homebuyer_counts"
      ],
      "execution_count": 9,
      "outputs": [
        {
          "output_type": "execute_result",
          "data": {
            "text/plain": [
              "N    55580\n",
              "9    35378\n",
              "Y    11229\n",
              "Name: first_time_homebuyer_flag, dtype: int64"
            ]
          },
          "metadata": {
            "tags": []
          },
          "execution_count": 9
        }
      ]
    },
    {
      "cell_type": "code",
      "metadata": {
        "id": "M6cRGWJO4NwX",
        "colab_type": "code",
        "outputId": "0e2eab4e-4e15-4cfa-e26c-d37b4b3f9819",
        "colab": {
          "base_uri": "https://localhost:8080/",
          "height": 34
        }
      },
      "source": [
        "percentage_of_buyers = homebuyer_counts['Y']/homebuyer_counts.sum() * 100\n",
        "percentage_of_buyers"
      ],
      "execution_count": 10,
      "outputs": [
        {
          "output_type": "execute_result",
          "data": {
            "text/plain": [
              "10.988677620440956"
            ]
          },
          "metadata": {
            "tags": []
          },
          "execution_count": 10
        }
      ]
    },
    {
      "cell_type": "code",
      "metadata": {
        "id": "RUrxVJPS5OY_",
        "colab_type": "code",
        "outputId": "26b963e9-8537-4629-8d21-4cd715522e6b",
        "colab": {
          "base_uri": "https://localhost:8080/",
          "height": 429
        }
      },
      "source": [
        "plt.figure(num=None, figsize=(12, 6), dpi=80, facecolor='w', edgecolor='k')\n",
        "plt.axes(ylabel=\"Number of Loans\")\n",
        "plt.title(\"Number of First-Time Home Buyers vs Others\")\n",
        "\n",
        "plt.bar([\"Not First-Time Homebuyers\", \"Data Not Available\", \"First-Time Homebuyers\"], homebuyer_counts, color=[\"red\", \"orange\", \"gold\"])\n",
        "\n",
        "plt.savefig('/content/drive/My Drive/SENSO_ASSIGNMENT/dist_first_time_buyers.png')"
      ],
      "execution_count": 11,
      "outputs": [
        {
          "output_type": "display_data",
          "data": {
            "image/png": "[encoded data removed]",
            "text/plain": [
              "<Figure size 960x480 with 1 Axes>"
            ]
          },
          "metadata": {
            "tags": []
          }
        }
      ]
    },
    {
      "cell_type": "code",
      "metadata": {
        "id": "OijxSaCcq1DB",
        "colab_type": "code",
        "outputId": "18f17a51-c71c-4038-8875-69649bb05aa8",
        "colab": {
          "base_uri": "https://localhost:8080/",
          "height": 412
        }
      },
      "source": [
        "plt.figure(num=None, figsize=(12, 6), dpi=80, facecolor='w', edgecolor='k')\n",
        "plt.title(\"Proportion of First-Time Home Buyers vs Others (Including Missing Values)\")\n",
        "\n",
        "plt.pie(homebuyer_counts, explode=[0,0,0.2],colors=[\"red\", \"orange\", \"gold\"] , labels=[\"Not First-Time Homebuyers\", \"Data Not Available\", \"First-Time Home Buyers \\n = 11%\" ] )\n",
        "\n",
        "plt.savefig('dist_first_time_buyers_pie.png')"
      ],
      "execution_count": 12,
      "outputs": [
        {
          "output_type": "display_data",
          "data": {
            "image/png": "[encoded data removed]",
            "text/plain": [
              "<Figure size 960x480 with 1 Axes>"
            ]
          },
          "metadata": {
            "tags": []
          }
        }
      ]
    },
    {
      "cell_type": "code",
      "metadata": {
        "id": "P3tRDjZFnmUT",
        "colab_type": "code",
        "outputId": "e77f4ef5-ef04-40aa-f8d4-0f526621c6ea",
        "colab": {
          "base_uri": "https://localhost:8080/",
          "height": 412
        }
      },
      "source": [
        "plt.figure(num=None, figsize=(12, 6), dpi=80, facecolor='w', edgecolor='k')\n",
        "plt.title(\"Proportion of First-Time Home Buyers vs Others (Excluding Missing Values)\")\n",
        "\n",
        "plt.pie(homebuyer_counts.drop(['9'], axis=0), explode=[0,0.2],colors=[\"red\", \"gold\"] , labels=[\"Not First-Time Homebuyers\", \"First-Time Home Buyers \\n = 16.8%\"],  )\n",
        "\n",
        "plt.savefig('dist_first_time_buyers_pie_fixed.png')"
      ],
      "execution_count": 13,
      "outputs": [
        {
          "output_type": "display_data",
          "data": {
            "image/png": "[encoded data removed]",
            "text/plain": [
              "<Figure size 960x480 with 1 Axes>"
            ]
          },
          "metadata": {
            "tags": []
          }
        }
      ]
    },
    {
      "cell_type": "markdown",
      "metadata": {
        "id": "S39Ekygq_AJM",
        "colab_type": "text"
      },
      "source": [
        "## Now lets consider the proportion of first time home buyers by month\n",
        "We're going to assume that the month of first payment is the month of closure."
      ]
    },
    {
      "cell_type": "code",
      "metadata": {
        "id": "4O6_Clb_AZQE",
        "colab_type": "code",
        "outputId": "f6cc043e-0af7-4f6e-c467-a08ec58c5981",
        "colab": {
          "base_uri": "https://localhost:8080/",
          "height": 633
        }
      },
      "source": [
        "homebuyers_df = orig_df[orig_df[\"first_time_homebuyer_flag\"] == 'Y']\n",
        "both_df = orig_df[orig_df[\"first_time_homebuyer_flag\"] != '9']\n",
        "\n",
        "homebuyers_df.insert(loc=2, column=\"Month\", value=homebuyers_df[\"first_payment_date\"])\n",
        "both_df.insert(loc=2, column=\"Month\", value=both_df[\"first_payment_date\"])\n",
        "\n",
        "# Last two digits of first_payment_date \n",
        "homebuyers_df[\"Month\"] = homebuyers_df[\"Month\"].mod(100)\n",
        "both_df[\"Month\"] = both_df[\"Month\"].mod(100)\n",
        "\n",
        "\n",
        "both_df\n",
        "# homebuyers_df"
      ],
      "execution_count": 14,
      "outputs": [
        {
          "output_type": "stream",
          "text": [
            "/usr/local/lib/python3.6/dist-packages/ipykernel_launcher.py:8: SettingWithCopyWarning: \n",
            "A value is trying to be set on a copy of a slice from a DataFrame.\n",
            "Try using .loc[row_indexer,col_indexer] = value instead\n",
            "\n",
            "See the caveats in the documentation: http://pandas.pydata.org/pandas-docs/stable/user_guide/indexing.html#returning-a-view-versus-a-copy\n",
            "  \n",
            "/usr/local/lib/python3.6/dist-packages/ipykernel_launcher.py:9: SettingWithCopyWarning: \n",
            "A value is trying to be set on a copy of a slice from a DataFrame.\n",
            "Try using .loc[row_indexer,col_indexer] = value instead\n",
            "\n",
            "See the caveats in the documentation: http://pandas.pydata.org/pandas-docs/stable/user_guide/indexing.html#returning-a-view-versus-a-copy\n",
            "  if __name__ == '__main__':\n"
          ],
          "name": "stderr"
        },
        {
          "output_type": "execute_result",
          "data": {
            "text/html": [
              "<div>\n",
              "<style scoped>\n",
              "    .dataframe tbody tr th:only-of-type {\n",
              "        vertical-align: middle;\n",
              "    }\n",
              "\n",
              "    .dataframe tbody tr th {\n",
              "        vertical-align: top;\n",
              "    }\n",
              "\n",
              "    .dataframe thead th {\n",
              "        text-align: right;\n",
              "    }\n",
              "</style>\n",
              "<table border=\"1\" class=\"dataframe\">\n",
              "  <thead>\n",
              "    <tr style=\"text-align: right;\">\n",
              "      <th></th>\n",
              "      <th>credit_score</th>\n",
              "      <th>first_payment_date</th>\n",
              "      <th>Month</th>\n",
              "      <th>Year</th>\n",
              "      <th>first_time_homebuyer_flag</th>\n",
              "      <th>maturity_date</th>\n",
              "      <th>msa</th>\n",
              "      <th>mi_percentage</th>\n",
              "      <th>num_units</th>\n",
              "      <th>occupancy_status</th>\n",
              "      <th>cltv</th>\n",
              "      <th>dti_ratio</th>\n",
              "      <th>original_upb</th>\n",
              "      <th>original_ltv</th>\n",
              "      <th>original_rate</th>\n",
              "      <th>channel</th>\n",
              "      <th>ppm_flag</th>\n",
              "      <th>product_type</th>\n",
              "      <th>property_state</th>\n",
              "      <th>property_type</th>\n",
              "      <th>postal_code</th>\n",
              "      <th>loan_sequence_number</th>\n",
              "      <th>loan_purpose</th>\n",
              "      <th>original_loan_term</th>\n",
              "      <th>num_borrowers</th>\n",
              "      <th>seller_name</th>\n",
              "      <th>servicer_name</th>\n",
              "      <th>super_conforming_flag</th>\n",
              "      <th>pre_harp_lsn</th>\n",
              "    </tr>\n",
              "  </thead>\n",
              "  <tbody>\n",
              "    <tr>\n",
              "      <th>0</th>\n",
              "      <td>806</td>\n",
              "      <td>200911</td>\n",
              "      <td>11</td>\n",
              "      <td>2009</td>\n",
              "      <td>N</td>\n",
              "      <td>203910</td>\n",
              "      <td>42044.0</td>\n",
              "      <td>0</td>\n",
              "      <td>1</td>\n",
              "      <td>P</td>\n",
              "      <td>6</td>\n",
              "      <td>27</td>\n",
              "      <td>47000</td>\n",
              "      <td>6</td>\n",
              "      <td>5.500</td>\n",
              "      <td>R</td>\n",
              "      <td>N</td>\n",
              "      <td>FRM</td>\n",
              "      <td>CA</td>\n",
              "      <td>SF</td>\n",
              "      <td>92600.0</td>\n",
              "      <td>F109Q3265444</td>\n",
              "      <td>C</td>\n",
              "      <td>360</td>\n",
              "      <td>1</td>\n",
              "      <td>CITIMORTGAGE,INC</td>\n",
              "      <td>CITIMORTGAGE,INC</td>\n",
              "      <td>NaN</td>\n",
              "      <td>NaN</td>\n",
              "    </tr>\n",
              "    <tr>\n",
              "      <th>7</th>\n",
              "      <td>768</td>\n",
              "      <td>200801</td>\n",
              "      <td>1</td>\n",
              "      <td>2008</td>\n",
              "      <td>N</td>\n",
              "      <td>203712</td>\n",
              "      <td>42060.0</td>\n",
              "      <td>0</td>\n",
              "      <td>1</td>\n",
              "      <td>P</td>\n",
              "      <td>7</td>\n",
              "      <td>19</td>\n",
              "      <td>80000</td>\n",
              "      <td>7</td>\n",
              "      <td>6.125</td>\n",
              "      <td>T</td>\n",
              "      <td>N</td>\n",
              "      <td>FRM</td>\n",
              "      <td>CA</td>\n",
              "      <td>SF</td>\n",
              "      <td>93100.0</td>\n",
              "      <td>F107Q4154148</td>\n",
              "      <td>C</td>\n",
              "      <td>360</td>\n",
              "      <td>1</td>\n",
              "      <td>WELLSFARGOBANK,NA</td>\n",
              "      <td>WELLSFARGOBANK,NA</td>\n",
              "      <td>NaN</td>\n",
              "      <td>NaN</td>\n",
              "    </tr>\n",
              "    <tr>\n",
              "      <th>8</th>\n",
              "      <td>766</td>\n",
              "      <td>201012</td>\n",
              "      <td>12</td>\n",
              "      <td>2010</td>\n",
              "      <td>N</td>\n",
              "      <td>204011</td>\n",
              "      <td>40900.0</td>\n",
              "      <td>0</td>\n",
              "      <td>1</td>\n",
              "      <td>S</td>\n",
              "      <td>7</td>\n",
              "      <td>39</td>\n",
              "      <td>100000</td>\n",
              "      <td>7</td>\n",
              "      <td>4.500</td>\n",
              "      <td>C</td>\n",
              "      <td>N</td>\n",
              "      <td>FRM</td>\n",
              "      <td>CA</td>\n",
              "      <td>PU</td>\n",
              "      <td>96100.0</td>\n",
              "      <td>F110Q4115379</td>\n",
              "      <td>N</td>\n",
              "      <td>360</td>\n",
              "      <td>2</td>\n",
              "      <td>PHHMTGECORP</td>\n",
              "      <td>NEWRESIDENTIALMTGELL</td>\n",
              "      <td>NaN</td>\n",
              "      <td>NaN</td>\n",
              "    </tr>\n",
              "    <tr>\n",
              "      <th>10</th>\n",
              "      <td>803</td>\n",
              "      <td>200711</td>\n",
              "      <td>11</td>\n",
              "      <td>2007</td>\n",
              "      <td>Y</td>\n",
              "      <td>203710</td>\n",
              "      <td>37964.0</td>\n",
              "      <td>0</td>\n",
              "      <td>1</td>\n",
              "      <td>P</td>\n",
              "      <td>75</td>\n",
              "      <td>41</td>\n",
              "      <td>30000</td>\n",
              "      <td>8</td>\n",
              "      <td>6.500</td>\n",
              "      <td>R</td>\n",
              "      <td>N</td>\n",
              "      <td>FRM</td>\n",
              "      <td>PA</td>\n",
              "      <td>SF</td>\n",
              "      <td>19300.0</td>\n",
              "      <td>F107Q3213864</td>\n",
              "      <td>P</td>\n",
              "      <td>360</td>\n",
              "      <td>1</td>\n",
              "      <td>CITIMORTGAGE,INC</td>\n",
              "      <td>CITIMORTGAGE,INC</td>\n",
              "      <td>NaN</td>\n",
              "      <td>NaN</td>\n",
              "    </tr>\n",
              "    <tr>\n",
              "      <th>12</th>\n",
              "      <td>706</td>\n",
              "      <td>200304</td>\n",
              "      <td>4</td>\n",
              "      <td>2003</td>\n",
              "      <td>N</td>\n",
              "      <td>203303</td>\n",
              "      <td>28140.0</td>\n",
              "      <td>0</td>\n",
              "      <td>1</td>\n",
              "      <td>P</td>\n",
              "      <td>8</td>\n",
              "      <td>48</td>\n",
              "      <td>90000</td>\n",
              "      <td>8</td>\n",
              "      <td>5.875</td>\n",
              "      <td>R</td>\n",
              "      <td>N</td>\n",
              "      <td>FRM</td>\n",
              "      <td>KS</td>\n",
              "      <td>SF</td>\n",
              "      <td>66200.0</td>\n",
              "      <td>F103Q1081645</td>\n",
              "      <td>C</td>\n",
              "      <td>360</td>\n",
              "      <td>1</td>\n",
              "      <td>Other sellers</td>\n",
              "      <td>WELLSFARGOBANK,NA</td>\n",
              "      <td>NaN</td>\n",
              "      <td>NaN</td>\n",
              "    </tr>\n",
              "    <tr>\n",
              "      <th>...</th>\n",
              "      <td>...</td>\n",
              "      <td>...</td>\n",
              "      <td>...</td>\n",
              "      <td>...</td>\n",
              "      <td>...</td>\n",
              "      <td>...</td>\n",
              "      <td>...</td>\n",
              "      <td>...</td>\n",
              "      <td>...</td>\n",
              "      <td>...</td>\n",
              "      <td>...</td>\n",
              "      <td>...</td>\n",
              "      <td>...</td>\n",
              "      <td>...</td>\n",
              "      <td>...</td>\n",
              "      <td>...</td>\n",
              "      <td>...</td>\n",
              "      <td>...</td>\n",
              "      <td>...</td>\n",
              "      <td>...</td>\n",
              "      <td>...</td>\n",
              "      <td>...</td>\n",
              "      <td>...</td>\n",
              "      <td>...</td>\n",
              "      <td>...</td>\n",
              "      <td>...</td>\n",
              "      <td>...</td>\n",
              "      <td>...</td>\n",
              "      <td>...</td>\n",
              "    </tr>\n",
              "    <tr>\n",
              "      <th>102180</th>\n",
              "      <td>800</td>\n",
              "      <td>200908</td>\n",
              "      <td>8</td>\n",
              "      <td>2009</td>\n",
              "      <td>N</td>\n",
              "      <td>203907</td>\n",
              "      <td>NaN</td>\n",
              "      <td>0</td>\n",
              "      <td>1</td>\n",
              "      <td>P</td>\n",
              "      <td>999</td>\n",
              "      <td>15</td>\n",
              "      <td>62000</td>\n",
              "      <td>999</td>\n",
              "      <td>4.990</td>\n",
              "      <td>R</td>\n",
              "      <td>N</td>\n",
              "      <td>FRM</td>\n",
              "      <td>MI</td>\n",
              "      <td>SF</td>\n",
              "      <td>49700.0</td>\n",
              "      <td>F109Q2445354</td>\n",
              "      <td>C</td>\n",
              "      <td>360</td>\n",
              "      <td>2</td>\n",
              "      <td>Other sellers</td>\n",
              "      <td>Other servicers</td>\n",
              "      <td>NaN</td>\n",
              "      <td>NaN</td>\n",
              "    </tr>\n",
              "    <tr>\n",
              "      <th>102181</th>\n",
              "      <td>801</td>\n",
              "      <td>200509</td>\n",
              "      <td>9</td>\n",
              "      <td>2005</td>\n",
              "      <td>N</td>\n",
              "      <td>202008</td>\n",
              "      <td>41060.0</td>\n",
              "      <td>0</td>\n",
              "      <td>1</td>\n",
              "      <td>P</td>\n",
              "      <td>999</td>\n",
              "      <td>31</td>\n",
              "      <td>57000</td>\n",
              "      <td>999</td>\n",
              "      <td>4.875</td>\n",
              "      <td>T</td>\n",
              "      <td>N</td>\n",
              "      <td>FRM</td>\n",
              "      <td>MN</td>\n",
              "      <td>SF</td>\n",
              "      <td>56300.0</td>\n",
              "      <td>F105Q3459149</td>\n",
              "      <td>N</td>\n",
              "      <td>180</td>\n",
              "      <td>1</td>\n",
              "      <td>WASHINGTONMUTUALBANK</td>\n",
              "      <td>WELLSFARGOBANK,NA</td>\n",
              "      <td>NaN</td>\n",
              "      <td>NaN</td>\n",
              "    </tr>\n",
              "    <tr>\n",
              "      <th>102182</th>\n",
              "      <td>742</td>\n",
              "      <td>200009</td>\n",
              "      <td>9</td>\n",
              "      <td>2000</td>\n",
              "      <td>Y</td>\n",
              "      <td>203008</td>\n",
              "      <td>43300.0</td>\n",
              "      <td>30</td>\n",
              "      <td>1</td>\n",
              "      <td>P</td>\n",
              "      <td>999</td>\n",
              "      <td>37</td>\n",
              "      <td>99000</td>\n",
              "      <td>999</td>\n",
              "      <td>8.375</td>\n",
              "      <td>T</td>\n",
              "      <td>N</td>\n",
              "      <td>FRM</td>\n",
              "      <td>TX</td>\n",
              "      <td>SF</td>\n",
              "      <td>75000.0</td>\n",
              "      <td>F100Q3159248</td>\n",
              "      <td>P</td>\n",
              "      <td>360</td>\n",
              "      <td>1</td>\n",
              "      <td>CHASEMANHATTANMTGECO</td>\n",
              "      <td>CHASEMTGECO</td>\n",
              "      <td>NaN</td>\n",
              "      <td>NaN</td>\n",
              "    </tr>\n",
              "    <tr>\n",
              "      <th>102183</th>\n",
              "      <td>795</td>\n",
              "      <td>200704</td>\n",
              "      <td>4</td>\n",
              "      <td>2007</td>\n",
              "      <td>N</td>\n",
              "      <td>202303</td>\n",
              "      <td>31084.0</td>\n",
              "      <td>0</td>\n",
              "      <td>1</td>\n",
              "      <td>P</td>\n",
              "      <td>999</td>\n",
              "      <td>5</td>\n",
              "      <td>18000</td>\n",
              "      <td>999</td>\n",
              "      <td>6.500</td>\n",
              "      <td>R</td>\n",
              "      <td>N</td>\n",
              "      <td>FRM</td>\n",
              "      <td>CA</td>\n",
              "      <td>SF</td>\n",
              "      <td>91700.0</td>\n",
              "      <td>F107Q1307369</td>\n",
              "      <td>N</td>\n",
              "      <td>192</td>\n",
              "      <td>1</td>\n",
              "      <td>BANKOFAMERICA,NA</td>\n",
              "      <td>BANKOFAMERICA,NA</td>\n",
              "      <td>NaN</td>\n",
              "      <td>NaN</td>\n",
              "    </tr>\n",
              "    <tr>\n",
              "      <th>102185</th>\n",
              "      <td>800</td>\n",
              "      <td>200605</td>\n",
              "      <td>5</td>\n",
              "      <td>2006</td>\n",
              "      <td>N</td>\n",
              "      <td>202104</td>\n",
              "      <td>42200.0</td>\n",
              "      <td>0</td>\n",
              "      <td>1</td>\n",
              "      <td>P</td>\n",
              "      <td>999</td>\n",
              "      <td>20</td>\n",
              "      <td>75000</td>\n",
              "      <td>999</td>\n",
              "      <td>5.875</td>\n",
              "      <td>R</td>\n",
              "      <td>N</td>\n",
              "      <td>FRM</td>\n",
              "      <td>CA</td>\n",
              "      <td>CO</td>\n",
              "      <td>93100.0</td>\n",
              "      <td>F106Q1303706</td>\n",
              "      <td>C</td>\n",
              "      <td>180</td>\n",
              "      <td>1</td>\n",
              "      <td>CHASEHOMEFINANCELLC</td>\n",
              "      <td>JPMORGANCHASEBANK,NA</td>\n",
              "      <td>NaN</td>\n",
              "      <td>NaN</td>\n",
              "    </tr>\n",
              "  </tbody>\n",
              "</table>\n",
              "<p>66809 rows × 29 columns</p>\n",
              "</div>"
            ],
            "text/plain": [
              "        credit_score  first_payment_date  ...  super_conforming_flag  pre_harp_lsn\n",
              "0                806              200911  ...                    NaN           NaN\n",
              "7                768              200801  ...                    NaN           NaN\n",
              "8                766              201012  ...                    NaN           NaN\n",
              "10               803              200711  ...                    NaN           NaN\n",
              "12               706              200304  ...                    NaN           NaN\n",
              "...              ...                 ...  ...                    ...           ...\n",
              "102180           800              200908  ...                    NaN           NaN\n",
              "102181           801              200509  ...                    NaN           NaN\n",
              "102182           742              200009  ...                    NaN           NaN\n",
              "102183           795              200704  ...                    NaN           NaN\n",
              "102185           800              200605  ...                    NaN           NaN\n",
              "\n",
              "[66809 rows x 29 columns]"
            ]
          },
          "metadata": {
            "tags": []
          },
          "execution_count": 14
        }
      ]
    },
    {
      "cell_type": "code",
      "metadata": {
        "id": "2O-3e-x9H0hs",
        "colab_type": "code",
        "outputId": "9ab065ff-c86c-4105-fd2c-c3937748ca24",
        "colab": {
          "base_uri": "https://localhost:8080/",
          "height": 246
        }
      },
      "source": [
        "homebuyers_by_month = homebuyers_df[\"Month\"].value_counts()\n",
        "homebuyers_by_month.sort_index(inplace=True)\n",
        "homebuyers_by_month\n"
      ],
      "execution_count": 15,
      "outputs": [
        {
          "output_type": "execute_result",
          "data": {
            "text/plain": [
              "1      849\n",
              "2      862\n",
              "3      579\n",
              "4      702\n",
              "5      812\n",
              "6     1000\n",
              "7     1095\n",
              "8     1228\n",
              "9     1148\n",
              "10    1069\n",
              "11     969\n",
              "12     916\n",
              "Name: Month, dtype: int64"
            ]
          },
          "metadata": {
            "tags": []
          },
          "execution_count": 15
        }
      ]
    },
    {
      "cell_type": "code",
      "metadata": {
        "id": "YJZTN3sRIB1o",
        "colab_type": "code",
        "colab": {
          "base_uri": "https://localhost:8080/",
          "height": 246
        },
        "outputId": "6b68f166-0807-481d-b1c9-6d1874b115e8"
      },
      "source": [
        "both_by_month = both_df[\"Month\"].value_counts()\n",
        "both_by_month.sort_index(inplace=True)\n",
        "both_by_month"
      ],
      "execution_count": 16,
      "outputs": [
        {
          "output_type": "execute_result",
          "data": {
            "text/plain": [
              "1     5066\n",
              "2     4811\n",
              "3     4457\n",
              "4     5086\n",
              "5     5895\n",
              "6     5922\n",
              "7     6085\n",
              "8     6463\n",
              "9     6169\n",
              "10    5824\n",
              "11    5407\n",
              "12    5624\n",
              "Name: Month, dtype: int64"
            ]
          },
          "metadata": {
            "tags": []
          },
          "execution_count": 16
        }
      ]
    },
    {
      "cell_type": "code",
      "metadata": {
        "id": "vHTdavURIROT",
        "colab_type": "code",
        "colab": {}
      },
      "source": [
        "percentages_by_month = homebuyers_by_month.copy()\n",
        "percentages_by_month = percentages_by_month.divide(both_by_month).multiply(100)"
      ],
      "execution_count": 0,
      "outputs": []
    },
    {
      "cell_type": "code",
      "metadata": {
        "id": "-VMvIGNhLyZF",
        "colab_type": "code",
        "outputId": "b8353442-269c-4802-fd6f-61e5bfad7a7c",
        "colab": {
          "base_uri": "https://localhost:8080/",
          "height": 444
        }
      },
      "source": [
        "plt.figure(num=None, figsize=(12, 6), dpi=80, facecolor='w', edgecolor='k')\n",
        "plt.axes(xlabel=\"Month\", ylabel=\"Percentage First-Time Home Buyers per Month\")\n",
        "plt.title(\"Distribution of First-Time Home Buyers by Month\")\n",
        "\n",
        "\n",
        "plt.bar(['Jan', 'Feb', 'Mar', 'Apr', 'May', 'Jun', 'Jul', 'Aug', 'Sep', 'Oct', 'Nov', 'Dec'], percentages_by_month)\n",
        "\n",
        "plt.savefig('dist_first_time_month.png')\n"
      ],
      "execution_count": 18,
      "outputs": [
        {
          "output_type": "display_data",
          "data": {
            "image/png": "[encoded data removed]",
            "text/plain": [
              "<Figure size 960x480 with 1 Axes>"
            ]
          },
          "metadata": {
            "tags": []
          }
        }
      ]
    },
    {
      "cell_type": "markdown",
      "metadata": {
        "id": "BZunHByeOBLJ",
        "colab_type": "text"
      },
      "source": [
        "So we can conclude that between July and August, is the peak season for buying homes."
      ]
    },
    {
      "cell_type": "code",
      "metadata": {
        "id": "V8Z9fW-ixUfB",
        "colab_type": "code",
        "colab": {}
      },
      "source": [
        "homebuyers_by_year = homebuyers_df[\"Year\"].value_counts()\n",
        "homebuyers_by_year.sort_index(inplace=True)\n",
        "homebuyers_by_year\n",
        "\n",
        "both_by_year = both_df[\"Year\"].value_counts()\n",
        "both_by_year.sort_index(inplace=True)\n",
        "both_by_year\n",
        "\n",
        "percentages_by_year = homebuyers_by_year.copy()\n",
        "percentages_by_year = percentages_by_year.divide(both_by_year).multiply(100)"
      ],
      "execution_count": 0,
      "outputs": []
    },
    {
      "cell_type": "code",
      "metadata": {
        "id": "9YYj4HLtxf-b",
        "colab_type": "code",
        "outputId": "8ce4315c-ad24-4d69-dfc5-82f257b84a1f",
        "colab": {
          "base_uri": "https://localhost:8080/",
          "height": 444
        }
      },
      "source": [
        "plt.figure(num=None, figsize=(12, 6), dpi=80, facecolor='w', edgecolor='k')\n",
        "plt.axes(xlabel=\"Year\", ylabel=\"Percentage First-Time Home Buyers per year\")\n",
        "plt.title(\"Distribution of First-Time Home Buyers by Year\")\n",
        "\n",
        "\n",
        "plt.bar([str(x) for x in range(1999, 2019)], percentages_by_year, color=[\"crimson\"])\n",
        "plt.savefig('dist_first_time_year.png')\n"
      ],
      "execution_count": 20,
      "outputs": [
        {
          "output_type": "display_data",
          "data": {
            "image/png": "[encoded data removed]",
            "text/plain": [
              "<Figure size 960x480 with 1 Axes>"
            ]
          },
          "metadata": {
            "tags": []
          }
        }
      ]
    },
    {
      "cell_type": "code",
      "metadata": {
        "id": "UT_Q1DCfyUDt",
        "colab_type": "code",
        "outputId": "36361dde-8c7b-40c8-f5b1-cc9b093e7490",
        "colab": {
          "base_uri": "https://localhost:8080/",
          "height": 386
        }
      },
      "source": [
        "non_homebuyers_df = orig_df[orig_df[\"first_time_homebuyer_flag\"] == 'N']\n",
        "\n",
        "non_homebuyers_by_year = non_homebuyers_df[\"Year\"].value_counts()\n",
        "non_homebuyers_by_year.sort_index(inplace=True)\n",
        "non_homebuyers_by_year"
      ],
      "execution_count": 21,
      "outputs": [
        {
          "output_type": "execute_result",
          "data": {
            "text/plain": [
              "1999    2449\n",
              "2000    2022\n",
              "2001    3923\n",
              "2002    4520\n",
              "2003    5257\n",
              "2004    3373\n",
              "2005    5091\n",
              "2006    4105\n",
              "2007    3996\n",
              "2008    3809\n",
              "2009    5212\n",
              "2010    3519\n",
              "2011     947\n",
              "2012     771\n",
              "2013    1053\n",
              "2014    1178\n",
              "2015    1274\n",
              "2016    1437\n",
              "2017    1418\n",
              "2018     226\n",
              "Name: Year, dtype: int64"
            ]
          },
          "metadata": {
            "tags": []
          },
          "execution_count": 21
        }
      ]
    },
    {
      "cell_type": "code",
      "metadata": {
        "id": "RQX4h32PyiyZ",
        "colab_type": "code",
        "outputId": "f07110a4-84c8-40fc-b494-792991d1d1d9",
        "colab": {
          "base_uri": "https://localhost:8080/",
          "height": 444
        }
      },
      "source": [
        "plt.figure(num=None, figsize=(12, 6), dpi=80, facecolor='w', edgecolor='k')\n",
        "plt.axes(xlabel=\"Year\", ylabel=\"% Home Buyers per year\")\n",
        "plt.title(\"Percentage of First-Time Home Buyers by Year \")\n",
        "\n",
        "heights = homebuyers_by_year.div(homebuyers_by_year.add(non_homebuyers_by_year)).mul(100)\n",
        "\n",
        "# print(homebuyers_by_year)\n",
        "\n",
        "# print(non_homebuyers_by_year)\n",
        "\n",
        "# print(heights)\n",
        "\n",
        "plt.bar([str(x) for x in range(1999, 2019)], heights, color=[\"gold\"])\n",
        "\n",
        "plt.savefig('dist_percent_first_time_year.png')\n"
      ],
      "execution_count": 22,
      "outputs": [
        {
          "output_type": "display_data",
          "data": {
            "image/png": "[encoded data removed]",
            "text/plain": [
              "<Figure size 960x480 with 1 Axes>"
            ]
          },
          "metadata": {
            "tags": []
          }
        }
      ]
    },
    {
      "cell_type": "markdown",
      "metadata": {
        "id": "HfiBX7Lgxb60",
        "colab_type": "text"
      },
      "source": [
        "## Now lets consider geographical location:\n",
        "Which MSA's have the highest median original UPB?"
      ]
    },
    {
      "cell_type": "code",
      "metadata": {
        "id": "zsPB9dZmxm_C",
        "colab_type": "code",
        "outputId": "177926af-a8ce-4ed4-b8d0-31542becd665",
        "colab": {
          "base_uri": "https://localhost:8080/",
          "height": 195
        }
      },
      "source": [
        "orig_MSA_to_UPBdf = orig_df.filter(items=[\"msa\",\"original_upb\"])\n",
        "orig_MSA_to_UPBdf.head()"
      ],
      "execution_count": 23,
      "outputs": [
        {
          "output_type": "execute_result",
          "data": {
            "text/html": [
              "<div>\n",
              "<style scoped>\n",
              "    .dataframe tbody tr th:only-of-type {\n",
              "        vertical-align: middle;\n",
              "    }\n",
              "\n",
              "    .dataframe tbody tr th {\n",
              "        vertical-align: top;\n",
              "    }\n",
              "\n",
              "    .dataframe thead th {\n",
              "        text-align: right;\n",
              "    }\n",
              "</style>\n",
              "<table border=\"1\" class=\"dataframe\">\n",
              "  <thead>\n",
              "    <tr style=\"text-align: right;\">\n",
              "      <th></th>\n",
              "      <th>msa</th>\n",
              "      <th>original_upb</th>\n",
              "    </tr>\n",
              "  </thead>\n",
              "  <tbody>\n",
              "    <tr>\n",
              "      <th>0</th>\n",
              "      <td>42044.0</td>\n",
              "      <td>47000</td>\n",
              "    </tr>\n",
              "    <tr>\n",
              "      <th>1</th>\n",
              "      <td>41940.0</td>\n",
              "      <td>107000</td>\n",
              "    </tr>\n",
              "    <tr>\n",
              "      <th>2</th>\n",
              "      <td>35614.0</td>\n",
              "      <td>41000</td>\n",
              "    </tr>\n",
              "    <tr>\n",
              "      <th>3</th>\n",
              "      <td>34940.0</td>\n",
              "      <td>66000</td>\n",
              "    </tr>\n",
              "    <tr>\n",
              "      <th>4</th>\n",
              "      <td>12940.0</td>\n",
              "      <td>142000</td>\n",
              "    </tr>\n",
              "  </tbody>\n",
              "</table>\n",
              "</div>"
            ],
            "text/plain": [
              "       msa  original_upb\n",
              "0  42044.0         47000\n",
              "1  41940.0        107000\n",
              "2  35614.0         41000\n",
              "3  34940.0         66000\n",
              "4  12940.0        142000"
            ]
          },
          "metadata": {
            "tags": []
          },
          "execution_count": 23
        }
      ]
    },
    {
      "cell_type": "code",
      "metadata": {
        "id": "40QpMXJMymkj",
        "colab_type": "code",
        "outputId": "96aae94c-8431-4507-aea5-9826ccc4d0be",
        "colab": {
          "base_uri": "https://localhost:8080/",
          "height": 343
        }
      },
      "source": [
        "orig_MSA_to_UPBdf.sort_values(\"msa\", inplace=True)\n",
        "orig_MSA_to_UPBdf.dropna(\"index\", inplace=True)\n",
        "orig_MSA_to_UPBdf.head(10)"
      ],
      "execution_count": 24,
      "outputs": [
        {
          "output_type": "execute_result",
          "data": {
            "text/html": [
              "<div>\n",
              "<style scoped>\n",
              "    .dataframe tbody tr th:only-of-type {\n",
              "        vertical-align: middle;\n",
              "    }\n",
              "\n",
              "    .dataframe tbody tr th {\n",
              "        vertical-align: top;\n",
              "    }\n",
              "\n",
              "    .dataframe thead th {\n",
              "        text-align: right;\n",
              "    }\n",
              "</style>\n",
              "<table border=\"1\" class=\"dataframe\">\n",
              "  <thead>\n",
              "    <tr style=\"text-align: right;\">\n",
              "      <th></th>\n",
              "      <th>msa</th>\n",
              "      <th>original_upb</th>\n",
              "    </tr>\n",
              "  </thead>\n",
              "  <tbody>\n",
              "    <tr>\n",
              "      <th>14499</th>\n",
              "      <td>10180.0</td>\n",
              "      <td>52000</td>\n",
              "    </tr>\n",
              "    <tr>\n",
              "      <th>99978</th>\n",
              "      <td>10180.0</td>\n",
              "      <td>312000</td>\n",
              "    </tr>\n",
              "    <tr>\n",
              "      <th>99977</th>\n",
              "      <td>10180.0</td>\n",
              "      <td>100000</td>\n",
              "    </tr>\n",
              "    <tr>\n",
              "      <th>99976</th>\n",
              "      <td>10180.0</td>\n",
              "      <td>147000</td>\n",
              "    </tr>\n",
              "    <tr>\n",
              "      <th>76724</th>\n",
              "      <td>10180.0</td>\n",
              "      <td>64000</td>\n",
              "    </tr>\n",
              "    <tr>\n",
              "      <th>102140</th>\n",
              "      <td>10180.0</td>\n",
              "      <td>94000</td>\n",
              "    </tr>\n",
              "    <tr>\n",
              "      <th>76725</th>\n",
              "      <td>10180.0</td>\n",
              "      <td>240000</td>\n",
              "    </tr>\n",
              "    <tr>\n",
              "      <th>76727</th>\n",
              "      <td>10180.0</td>\n",
              "      <td>138000</td>\n",
              "    </tr>\n",
              "    <tr>\n",
              "      <th>86572</th>\n",
              "      <td>10180.0</td>\n",
              "      <td>79000</td>\n",
              "    </tr>\n",
              "    <tr>\n",
              "      <th>76729</th>\n",
              "      <td>10180.0</td>\n",
              "      <td>303000</td>\n",
              "    </tr>\n",
              "  </tbody>\n",
              "</table>\n",
              "</div>"
            ],
            "text/plain": [
              "            msa  original_upb\n",
              "14499   10180.0         52000\n",
              "99978   10180.0        312000\n",
              "99977   10180.0        100000\n",
              "99976   10180.0        147000\n",
              "76724   10180.0         64000\n",
              "102140  10180.0         94000\n",
              "76725   10180.0        240000\n",
              "76727   10180.0        138000\n",
              "86572   10180.0         79000\n",
              "76729   10180.0        303000"
            ]
          },
          "metadata": {
            "tags": []
          },
          "execution_count": 24
        }
      ]
    },
    {
      "cell_type": "code",
      "metadata": {
        "id": "BjEudYM90QwP",
        "colab_type": "code",
        "colab": {}
      },
      "source": [
        "orig_MSA_to_UPB_all = {}\n",
        "i = 0\n",
        "for msa in orig_MSA_to_UPBdf[\"msa\"]:\n",
        "  if msa not in orig_MSA_to_UPB_all.keys():\n",
        "    orig_MSA_to_UPB_all[msa] = [orig_MSA_to_UPBdf[\"original_upb\"].iloc[i]]\n",
        "  else:\n",
        "    orig_MSA_to_UPB_all[msa].append(orig_MSA_to_UPBdf[\"original_upb\"].iloc[i])\n",
        "  i+= 1"
      ],
      "execution_count": 0,
      "outputs": []
    },
    {
      "cell_type": "code",
      "metadata": {
        "id": "cd_t7K7C8FM5",
        "colab_type": "code",
        "outputId": "51aabdd7-f089-45f9-f8ce-bfa3b45a1788",
        "colab": {
          "base_uri": "https://localhost:8080/",
          "height": 34
        }
      },
      "source": [
        "orig_MSA_to_UPB ={}\n",
        "for msa in orig_MSA_to_UPB_all.keys():\n",
        "  orig_MSA_to_UPB[msa] = np.median(orig_MSA_to_UPB_all[msa])\n",
        "\n",
        "max(orig_MSA_to_UPB.items(), key=operator.itemgetter(1))"
      ],
      "execution_count": 26,
      "outputs": [
        {
          "output_type": "execute_result",
          "data": {
            "text/plain": [
              "(42034.0, 414000.0)"
            ]
          },
          "metadata": {
            "tags": []
          },
          "execution_count": 26
        }
      ]
    },
    {
      "cell_type": "code",
      "metadata": {
        "id": "geAp05Xf-w5e",
        "colab_type": "code",
        "outputId": "f331c010-f388-458f-f69c-dbf1aaa18bde",
        "colab": {
          "base_uri": "https://localhost:8080/",
          "height": 105
        }
      },
      "source": [
        "sortedlist = sorted(orig_MSA_to_UPB.items(),key=lambda pair: pair[1], reverse=True)\n",
        "largest_median_upbs = [sortedlist[i] for i in range(5)]\n",
        "largest_median_upbs"
      ],
      "execution_count": 27,
      "outputs": [
        {
          "output_type": "execute_result",
          "data": {
            "text/plain": [
              "[(42034.0, 414000.0),\n",
              " (11244.0, 364000.0),\n",
              " (27980.0, 347000.0),\n",
              " (42200.0, 338000.0),\n",
              " (41884.0, 330000.0)]"
            ]
          },
          "metadata": {
            "tags": []
          },
          "execution_count": 27
        }
      ]
    },
    {
      "cell_type": "code",
      "metadata": {
        "id": "RK4F-cPeEYT2",
        "colab_type": "code",
        "outputId": "299b5ec4-d0b1-42b4-9ca2-b7caa30a4125",
        "colab": {
          "base_uri": "https://localhost:8080/",
          "height": 429
        }
      },
      "source": [
        "# Corresponding States of the MSA Codes - Manually Looked Up through Excel\n",
        "states = ['CA#1', 'CA#2', 'HI', 'CA#3', 'CA#4']\n",
        "\n",
        "plt.figure(num=None, figsize=(12, 6), dpi=80, facecolor='w', edgecolor='k')\n",
        "plt.axes(ylabel=\"UPB\")\n",
        "plt.title(\"Highest Median UPB for Specific MSAs\")\n",
        "\n",
        "plt.bar(states, [largest_median_upbs[i][1] for i in range(len(largest_median_upbs))], color=['lightblue','lightblue','gold','lightblue','lightblue'])\n",
        "\n",
        "plt.savefig('dist_UPB_MSA.png')\n"
      ],
      "execution_count": 28,
      "outputs": [
        {
          "output_type": "display_data",
          "data": {
            "image/png": "[encoded data removed]",
            "text/plain": [
              "<Figure size 960x480 with 1 Axes>"
            ]
          },
          "metadata": {
            "tags": []
          }
        }
      ]
    },
    {
      "cell_type": "markdown",
      "metadata": {
        "id": "lIAq40jkONRy",
        "colab_type": "text"
      },
      "source": [
        "From this we can conclude that California and Hawaii have the highest UPB. However, median doesn't tell us how many mortgages were taken around these medians. "
      ]
    },
    {
      "cell_type": "code",
      "metadata": {
        "id": "ePaIxFpxLZsF",
        "colab_type": "code",
        "outputId": "23330659-b294-4f80-f9d9-2dddefb3f20c",
        "colab": {
          "base_uri": "https://localhost:8080/",
          "height": 34
        }
      },
      "source": [
        "# Number of those properties in each of the above MSA:\n",
        "orig_MSA_to_UPB_lengths = {}\n",
        "for msa in orig_MSA_to_UPB.keys():\n",
        "  orig_MSA_to_UPB_lengths[msa] = len(orig_MSA_to_UPB_all[msa])\n",
        "\n",
        "largest_median_upb_sizes = [orig_MSA_to_UPB_lengths.get(largest_median_upbs[i][0]) for i in range(5)] \n",
        "largest_median_upb_sizes"
      ],
      "execution_count": 29,
      "outputs": [
        {
          "output_type": "execute_result",
          "data": {
            "text/plain": [
              "[43, 524, 17, 55, 485]"
            ]
          },
          "metadata": {
            "tags": []
          },
          "execution_count": 29
        }
      ]
    },
    {
      "cell_type": "code",
      "metadata": {
        "id": "VgTzeY1uNWpc",
        "colab_type": "code",
        "outputId": "5117626d-4f56-4599-8b99-4a581537b564",
        "colab": {
          "base_uri": "https://localhost:8080/",
          "height": 429
        }
      },
      "source": [
        "# Corresponding States of the MSA Codes - Manually Looked Up through Excel\n",
        "states = ['CA#1', 'CA#2', 'HI', 'CA#3', 'CA#4']\n",
        "\n",
        "\n",
        "plt.figure(num=None, figsize=(12, 6), dpi=80, facecolor='w', edgecolor='k')\n",
        "plt.axes(ylabel=\"Number of Loans\")\n",
        "plt.title(\"Number of Mortgages for Corresponding MSAs\")\n",
        "\n",
        "\n",
        "plt.bar(states, largest_median_upb_sizes, color=['lightblue','lightblue','gold','lightblue','lightblue'])\n",
        "plt.savefig('dist_MSA_size.png')"
      ],
      "execution_count": 30,
      "outputs": [
        {
          "output_type": "display_data",
          "data": {
            "image/png": "[encoded data removed]",
            "text/plain": [
              "<Figure size 960x480 with 1 Axes>"
            ]
          },
          "metadata": {
            "tags": []
          }
        }
      ]
    },
    {
      "cell_type": "markdown",
      "metadata": {
        "id": "hwU2xGG6PEYN",
        "colab_type": "text"
      },
      "source": [
        "As seen above, California seems to have a much larger proportion of homes with high UPBs than Hawaii. "
      ]
    },
    {
      "cell_type": "markdown",
      "metadata": {
        "id": "oCpnP-ccPR4O",
        "colab_type": "text"
      },
      "source": [
        "## Now let's focus on channel originations!\n",
        "\n",
        "We're going to find the distribution of channel originations from the last 3 years: 2017, 2018, 2019. The dataset only has up till 2018."
      ]
    },
    {
      "cell_type": "code",
      "metadata": {
        "id": "d3b9Vm4sQv79",
        "colab_type": "code",
        "outputId": "4ded4e3c-da7f-4e4f-f9a7-2f03a8700559",
        "colab": {
          "base_uri": "https://localhost:8080/",
          "height": 215
        }
      },
      "source": [
        "last_three_yearsdf = orig_df.copy()\n",
        "\n",
        "# last_three_yearsdf.insert(2, \"Year\", value=last_three_yearsdf[\"first_payment_date\"])\n",
        "# last_three_yearsdf[\"Year\"] = last_three_yearsdf[\"Year\"].floordiv(100)\n",
        "\n",
        "last_three_yearsdf = last_three_yearsdf[last_three_yearsdf[\"Year\"] >= 2017]\n",
        "last_three_yearsdf.head(5)"
      ],
      "execution_count": 31,
      "outputs": [
        {
          "output_type": "execute_result",
          "data": {
            "text/html": [
              "<div>\n",
              "<style scoped>\n",
              "    .dataframe tbody tr th:only-of-type {\n",
              "        vertical-align: middle;\n",
              "    }\n",
              "\n",
              "    .dataframe tbody tr th {\n",
              "        vertical-align: top;\n",
              "    }\n",
              "\n",
              "    .dataframe thead th {\n",
              "        text-align: right;\n",
              "    }\n",
              "</style>\n",
              "<table border=\"1\" class=\"dataframe\">\n",
              "  <thead>\n",
              "    <tr style=\"text-align: right;\">\n",
              "      <th></th>\n",
              "      <th>credit_score</th>\n",
              "      <th>first_payment_date</th>\n",
              "      <th>Year</th>\n",
              "      <th>first_time_homebuyer_flag</th>\n",
              "      <th>maturity_date</th>\n",
              "      <th>msa</th>\n",
              "      <th>mi_percentage</th>\n",
              "      <th>num_units</th>\n",
              "      <th>occupancy_status</th>\n",
              "      <th>cltv</th>\n",
              "      <th>dti_ratio</th>\n",
              "      <th>original_upb</th>\n",
              "      <th>original_ltv</th>\n",
              "      <th>original_rate</th>\n",
              "      <th>channel</th>\n",
              "      <th>ppm_flag</th>\n",
              "      <th>product_type</th>\n",
              "      <th>property_state</th>\n",
              "      <th>property_type</th>\n",
              "      <th>postal_code</th>\n",
              "      <th>loan_sequence_number</th>\n",
              "      <th>loan_purpose</th>\n",
              "      <th>original_loan_term</th>\n",
              "      <th>num_borrowers</th>\n",
              "      <th>seller_name</th>\n",
              "      <th>servicer_name</th>\n",
              "      <th>super_conforming_flag</th>\n",
              "      <th>pre_harp_lsn</th>\n",
              "    </tr>\n",
              "  </thead>\n",
              "  <tbody>\n",
              "    <tr>\n",
              "      <th>37</th>\n",
              "      <td>809</td>\n",
              "      <td>201706</td>\n",
              "      <td>2017</td>\n",
              "      <td>9</td>\n",
              "      <td>204705</td>\n",
              "      <td>35614.0</td>\n",
              "      <td>0</td>\n",
              "      <td>2</td>\n",
              "      <td>P</td>\n",
              "      <td>10</td>\n",
              "      <td>39</td>\n",
              "      <td>65000</td>\n",
              "      <td>10</td>\n",
              "      <td>4.250</td>\n",
              "      <td>R</td>\n",
              "      <td>N</td>\n",
              "      <td>FRM</td>\n",
              "      <td>NJ</td>\n",
              "      <td>SF</td>\n",
              "      <td>7300.0</td>\n",
              "      <td>F117Q2024392</td>\n",
              "      <td>N</td>\n",
              "      <td>360</td>\n",
              "      <td>2</td>\n",
              "      <td>Other sellers</td>\n",
              "      <td>Other servicers</td>\n",
              "      <td>NaN</td>\n",
              "      <td>NaN</td>\n",
              "    </tr>\n",
              "    <tr>\n",
              "      <th>40</th>\n",
              "      <td>806</td>\n",
              "      <td>201710</td>\n",
              "      <td>2017</td>\n",
              "      <td>9</td>\n",
              "      <td>203209</td>\n",
              "      <td>16974.0</td>\n",
              "      <td>0</td>\n",
              "      <td>1</td>\n",
              "      <td>P</td>\n",
              "      <td>10</td>\n",
              "      <td>29</td>\n",
              "      <td>133000</td>\n",
              "      <td>10</td>\n",
              "      <td>3.000</td>\n",
              "      <td>C</td>\n",
              "      <td>N</td>\n",
              "      <td>FRM</td>\n",
              "      <td>IL</td>\n",
              "      <td>SF</td>\n",
              "      <td>60000.0</td>\n",
              "      <td>F117Q3269830</td>\n",
              "      <td>N</td>\n",
              "      <td>180</td>\n",
              "      <td>1</td>\n",
              "      <td>CALIBERHOMELOANS,INC</td>\n",
              "      <td>CALIBERHOMELOANS,INC</td>\n",
              "      <td>NaN</td>\n",
              "      <td>NaN</td>\n",
              "    </tr>\n",
              "    <tr>\n",
              "      <th>44</th>\n",
              "      <td>817</td>\n",
              "      <td>201712</td>\n",
              "      <td>2017</td>\n",
              "      <td>N</td>\n",
              "      <td>204711</td>\n",
              "      <td>19740.0</td>\n",
              "      <td>0</td>\n",
              "      <td>1</td>\n",
              "      <td>P</td>\n",
              "      <td>10</td>\n",
              "      <td>32</td>\n",
              "      <td>30000</td>\n",
              "      <td>10</td>\n",
              "      <td>4.125</td>\n",
              "      <td>R</td>\n",
              "      <td>N</td>\n",
              "      <td>FRM</td>\n",
              "      <td>CO</td>\n",
              "      <td>PU</td>\n",
              "      <td>80200.0</td>\n",
              "      <td>F117Q4090037</td>\n",
              "      <td>P</td>\n",
              "      <td>360</td>\n",
              "      <td>1</td>\n",
              "      <td>Other sellers</td>\n",
              "      <td>Other servicers</td>\n",
              "      <td>NaN</td>\n",
              "      <td>NaN</td>\n",
              "    </tr>\n",
              "    <tr>\n",
              "      <th>62</th>\n",
              "      <td>736</td>\n",
              "      <td>201701</td>\n",
              "      <td>2017</td>\n",
              "      <td>9</td>\n",
              "      <td>204612</td>\n",
              "      <td>31084.0</td>\n",
              "      <td>0</td>\n",
              "      <td>1</td>\n",
              "      <td>P</td>\n",
              "      <td>11</td>\n",
              "      <td>40</td>\n",
              "      <td>70000</td>\n",
              "      <td>11</td>\n",
              "      <td>3.625</td>\n",
              "      <td>C</td>\n",
              "      <td>N</td>\n",
              "      <td>FRM</td>\n",
              "      <td>CA</td>\n",
              "      <td>SF</td>\n",
              "      <td>91300.0</td>\n",
              "      <td>F116Q4004378</td>\n",
              "      <td>C</td>\n",
              "      <td>360</td>\n",
              "      <td>2</td>\n",
              "      <td>Other sellers</td>\n",
              "      <td>PNCBANK,NATL</td>\n",
              "      <td>NaN</td>\n",
              "      <td>NaN</td>\n",
              "    </tr>\n",
              "    <tr>\n",
              "      <th>90</th>\n",
              "      <td>802</td>\n",
              "      <td>201703</td>\n",
              "      <td>2017</td>\n",
              "      <td>9</td>\n",
              "      <td>204702</td>\n",
              "      <td>36084.0</td>\n",
              "      <td>0</td>\n",
              "      <td>1</td>\n",
              "      <td>P</td>\n",
              "      <td>12</td>\n",
              "      <td>32</td>\n",
              "      <td>80000</td>\n",
              "      <td>12</td>\n",
              "      <td>4.625</td>\n",
              "      <td>R</td>\n",
              "      <td>N</td>\n",
              "      <td>FRM</td>\n",
              "      <td>CA</td>\n",
              "      <td>PU</td>\n",
              "      <td>94500.0</td>\n",
              "      <td>F117Q1013215</td>\n",
              "      <td>C</td>\n",
              "      <td>360</td>\n",
              "      <td>2</td>\n",
              "      <td>LOANDEPOTCOM,LLC</td>\n",
              "      <td>Other servicers</td>\n",
              "      <td>NaN</td>\n",
              "      <td>NaN</td>\n",
              "    </tr>\n",
              "  </tbody>\n",
              "</table>\n",
              "</div>"
            ],
            "text/plain": [
              "    credit_score  first_payment_date  ...  super_conforming_flag pre_harp_lsn\n",
              "37           809              201706  ...                    NaN          NaN\n",
              "40           806              201710  ...                    NaN          NaN\n",
              "44           817              201712  ...                    NaN          NaN\n",
              "62           736              201701  ...                    NaN          NaN\n",
              "90           802              201703  ...                    NaN          NaN\n",
              "\n",
              "[5 rows x 28 columns]"
            ]
          },
          "metadata": {
            "tags": []
          },
          "execution_count": 31
        }
      ]
    },
    {
      "cell_type": "code",
      "metadata": {
        "id": "gGe8WxC6VR_j",
        "colab_type": "code",
        "outputId": "4f295bba-2760-4682-f71d-b40383a708e1",
        "colab": {
          "base_uri": "https://localhost:8080/",
          "height": 429
        }
      },
      "source": [
        "last_three_years_channels = last_three_yearsdf[\"channel\"].value_counts()\n",
        "plt.figure(num=None, figsize=(8, 6), dpi=80, facecolor='w', edgecolor='k')\n",
        "plt.axes(ylabel=\"Number of Loans\")\n",
        "plt.title(\"Number of Mortgages per Channel Origination\")\n",
        "\n",
        "plt.bar([\"Retail\", \"Correspondent\", \"Broker\"], last_three_years_channels )\n",
        "plt.savefig('dist_channel.png')"
      ],
      "execution_count": 32,
      "outputs": [
        {
          "output_type": "display_data",
          "data": {
            "image/png": "[encoded data removed]",
            "text/plain": [
              "<Figure size 640x480 with 1 Axes>"
            ]
          },
          "metadata": {
            "tags": []
          }
        }
      ]
    },
    {
      "cell_type": "markdown",
      "metadata": {
        "id": "CmWPxeKemg4z",
        "colab_type": "text"
      },
      "source": [
        "## For the next bit, let's analyse the distribution of prepayment penalties.\n"
      ]
    },
    {
      "cell_type": "code",
      "metadata": {
        "id": "CzZZ8jN9rtEm",
        "colab_type": "code",
        "colab": {}
      },
      "source": [
        "PPM_distributiondf = orig_df.copy()\n",
        "PPM_distribution = PPM_distributiondf[\"ppm_flag\"].value_counts()\n"
      ],
      "execution_count": 0,
      "outputs": []
    },
    {
      "cell_type": "code",
      "metadata": {
        "id": "0R194aYsnFEw",
        "colab_type": "code",
        "outputId": "8c35d936-75e9-482a-d83e-009df826e7bc",
        "colab": {
          "base_uri": "https://localhost:8080/",
          "height": 429
        }
      },
      "source": [
        "plt.figure(num=None, figsize=(8, 6), dpi=80, facecolor='w', edgecolor='k')\n",
        "plt.axes(ylabel=\"Number of Loans\")\n",
        "plt.title(\" Number of PPMs vs Non-PPMs (Log Scale)\")\n",
        "\n",
        "PPM_Bar = plt.bar([\"Not PPM\", \"PPM\"], PPM_distribution, log=True)\n",
        "plt.savefig('dist_PPM.png')\n"
      ],
      "execution_count": 34,
      "outputs": [
        {
          "output_type": "display_data",
          "data": {
            "image/png": "[encoded data removed]",
            "text/plain": [
              "<Figure size 640x480 with 1 Axes>"
            ]
          },
          "metadata": {
            "tags": []
          }
        }
      ]
    },
    {
      "cell_type": "markdown",
      "metadata": {
        "id": "tkRiztWNTObK",
        "colab_type": "text"
      },
      "source": [
        "Now lets look at the yearly distribution of PPM's to gauge a better understanding of this gap."
      ]
    },
    {
      "cell_type": "code",
      "metadata": {
        "id": "Jg2GOq4AwJQK",
        "colab_type": "code",
        "outputId": "cbed01aa-121c-4a41-d6e6-ddfaf5c40ebc",
        "colab": {
          "base_uri": "https://localhost:8080/",
          "height": 369
        }
      },
      "source": [
        "# Lets store (Y,N) counts for PPMs year by year\n",
        "PPM_by_year = {}\n",
        "\n",
        "i = 0\n",
        "for loan in PPM_distributiondf[\"loan_sequence_number\"]:\n",
        "  loan_year = PPM_distributiondf[\"Year\"].iloc[i]\n",
        "  loan_ppm_flag = PPM_distributiondf[\"ppm_flag\"].iloc[i]\n",
        "  if loan_year not in PPM_by_year:\n",
        "    if loan_ppm_flag == \"Y\":\n",
        "      PPM_by_year[loan_year] = [1, 0]\n",
        "    elif loan_ppm_flag == \"N\":\n",
        "      PPM_by_year[loan_year] = [0, 1]\n",
        "  else:\n",
        "    if loan_ppm_flag == \"Y\":\n",
        "      PPM_by_year[loan_year][0] += 1\n",
        "    elif loan_ppm_flag == \"N\":\n",
        "      PPM_by_year[loan_year][1] += 1\n",
        "  i+=1\n",
        "\n",
        "PPM_by_year"
      ],
      "execution_count": 35,
      "outputs": [
        {
          "output_type": "execute_result",
          "data": {
            "text/plain": [
              "{1999: [26, 3747],\n",
              " 2000: [2, 2837],\n",
              " 2001: [1, 6080],\n",
              " 2002: [4, 6894],\n",
              " 2003: [19, 8166],\n",
              " 2004: [13, 4490],\n",
              " 2005: [18, 6412],\n",
              " 2006: [13, 5120],\n",
              " 2007: [10, 4878],\n",
              " 2008: [1, 4926],\n",
              " 2009: [0, 7522],\n",
              " 2010: [0, 4872],\n",
              " 2011: [0, 4027],\n",
              " 2012: [0, 5071],\n",
              " 2013: [0, 5670],\n",
              " 2014: [0, 3816],\n",
              " 2015: [0, 5175],\n",
              " 2016: [0, 5914],\n",
              " 2017: [0, 5237],\n",
              " 2018: [0, 755]}"
            ]
          },
          "metadata": {
            "tags": []
          },
          "execution_count": 35
        }
      ]
    },
    {
      "cell_type": "markdown",
      "metadata": {
        "id": "q795jZfIw_Le",
        "colab_type": "text"
      },
      "source": [
        "Now, lets plot these figures:"
      ]
    },
    {
      "cell_type": "code",
      "metadata": {
        "id": "0sQp3z-LXQMo",
        "colab_type": "code",
        "outputId": "a01c8927-87c6-4a39-e3bb-46b01e1a2c7e",
        "colab": {
          "base_uri": "https://localhost:8080/",
          "height": 444
        }
      },
      "source": [
        "# Plotting the PPMs\n",
        "\n",
        "plt.figure(num=None, figsize=(12, 6), dpi=80, facecolor='w', edgecolor='k')\n",
        "plt.axes(xlabel=\"Year\", ylabel=\"% Loans that are PPMs\")\n",
        "plt.title(\"Percentages of Loans that are PPMs per Year\")\n",
        "\n",
        "\n",
        "labels_str = sorted([str(key) for key in PPM_by_year.keys()])\n",
        "labels = sorted([key for key in PPM_by_year.keys()])\n",
        "heights = [PPM_by_year[key][0]/PPM_by_year[key][1]*100 for key in labels]\n",
        "\n",
        "plt.bar(labels, heights, tick_label=[x for x in range(1999, 2019)], color=[\"orange\"])\n",
        "plt.savefig('dist_PPM_percent_year.png')"
      ],
      "execution_count": 36,
      "outputs": [
        {
          "output_type": "display_data",
          "data": {
            "image/png": "[encoded data removed]",
            "text/plain": [
              "<Figure size 960x480 with 1 Axes>"
            ]
          },
          "metadata": {
            "tags": []
          }
        }
      ]
    },
    {
      "cell_type": "markdown",
      "metadata": {
        "id": "OqocykPJbzIJ",
        "colab_type": "text"
      },
      "source": [
        "We can see here that there have been no PPMs since 2008, presumably because of the housing crisis."
      ]
    },
    {
      "cell_type": "markdown",
      "metadata": {
        "id": "WOE4idkWd5gT",
        "colab_type": "text"
      },
      "source": [
        "## Considering the housing crisis had such a huge impact on the market, lets see how it affected LTVs.\n"
      ]
    },
    {
      "cell_type": "code",
      "metadata": {
        "id": "t90MtNXEeDOd",
        "colab_type": "code",
        "colab": {}
      },
      "source": [
        "LTV_distributiondf = orig_df.copy()\n",
        "LTV_by_year = {}\n",
        "CLTV_by_year = {}\n",
        "\n",
        "i = 0\n",
        "for loan in LTV_distributiondf[\"loan_sequence_number\"]:\n",
        "  loan_year = LTV_distributiondf[\"Year\"].iloc[i]\n",
        "  loan_ltv = LTV_distributiondf[\"original_ltv\"].iloc[i]\n",
        "  if loan_year not in LTV_by_year.keys():\n",
        "    LTV_by_year[loan_year] = [loan_ltv]\n",
        "  else:\n",
        "    LTV_by_year[loan_year].append(loan_ltv)\n",
        "  i+=1\n"
      ],
      "execution_count": 0,
      "outputs": []
    },
    {
      "cell_type": "code",
      "metadata": {
        "id": "2KWFuT6VjpT6",
        "colab_type": "code",
        "outputId": "350734eb-1030-4e76-bf8a-35d22e30d5f6",
        "colab": {
          "base_uri": "https://localhost:8080/",
          "height": 369
        }
      },
      "source": [
        "# Lets find the mean LTV for each year\n",
        "LTV_means = {}\n",
        "for year in LTV_by_year:\n",
        "  LTV_means[year] = np.mean(LTV_by_year[year])\n",
        "LTV_means"
      ],
      "execution_count": 38,
      "outputs": [
        {
          "output_type": "execute_result",
          "data": {
            "text/plain": [
              "{1999: 76.57301055884625,\n",
              " 2000: 78.38657811953863,\n",
              " 2001: 75.93537805478104,\n",
              " 2002: 74.03610108303249,\n",
              " 2003: 71.68006801894813,\n",
              " 2004: 73.80230752163301,\n",
              " 2005: 70.45881255828411,\n",
              " 2006: 70.44704049844236,\n",
              " 2007: 72.47509187423438,\n",
              " 2008: 70.68638816709974,\n",
              " 2009: 65.76795142555439,\n",
              " 2010: 66.59832721338229,\n",
              " 2011: 67.67697594501718,\n",
              " 2012: 67.4021268215833,\n",
              " 2013: 69.70987654320987,\n",
              " 2014: 75.35620743844945,\n",
              " 2015: 73.52530911901081,\n",
              " 2016: 73.1160472972973,\n",
              " 2017: 73.73115817592063,\n",
              " 2018: 72.81059602649006}"
            ]
          },
          "metadata": {
            "tags": []
          },
          "execution_count": 38
        }
      ]
    },
    {
      "cell_type": "code",
      "metadata": {
        "id": "j3NY63p2jlr-",
        "colab_type": "code",
        "outputId": "06c9556c-a191-4d25-b0ab-2e863e2d4907",
        "colab": {
          "base_uri": "https://localhost:8080/",
          "height": 369
        }
      },
      "source": [
        "# lets find the median LTV for each year\n",
        "LTV_medians = {}\n",
        "for year in LTV_by_year:\n",
        "  LTV_medians[year] = np.median(LTV_by_year[year])\n",
        "LTV_medians"
      ],
      "execution_count": 39,
      "outputs": [
        {
          "output_type": "execute_result",
          "data": {
            "text/plain": [
              "{1999: 80.0,\n",
              " 2000: 80.0,\n",
              " 2001: 80.0,\n",
              " 2002: 79.0,\n",
              " 2003: 76.0,\n",
              " 2004: 79.0,\n",
              " 2005: 76.0,\n",
              " 2006: 77.0,\n",
              " 2007: 78.0,\n",
              " 2008: 75.0,\n",
              " 2009: 70.0,\n",
              " 2010: 72.0,\n",
              " 2011: 73.0,\n",
              " 2012: 72.0,\n",
              " 2013: 75.0,\n",
              " 2014: 80.0,\n",
              " 2015: 79.0,\n",
              " 2016: 77.0,\n",
              " 2017: 79.0,\n",
              " 2018: 77.0}"
            ]
          },
          "metadata": {
            "tags": []
          },
          "execution_count": 39
        }
      ]
    },
    {
      "cell_type": "code",
      "metadata": {
        "id": "bRbtsOFSj6j_",
        "colab_type": "code",
        "colab": {}
      },
      "source": [
        "i = 0\n",
        "for loan in LTV_distributiondf[\"loan_sequence_number\"]:\n",
        "  loan_year = LTV_distributiondf[\"Year\"].iloc[i]\n",
        "  loan_cltv = LTV_distributiondf[\"cltv\"].iloc[i]\n",
        "  if loan_year not in CLTV_by_year.keys():\n",
        "    CLTV_by_year[loan_year] = [loan_cltv]\n",
        "  else:\n",
        "    CLTV_by_year[loan_year].append(loan_cltv)\n",
        "  i+=1\n"
      ],
      "execution_count": 0,
      "outputs": []
    },
    {
      "cell_type": "code",
      "metadata": {
        "id": "dAMOiMVXn7z3",
        "colab_type": "code",
        "outputId": "358b065b-6e79-417a-c1b3-28bbe6fcc2a9",
        "colab": {
          "base_uri": "https://localhost:8080/",
          "height": 369
        }
      },
      "source": [
        "# Lets find the mean CLTV for each year\n",
        "CLTV_means = {}\n",
        "for year in CLTV_by_year:\n",
        "  CLTV_means[year] = np.mean(CLTV_by_year[year])\n",
        "CLTV_means"
      ],
      "execution_count": 41,
      "outputs": [
        {
          "output_type": "execute_result",
          "data": {
            "text/plain": [
              "{1999: 76.63739376770538,\n",
              " 2000: 78.77245718280322,\n",
              " 2001: 76.61669673609973,\n",
              " 2002: 75.00736462093863,\n",
              " 2003: 72.89384185594558,\n",
              " 2004: 75.44774794763701,\n",
              " 2005: 72.0716506061548,\n",
              " 2006: 72.65926791277259,\n",
              " 2007: 75.27276439363006,\n",
              " 2008: 71.98620827503498,\n",
              " 2009: 67.14994720168954,\n",
              " 2010: 67.71644226846185,\n",
              " 2011: 68.74521354933727,\n",
              " 2012: 68.48326112642772,\n",
              " 2013: 70.4910052910053,\n",
              " 2014: 75.88292299633316,\n",
              " 2015: 74.08442812982999,\n",
              " 2016: 73.60084459459459,\n",
              " 2017: 74.10742224766265,\n",
              " 2018: 72.95231788079471}"
            ]
          },
          "metadata": {
            "tags": []
          },
          "execution_count": 41
        }
      ]
    },
    {
      "cell_type": "code",
      "metadata": {
        "id": "vIPt5zGWoCwq",
        "colab_type": "code",
        "outputId": "27b0dce6-650b-49b8-eb23-49ae855de970",
        "colab": {
          "base_uri": "https://localhost:8080/",
          "height": 369
        }
      },
      "source": [
        "# lets find the median CLTV for each year\n",
        "CLTV_medians = {}\n",
        "for year in CLTV_by_year:\n",
        "  CLTV_medians[year] = np.median(CLTV_by_year[year])\n",
        "CLTV_medians"
      ],
      "execution_count": 42,
      "outputs": [
        {
          "output_type": "execute_result",
          "data": {
            "text/plain": [
              "{1999: 80.0,\n",
              " 2000: 80.0,\n",
              " 2001: 80.0,\n",
              " 2002: 79.0,\n",
              " 2003: 77.0,\n",
              " 2004: 80.0,\n",
              " 2005: 77.0,\n",
              " 2006: 79.0,\n",
              " 2007: 80.0,\n",
              " 2008: 77.0,\n",
              " 2009: 72.0,\n",
              " 2010: 73.0,\n",
              " 2011: 74.0,\n",
              " 2012: 73.0,\n",
              " 2013: 75.0,\n",
              " 2014: 80.0,\n",
              " 2015: 80.0,\n",
              " 2016: 78.0,\n",
              " 2017: 80.0,\n",
              " 2018: 78.0}"
            ]
          },
          "metadata": {
            "tags": []
          },
          "execution_count": 42
        }
      ]
    },
    {
      "cell_type": "code",
      "metadata": {
        "id": "2BICyX3bo0M4",
        "colab_type": "code",
        "outputId": "e19f5e97-daf1-4908-bb41-9ec2313b3413",
        "colab": {
          "base_uri": "https://localhost:8080/",
          "height": 444
        }
      },
      "source": [
        "# Plotting the Mean LTVs\n",
        "labels_str = sorted([str(key) for key in LTV_by_year.keys()])\n",
        "labels = sorted([int(key) for key in LTV_by_year.keys()])\n",
        "heights = [LTV_means[key]for key in labels]\n",
        "\n",
        "plt.figure(num=None, figsize=(12, 6), dpi=80, facecolor='w', edgecolor='k')\n",
        "plt.axes(xlabel=\"Year\", ylabel=\"Mean LTVs\", xticklabels=labels, )\n",
        "plt.title(\"Mean LTV by Year\")\n",
        "plt.ylim(65,82)\n",
        "\n",
        "plt.scatter(x=labels_str, y=heights, )\n",
        "plt.plot(labels_str, heights)\n",
        "\n",
        "plt.savefig('dist_mean_LTV_year.png')"
      ],
      "execution_count": 43,
      "outputs": [
        {
          "output_type": "display_data",
          "data": {
            "image/png": "[encoded data removed]",
            "text/plain": [
              "<Figure size 960x480 with 1 Axes>"
            ]
          },
          "metadata": {
            "tags": []
          }
        }
      ]
    },
    {
      "cell_type": "code",
      "metadata": {
        "id": "1KhNlYWeo0VM",
        "colab_type": "code",
        "outputId": "461a8573-d24e-43e9-e24c-43bd7969a8b7",
        "colab": {
          "base_uri": "https://localhost:8080/",
          "height": 444
        }
      },
      "source": [
        "# Plotting the Median LTVs\n",
        "labels_str = sorted([str(key) for key in LTV_by_year.keys()])\n",
        "labels = sorted([int(key) for key in LTV_by_year.keys()])\n",
        "heights = [LTV_medians[key]for key in labels]\n",
        "\n",
        "plt.figure(num=None, figsize=(12, 6), dpi=80, facecolor='w', edgecolor='k')\n",
        "plt.axes(xlabel=\"Year\", ylabel=\"Median LTVs\", xticklabels=labels, )\n",
        "plt.title(\"Median LTV by Year\")\n",
        "\n",
        "plt.ylim(65,82)\n",
        "plt.scatter(x=labels_str, y=heights, color=\"crimson\")\n",
        "plt.plot(labels_str, heights, color=\"crimson\")\n",
        "\n",
        "plt.savefig('dist_median_LTV_year.png')"
      ],
      "execution_count": 44,
      "outputs": [
        {
          "output_type": "display_data",
          "data": {
            "image/png": "[encoded data removed]",
            "text/plain": [
              "<Figure size 960x480 with 1 Axes>"
            ]
          },
          "metadata": {
            "tags": []
          }
        }
      ]
    },
    {
      "cell_type": "code",
      "metadata": {
        "id": "iKjtYEgHo0h5",
        "colab_type": "code",
        "outputId": "7427d4d3-8684-46c0-9636-22eecd08dbc9",
        "colab": {
          "base_uri": "https://localhost:8080/",
          "height": 444
        }
      },
      "source": [
        "# Plotting the Mean CLTVs\n",
        "labels_str = sorted([str(key) for key in CLTV_by_year.keys()])\n",
        "labels = sorted([int(key) for key in CLTV_by_year.keys()])\n",
        "heights = [CLTV_means[key]for key in labels]\n",
        "\n",
        "plt.figure(num=None, figsize=(12, 6), dpi=80, facecolor='w', edgecolor='k')\n",
        "plt.axes(xlabel=\"Year\", ylabel=\"Mean CLTVs\", xticklabels=labels, )\n",
        "plt.title(\"Mean CLTV by Year\")\n",
        "\n",
        "plt.ylim(65,82)\n",
        "plt.scatter(x=labels_str, y=heights, )\n",
        "plt.plot(labels_str, heights)\n",
        "\n",
        "plt.savefig('dist_mean_CLTV_year.png')"
      ],
      "execution_count": 45,
      "outputs": [
        {
          "output_type": "display_data",
          "data": {
            "image/png": "[encoded data removed]",
            "text/plain": [
              "<Figure size 960x480 with 1 Axes>"
            ]
          },
          "metadata": {
            "tags": []
          }
        }
      ]
    },
    {
      "cell_type": "code",
      "metadata": {
        "id": "5eco_OPuo0pI",
        "colab_type": "code",
        "outputId": "8db367c8-71e6-45ff-801d-22cd09e3eef9",
        "colab": {
          "base_uri": "https://localhost:8080/",
          "height": 444
        }
      },
      "source": [
        "# Plotting the Median CLTVs\n",
        "labels_str = sorted([str(key) for key in CLTV_by_year.keys()])\n",
        "labels = sorted([int(key) for key in CLTV_by_year.keys()])\n",
        "heights = [CLTV_medians[key]for key in labels]\n",
        "\n",
        "plt.figure(num=None, figsize=(12, 6), dpi=80, facecolor='w', edgecolor='k')\n",
        "plt.axes(xlabel=\"Year\", ylabel=\"Median CLTVs\", xticklabels=labels, )\n",
        "plt.title(\"Median CLTV by Year\")\n",
        "plt.ylim(65,82)\n",
        "\n",
        "plt.scatter(x=labels_str, y=heights, color=\"crimson\")\n",
        "plt.plot(labels_str, heights, color=\"crimson\")\n",
        "\n",
        "plt.savefig('dist_median_CLTV_year.png')"
      ],
      "execution_count": 46,
      "outputs": [
        {
          "output_type": "display_data",
          "data": {
            "image/png": "[encoded data removed]",
            "text/plain": [
              "<Figure size 960x480 with 1 Axes>"
            ]
          },
          "metadata": {
            "tags": []
          }
        }
      ]
    },
    {
      "cell_type": "markdown",
      "metadata": {
        "id": "H7Z3C8XO6H12",
        "colab_type": "text"
      },
      "source": [
        "# Now lets begin manipulating data in the Monthly Progress file"
      ]
    },
    {
      "cell_type": "markdown",
      "metadata": {
        "id": "xG5n2vooLLSh",
        "colab_type": "text"
      },
      "source": [
        "## Just a bit of preprocessing."
      ]
    },
    {
      "cell_type": "code",
      "metadata": {
        "id": "bRWU7Xs-6s4u",
        "colab_type": "code",
        "outputId": "29195169-5e88-4ea3-f12c-22287ea8337e",
        "colab": {
          "base_uri": "https://localhost:8080/",
          "height": 304
        }
      },
      "source": [
        "update_df.describe()"
      ],
      "execution_count": 47,
      "outputs": [
        {
          "output_type": "execute_result",
          "data": {
            "text/html": [
              "<div>\n",
              "<style scoped>\n",
              "    .dataframe tbody tr th:only-of-type {\n",
              "        vertical-align: middle;\n",
              "    }\n",
              "\n",
              "    .dataframe tbody tr th {\n",
              "        vertical-align: top;\n",
              "    }\n",
              "\n",
              "    .dataframe thead th {\n",
              "        text-align: right;\n",
              "    }\n",
              "</style>\n",
              "<table border=\"1\" class=\"dataframe\">\n",
              "  <thead>\n",
              "    <tr style=\"text-align: right;\">\n",
              "      <th></th>\n",
              "      <th>monthly_reporting_period</th>\n",
              "      <th>current_actual_upb</th>\n",
              "      <th>loan_age</th>\n",
              "      <th>months_to_maturity</th>\n",
              "      <th>zero_balance_code</th>\n",
              "      <th>zero_balance_date</th>\n",
              "      <th>current_interest_rate</th>\n",
              "      <th>current_deffered_upb</th>\n",
              "      <th>ddlpi</th>\n",
              "      <th>mi_recoveries</th>\n",
              "      <th>non_mi_recoveries</th>\n",
              "      <th>expenses</th>\n",
              "      <th>legal_costs</th>\n",
              "      <th>maintenance_preservation_costs</th>\n",
              "      <th>taxes_insurance</th>\n",
              "      <th>misc_expenses</th>\n",
              "      <th>actual_loss_calculation</th>\n",
              "      <th>modification_cost</th>\n",
              "      <th>estimated_ltv</th>\n",
              "    </tr>\n",
              "  </thead>\n",
              "  <tbody>\n",
              "    <tr>\n",
              "      <th>count</th>\n",
              "      <td>3.139431e+06</td>\n",
              "      <td>3.139431e+06</td>\n",
              "      <td>3.139431e+06</td>\n",
              "      <td>3.139431e+06</td>\n",
              "      <td>41675.000000</td>\n",
              "      <td>41675.000000</td>\n",
              "      <td>3.139431e+06</td>\n",
              "      <td>3.139431e+06</td>\n",
              "      <td>3051.000000</td>\n",
              "      <td>2028.000000</td>\n",
              "      <td>2028.000000</td>\n",
              "      <td>2028.000000</td>\n",
              "      <td>2028.000000</td>\n",
              "      <td>2028.000000</td>\n",
              "      <td>2028.000000</td>\n",
              "      <td>2028.000000</td>\n",
              "      <td>2028.000000</td>\n",
              "      <td>70053.000000</td>\n",
              "      <td>629260.000000</td>\n",
              "    </tr>\n",
              "    <tr>\n",
              "      <th>mean</th>\n",
              "      <td>2.014252e+05</td>\n",
              "      <td>1.703254e+05</td>\n",
              "      <td>5.017247e+01</td>\n",
              "      <td>2.710650e+02</td>\n",
              "      <td>1.344331</td>\n",
              "      <td>201354.886335</td>\n",
              "      <td>4.722770e+00</td>\n",
              "      <td>2.182818e+02</td>\n",
              "      <td>201271.180597</td>\n",
              "      <td>8614.080868</td>\n",
              "      <td>5477.325444</td>\n",
              "      <td>-15373.760355</td>\n",
              "      <td>-3316.919625</td>\n",
              "      <td>-4857.492604</td>\n",
              "      <td>-6563.236686</td>\n",
              "      <td>-636.146943</td>\n",
              "      <td>-68557.753452</td>\n",
              "      <td>438.475429</td>\n",
              "      <td>53.192386</td>\n",
              "    </tr>\n",
              "    <tr>\n",
              "      <th>std</th>\n",
              "      <td>2.730069e+02</td>\n",
              "      <td>1.087168e+05</td>\n",
              "      <td>4.042225e+01</td>\n",
              "      <td>8.316521e+01</td>\n",
              "      <td>1.727437</td>\n",
              "      <td>256.874615</td>\n",
              "      <td>1.121410e+00</td>\n",
              "      <td>3.855349e+03</td>\n",
              "      <td>358.093056</td>\n",
              "      <td>20207.430619</td>\n",
              "      <td>24944.967943</td>\n",
              "      <td>17280.219500</td>\n",
              "      <td>2790.270690</td>\n",
              "      <td>7616.040555</td>\n",
              "      <td>11070.149293</td>\n",
              "      <td>5896.273212</td>\n",
              "      <td>61934.478349</td>\n",
              "      <td>4671.589954</td>\n",
              "      <td>20.408147</td>\n",
              "    </tr>\n",
              "    <tr>\n",
              "      <th>min</th>\n",
              "      <td>2.010010e+05</td>\n",
              "      <td>0.000000e+00</td>\n",
              "      <td>0.000000e+00</td>\n",
              "      <td>-1.000000e+00</td>\n",
              "      <td>1.000000</td>\n",
              "      <td>201001.000000</td>\n",
              "      <td>0.000000e+00</td>\n",
              "      <td>0.000000e+00</td>\n",
              "      <td>200705.000000</td>\n",
              "      <td>0.000000</td>\n",
              "      <td>-7853.000000</td>\n",
              "      <td>-160298.000000</td>\n",
              "      <td>-41199.000000</td>\n",
              "      <td>-65821.000000</td>\n",
              "      <td>-125312.000000</td>\n",
              "      <td>-25841.000000</td>\n",
              "      <td>-520030.000000</td>\n",
              "      <td>-2243.530000</td>\n",
              "      <td>0.000000</td>\n",
              "    </tr>\n",
              "    <tr>\n",
              "      <th>25%</th>\n",
              "      <td>2.012030e+05</td>\n",
              "      <td>9.009045e+04</td>\n",
              "      <td>1.800000e+01</td>\n",
              "      <td>2.130000e+02</td>\n",
              "      <td>1.000000</td>\n",
              "      <td>201112.000000</td>\n",
              "      <td>3.875000e+00</td>\n",
              "      <td>0.000000e+00</td>\n",
              "      <td>201003.000000</td>\n",
              "      <td>0.000000</td>\n",
              "      <td>153.750000</td>\n",
              "      <td>-20771.000000</td>\n",
              "      <td>-4635.250000</td>\n",
              "      <td>-6103.500000</td>\n",
              "      <td>-7949.500000</td>\n",
              "      <td>-1032.000000</td>\n",
              "      <td>-100212.500000</td>\n",
              "      <td>0.000000</td>\n",
              "      <td>38.900000</td>\n",
              "    </tr>\n",
              "    <tr>\n",
              "      <th>50%</th>\n",
              "      <td>2.014100e+05</td>\n",
              "      <td>1.455604e+05</td>\n",
              "      <td>4.000000e+01</td>\n",
              "      <td>2.980000e+02</td>\n",
              "      <td>1.000000</td>\n",
              "      <td>201305.000000</td>\n",
              "      <td>4.625000e+00</td>\n",
              "      <td>0.000000e+00</td>\n",
              "      <td>201112.000000</td>\n",
              "      <td>0.000000</td>\n",
              "      <td>1025.000000</td>\n",
              "      <td>-11301.000000</td>\n",
              "      <td>-3051.000000</td>\n",
              "      <td>-1934.000000</td>\n",
              "      <td>-3593.000000</td>\n",
              "      <td>-400.000000</td>\n",
              "      <td>-56666.500000</td>\n",
              "      <td>0.000000</td>\n",
              "      <td>54.900000</td>\n",
              "    </tr>\n",
              "    <tr>\n",
              "      <th>75%</th>\n",
              "      <td>2.017020e+05</td>\n",
              "      <td>2.288113e+05</td>\n",
              "      <td>7.300000e+01</td>\n",
              "      <td>3.360000e+02</td>\n",
              "      <td>1.000000</td>\n",
              "      <td>201603.000000</td>\n",
              "      <td>5.625000e+00</td>\n",
              "      <td>0.000000e+00</td>\n",
              "      <td>201603.000000</td>\n",
              "      <td>0.000000</td>\n",
              "      <td>2291.750000</td>\n",
              "      <td>-4871.250000</td>\n",
              "      <td>-1533.000000</td>\n",
              "      <td>-80.000000</td>\n",
              "      <td>-1144.750000</td>\n",
              "      <td>-220.000000</td>\n",
              "      <td>-23757.750000</td>\n",
              "      <td>0.000000</td>\n",
              "      <td>68.300000</td>\n",
              "    </tr>\n",
              "    <tr>\n",
              "      <th>max</th>\n",
              "      <td>2.019030e+05</td>\n",
              "      <td>1.203000e+06</td>\n",
              "      <td>2.410000e+02</td>\n",
              "      <td>4.800000e+02</td>\n",
              "      <td>15.000000</td>\n",
              "      <td>201903.000000</td>\n",
              "      <td>3.750000e+01</td>\n",
              "      <td>1.889712e+05</td>\n",
              "      <td>201901.000000</td>\n",
              "      <td>164453.000000</td>\n",
              "      <td>344156.000000</td>\n",
              "      <td>187918.000000</td>\n",
              "      <td>0.000000</td>\n",
              "      <td>0.000000</td>\n",
              "      <td>61264.000000</td>\n",
              "      <td>258299.000000</td>\n",
              "      <td>55007.000000</td>\n",
              "      <td>167815.930000</td>\n",
              "      <td>414.600000</td>\n",
              "    </tr>\n",
              "  </tbody>\n",
              "</table>\n",
              "</div>"
            ],
            "text/plain": [
              "       monthly_reporting_period  ...  estimated_ltv\n",
              "count              3.139431e+06  ...  629260.000000\n",
              "mean               2.014252e+05  ...      53.192386\n",
              "std                2.730069e+02  ...      20.408147\n",
              "min                2.010010e+05  ...       0.000000\n",
              "25%                2.012030e+05  ...      38.900000\n",
              "50%                2.014100e+05  ...      54.900000\n",
              "75%                2.017020e+05  ...      68.300000\n",
              "max                2.019030e+05  ...     414.600000\n",
              "\n",
              "[8 rows x 19 columns]"
            ]
          },
          "metadata": {
            "tags": []
          },
          "execution_count": 47
        }
      ]
    },
    {
      "cell_type": "code",
      "metadata": {
        "id": "7X-dUCHcb984",
        "colab_type": "code",
        "colab": {}
      },
      "source": [
        "update_df.insert(2, \"Year\", update_df[\"monthly_reporting_period\"].floordiv(100))"
      ],
      "execution_count": 0,
      "outputs": []
    },
    {
      "cell_type": "markdown",
      "metadata": {
        "id": "2MR8S2BM8CVL",
        "colab_type": "text"
      },
      "source": [
        "## Lets begin by considering Loan Ages of loans from after 2014"
      ]
    },
    {
      "cell_type": "code",
      "metadata": {
        "id": "1dofsYu-8Nu6",
        "colab_type": "code",
        "outputId": "3c5ce941-ab57-4a9a-853e-51ab70fb8a88",
        "colab": {
          "base_uri": "https://localhost:8080/",
          "height": 510
        }
      },
      "source": [
        "# This dataset is more complex so lets look at how it has stored different data types.\n",
        "update_df.dtypes"
      ],
      "execution_count": 49,
      "outputs": [
        {
          "output_type": "execute_result",
          "data": {
            "text/plain": [
              "loan_sequence_number               object\n",
              "monthly_reporting_period            int64\n",
              "Year                                int64\n",
              "current_actual_upb                float64\n",
              "current_lds                        object\n",
              "loan_age                            int64\n",
              "months_to_maturity                  int64\n",
              "repurchase_flag                    object\n",
              "modification_flag                  object\n",
              "zero_balance_code                 float64\n",
              "zero_balance_date                 float64\n",
              "current_interest_rate             float64\n",
              "current_deffered_upb              float64\n",
              "ddlpi                             float64\n",
              "mi_recoveries                     float64\n",
              "net_sales_proceeds                 object\n",
              "non_mi_recoveries                 float64\n",
              "expenses                          float64\n",
              "legal_costs                       float64\n",
              "maintenance_preservation_costs    float64\n",
              "taxes_insurance                   float64\n",
              "misc_expenses                     float64\n",
              "actual_loss_calculation           float64\n",
              "modification_cost                 float64\n",
              "step_modification_flag             object\n",
              "deferred_payment_modification      object\n",
              "estimated_ltv                     float64\n",
              "dtype: object"
            ]
          },
          "metadata": {
            "tags": []
          },
          "execution_count": 49
        }
      ]
    },
    {
      "cell_type": "code",
      "metadata": {
        "id": "DdongoYj8iV4",
        "colab_type": "code",
        "outputId": "8e734c7b-7382-47a3-928c-19eb0be6b37e",
        "colab": {
          "base_uri": "https://localhost:8080/",
          "height": 304
        }
      },
      "source": [
        "# Now lets simply get rid of all the monthly reporting records from before 2014:\n",
        "only_after_2014df = update_df.copy()\n",
        "only_after_2014df = only_after_2014df[only_after_2014df[\"Year\"] >= 2014]\n",
        "\n",
        "only_after_2014df[only_after_2014df[\"loan_age\"] >= 1].describe()"
      ],
      "execution_count": 50,
      "outputs": [
        {
          "output_type": "execute_result",
          "data": {
            "text/html": [
              "<div>\n",
              "<style scoped>\n",
              "    .dataframe tbody tr th:only-of-type {\n",
              "        vertical-align: middle;\n",
              "    }\n",
              "\n",
              "    .dataframe tbody tr th {\n",
              "        vertical-align: top;\n",
              "    }\n",
              "\n",
              "    .dataframe thead th {\n",
              "        text-align: right;\n",
              "    }\n",
              "</style>\n",
              "<table border=\"1\" class=\"dataframe\">\n",
              "  <thead>\n",
              "    <tr style=\"text-align: right;\">\n",
              "      <th></th>\n",
              "      <th>monthly_reporting_period</th>\n",
              "      <th>Year</th>\n",
              "      <th>current_actual_upb</th>\n",
              "      <th>loan_age</th>\n",
              "      <th>months_to_maturity</th>\n",
              "      <th>zero_balance_code</th>\n",
              "      <th>zero_balance_date</th>\n",
              "      <th>current_interest_rate</th>\n",
              "      <th>current_deffered_upb</th>\n",
              "      <th>ddlpi</th>\n",
              "      <th>mi_recoveries</th>\n",
              "      <th>non_mi_recoveries</th>\n",
              "      <th>expenses</th>\n",
              "      <th>legal_costs</th>\n",
              "      <th>maintenance_preservation_costs</th>\n",
              "      <th>taxes_insurance</th>\n",
              "      <th>misc_expenses</th>\n",
              "      <th>actual_loss_calculation</th>\n",
              "      <th>modification_cost</th>\n",
              "      <th>estimated_ltv</th>\n",
              "    </tr>\n",
              "  </thead>\n",
              "  <tbody>\n",
              "    <tr>\n",
              "      <th>count</th>\n",
              "      <td>1.785482e+06</td>\n",
              "      <td>1.785482e+06</td>\n",
              "      <td>1.785482e+06</td>\n",
              "      <td>1.785482e+06</td>\n",
              "      <td>1.785482e+06</td>\n",
              "      <td>17493.000000</td>\n",
              "      <td>17493.000000</td>\n",
              "      <td>1.785482e+06</td>\n",
              "      <td>1.785482e+06</td>\n",
              "      <td>1158.000000</td>\n",
              "      <td>466.000000</td>\n",
              "      <td>466.000000</td>\n",
              "      <td>466.000000</td>\n",
              "      <td>466.000000</td>\n",
              "      <td>466.000000</td>\n",
              "      <td>466.000000</td>\n",
              "      <td>466.000000</td>\n",
              "      <td>466.000000</td>\n",
              "      <td>45871.000000</td>\n",
              "      <td>626880.000000</td>\n",
              "    </tr>\n",
              "    <tr>\n",
              "      <th>mean</th>\n",
              "      <td>2.016300e+05</td>\n",
              "      <td>2.016237e+03</td>\n",
              "      <td>1.740543e+05</td>\n",
              "      <td>5.352462e+01</td>\n",
              "      <td>2.632062e+02</td>\n",
              "      <td>1.252901</td>\n",
              "      <td>201616.980792</td>\n",
              "      <td>4.312090e+00</td>\n",
              "      <td>2.807972e+02</td>\n",
              "      <td>201640.514680</td>\n",
              "      <td>2452.276824</td>\n",
              "      <td>1191.798283</td>\n",
              "      <td>-10970.111588</td>\n",
              "      <td>-2458.203863</td>\n",
              "      <td>-1062.703863</td>\n",
              "      <td>-7178.748927</td>\n",
              "      <td>-270.506438</td>\n",
              "      <td>-45093.006438</td>\n",
              "      <td>628.486867</td>\n",
              "      <td>53.115069</td>\n",
              "    </tr>\n",
              "    <tr>\n",
              "      <th>std</th>\n",
              "      <td>1.499869e+02</td>\n",
              "      <td>1.503863e+00</td>\n",
              "      <td>1.117759e+05</td>\n",
              "      <td>4.382134e+01</td>\n",
              "      <td>8.934424e+01</td>\n",
              "      <td>1.786916</td>\n",
              "      <td>141.516394</td>\n",
              "      <td>9.962494e-01</td>\n",
              "      <td>4.371848e+03</td>\n",
              "      <td>270.680357</td>\n",
              "      <td>10768.059664</td>\n",
              "      <td>3389.708983</td>\n",
              "      <td>22101.122173</td>\n",
              "      <td>3675.199079</td>\n",
              "      <td>3079.509414</td>\n",
              "      <td>16415.340141</td>\n",
              "      <td>12122.578778</td>\n",
              "      <td>62414.661354</td>\n",
              "      <td>5685.073649</td>\n",
              "      <td>20.380906</td>\n",
              "    </tr>\n",
              "    <tr>\n",
              "      <th>min</th>\n",
              "      <td>2.014010e+05</td>\n",
              "      <td>2.014000e+03</td>\n",
              "      <td>0.000000e+00</td>\n",
              "      <td>1.000000e+00</td>\n",
              "      <td>-1.000000e+00</td>\n",
              "      <td>1.000000</td>\n",
              "      <td>201401.000000</td>\n",
              "      <td>2.000000e+00</td>\n",
              "      <td>0.000000e+00</td>\n",
              "      <td>200710.000000</td>\n",
              "      <td>0.000000</td>\n",
              "      <td>0.000000</td>\n",
              "      <td>-122269.000000</td>\n",
              "      <td>-41199.000000</td>\n",
              "      <td>-34098.000000</td>\n",
              "      <td>-109737.000000</td>\n",
              "      <td>-15090.000000</td>\n",
              "      <td>-443661.000000</td>\n",
              "      <td>-2243.530000</td>\n",
              "      <td>0.000000</td>\n",
              "    </tr>\n",
              "    <tr>\n",
              "      <th>25%</th>\n",
              "      <td>2.015060e+05</td>\n",
              "      <td>2.015000e+03</td>\n",
              "      <td>8.983985e+04</td>\n",
              "      <td>2.000000e+01</td>\n",
              "      <td>1.790000e+02</td>\n",
              "      <td>1.000000</td>\n",
              "      <td>201506.000000</td>\n",
              "      <td>3.625000e+00</td>\n",
              "      <td>0.000000e+00</td>\n",
              "      <td>201411.000000</td>\n",
              "      <td>0.000000</td>\n",
              "      <td>0.000000</td>\n",
              "      <td>-14608.500000</td>\n",
              "      <td>-4256.000000</td>\n",
              "      <td>-499.750000</td>\n",
              "      <td>-6755.500000</td>\n",
              "      <td>-647.500000</td>\n",
              "      <td>-56712.000000</td>\n",
              "      <td>0.000000</td>\n",
              "      <td>38.800000</td>\n",
              "    </tr>\n",
              "    <tr>\n",
              "      <th>50%</th>\n",
              "      <td>2.016100e+05</td>\n",
              "      <td>2.016000e+03</td>\n",
              "      <td>1.486189e+05</td>\n",
              "      <td>4.100000e+01</td>\n",
              "      <td>2.960000e+02</td>\n",
              "      <td>1.000000</td>\n",
              "      <td>201608.000000</td>\n",
              "      <td>4.125000e+00</td>\n",
              "      <td>0.000000e+00</td>\n",
              "      <td>201711.000000</td>\n",
              "      <td>0.000000</td>\n",
              "      <td>0.000000</td>\n",
              "      <td>-3595.500000</td>\n",
              "      <td>-728.500000</td>\n",
              "      <td>-86.000000</td>\n",
              "      <td>-855.500000</td>\n",
              "      <td>-220.000000</td>\n",
              "      <td>-25005.500000</td>\n",
              "      <td>0.000000</td>\n",
              "      <td>54.800000</td>\n",
              "    </tr>\n",
              "    <tr>\n",
              "      <th>75%</th>\n",
              "      <td>2.018010e+05</td>\n",
              "      <td>2.018000e+03</td>\n",
              "      <td>2.368437e+05</td>\n",
              "      <td>7.400000e+01</td>\n",
              "      <td>3.360000e+02</td>\n",
              "      <td>1.000000</td>\n",
              "      <td>201710.000000</td>\n",
              "      <td>4.750000e+00</td>\n",
              "      <td>0.000000e+00</td>\n",
              "      <td>201901.000000</td>\n",
              "      <td>0.000000</td>\n",
              "      <td>1048.500000</td>\n",
              "      <td>-220.000000</td>\n",
              "      <td>0.000000</td>\n",
              "      <td>0.000000</td>\n",
              "      <td>0.000000</td>\n",
              "      <td>-105.000000</td>\n",
              "      <td>-6394.750000</td>\n",
              "      <td>0.000000</td>\n",
              "      <td>68.200000</td>\n",
              "    </tr>\n",
              "    <tr>\n",
              "      <th>max</th>\n",
              "      <td>2.019030e+05</td>\n",
              "      <td>2.019000e+03</td>\n",
              "      <td>1.201000e+06</td>\n",
              "      <td>2.410000e+02</td>\n",
              "      <td>4.800000e+02</td>\n",
              "      <td>15.000000</td>\n",
              "      <td>201903.000000</td>\n",
              "      <td>3.750000e+01</td>\n",
              "      <td>1.889712e+05</td>\n",
              "      <td>201901.000000</td>\n",
              "      <td>91790.000000</td>\n",
              "      <td>37723.000000</td>\n",
              "      <td>187918.000000</td>\n",
              "      <td>0.000000</td>\n",
              "      <td>0.000000</td>\n",
              "      <td>61264.000000</td>\n",
              "      <td>258299.000000</td>\n",
              "      <td>30101.000000</td>\n",
              "      <td>167815.930000</td>\n",
              "      <td>414.600000</td>\n",
              "    </tr>\n",
              "  </tbody>\n",
              "</table>\n",
              "</div>"
            ],
            "text/plain": [
              "       monthly_reporting_period          Year  ...  modification_cost  estimated_ltv\n",
              "count              1.785482e+06  1.785482e+06  ...       45871.000000  626880.000000\n",
              "mean               2.016300e+05  2.016237e+03  ...         628.486867      53.115069\n",
              "std                1.499869e+02  1.503863e+00  ...        5685.073649      20.380906\n",
              "min                2.014010e+05  2.014000e+03  ...       -2243.530000       0.000000\n",
              "25%                2.015060e+05  2.015000e+03  ...           0.000000      38.800000\n",
              "50%                2.016100e+05  2.016000e+03  ...           0.000000      54.800000\n",
              "75%                2.018010e+05  2.018000e+03  ...           0.000000      68.200000\n",
              "max                2.019030e+05  2.019000e+03  ...      167815.930000     414.600000\n",
              "\n",
              "[8 rows x 20 columns]"
            ]
          },
          "metadata": {
            "tags": []
          },
          "execution_count": 50
        }
      ]
    },
    {
      "cell_type": "markdown",
      "metadata": {
        "id": "fHH1uY74Bcx-",
        "colab_type": "text"
      },
      "source": [
        "But this includes all of the individual monthly progress reporting too. \n",
        "\n",
        "What if we only considered the records for the zero-balance records once Freddie Mac is done with them.\n",
        "(As well as the records from March 2019, the last update)\n"
      ]
    },
    {
      "cell_type": "code",
      "metadata": {
        "id": "bUWou4ITEgTg",
        "colab_type": "code",
        "outputId": "feb884c9-1eec-4a8b-d308-cd9163fdaf6a",
        "colab": {
          "base_uri": "https://localhost:8080/",
          "height": 304
        }
      },
      "source": [
        "# All terminated loans since 2014\n",
        "zero_balance_after_2014df = only_after_2014df[only_after_2014df[\"zero_balance_code\"] >= 1]\n",
        "zero_balance_after_2014df = zero_balance_after_2014df[zero_balance_after_2014df[\"loan_age\"] > 0]\n",
        "zero_balance_after_2014df.describe()"
      ],
      "execution_count": 51,
      "outputs": [
        {
          "output_type": "execute_result",
          "data": {
            "text/html": [
              "<div>\n",
              "<style scoped>\n",
              "    .dataframe tbody tr th:only-of-type {\n",
              "        vertical-align: middle;\n",
              "    }\n",
              "\n",
              "    .dataframe tbody tr th {\n",
              "        vertical-align: top;\n",
              "    }\n",
              "\n",
              "    .dataframe thead th {\n",
              "        text-align: right;\n",
              "    }\n",
              "</style>\n",
              "<table border=\"1\" class=\"dataframe\">\n",
              "  <thead>\n",
              "    <tr style=\"text-align: right;\">\n",
              "      <th></th>\n",
              "      <th>monthly_reporting_period</th>\n",
              "      <th>Year</th>\n",
              "      <th>current_actual_upb</th>\n",
              "      <th>loan_age</th>\n",
              "      <th>months_to_maturity</th>\n",
              "      <th>zero_balance_code</th>\n",
              "      <th>zero_balance_date</th>\n",
              "      <th>current_interest_rate</th>\n",
              "      <th>current_deffered_upb</th>\n",
              "      <th>ddlpi</th>\n",
              "      <th>mi_recoveries</th>\n",
              "      <th>non_mi_recoveries</th>\n",
              "      <th>expenses</th>\n",
              "      <th>legal_costs</th>\n",
              "      <th>maintenance_preservation_costs</th>\n",
              "      <th>taxes_insurance</th>\n",
              "      <th>misc_expenses</th>\n",
              "      <th>actual_loss_calculation</th>\n",
              "      <th>modification_cost</th>\n",
              "      <th>estimated_ltv</th>\n",
              "    </tr>\n",
              "  </thead>\n",
              "  <tbody>\n",
              "    <tr>\n",
              "      <th>count</th>\n",
              "      <td>17493.000000</td>\n",
              "      <td>17493.000000</td>\n",
              "      <td>17493.0</td>\n",
              "      <td>17493.000000</td>\n",
              "      <td>17493.000000</td>\n",
              "      <td>17493.000000</td>\n",
              "      <td>17493.000000</td>\n",
              "      <td>17493.000000</td>\n",
              "      <td>17493.000000</td>\n",
              "      <td>607.000000</td>\n",
              "      <td>466.000000</td>\n",
              "      <td>466.000000</td>\n",
              "      <td>466.000000</td>\n",
              "      <td>466.000000</td>\n",
              "      <td>466.000000</td>\n",
              "      <td>466.000000</td>\n",
              "      <td>466.000000</td>\n",
              "      <td>466.000000</td>\n",
              "      <td>17493.000000</td>\n",
              "      <td>0.0</td>\n",
              "    </tr>\n",
              "    <tr>\n",
              "      <th>mean</th>\n",
              "      <td>201616.980449</td>\n",
              "      <td>2016.104556</td>\n",
              "      <td>0.0</td>\n",
              "      <td>64.661236</td>\n",
              "      <td>257.394329</td>\n",
              "      <td>1.252901</td>\n",
              "      <td>201616.980792</td>\n",
              "      <td>4.608754</td>\n",
              "      <td>342.932412</td>\n",
              "      <td>201458.036244</td>\n",
              "      <td>2452.276824</td>\n",
              "      <td>1191.798283</td>\n",
              "      <td>-10970.111588</td>\n",
              "      <td>-2458.203863</td>\n",
              "      <td>-1062.703863</td>\n",
              "      <td>-7178.748927</td>\n",
              "      <td>-270.506438</td>\n",
              "      <td>-45093.006438</td>\n",
              "      <td>808.901773</td>\n",
              "      <td>NaN</td>\n",
              "    </tr>\n",
              "    <tr>\n",
              "      <th>std</th>\n",
              "      <td>141.516651</td>\n",
              "      <td>1.418850</td>\n",
              "      <td>0.0</td>\n",
              "      <td>44.779525</td>\n",
              "      <td>87.053137</td>\n",
              "      <td>1.786916</td>\n",
              "      <td>141.516394</td>\n",
              "      <td>1.018411</td>\n",
              "      <td>5079.802925</td>\n",
              "      <td>238.508647</td>\n",
              "      <td>10768.059664</td>\n",
              "      <td>3389.708983</td>\n",
              "      <td>22101.122173</td>\n",
              "      <td>3675.199079</td>\n",
              "      <td>3079.509414</td>\n",
              "      <td>16415.340141</td>\n",
              "      <td>12122.578778</td>\n",
              "      <td>62414.661354</td>\n",
              "      <td>6624.799560</td>\n",
              "      <td>NaN</td>\n",
              "    </tr>\n",
              "    <tr>\n",
              "      <th>min</th>\n",
              "      <td>201401.000000</td>\n",
              "      <td>2014.000000</td>\n",
              "      <td>0.0</td>\n",
              "      <td>1.000000</td>\n",
              "      <td>-1.000000</td>\n",
              "      <td>1.000000</td>\n",
              "      <td>201401.000000</td>\n",
              "      <td>2.000000</td>\n",
              "      <td>0.000000</td>\n",
              "      <td>200710.000000</td>\n",
              "      <td>0.000000</td>\n",
              "      <td>0.000000</td>\n",
              "      <td>-122269.000000</td>\n",
              "      <td>-41199.000000</td>\n",
              "      <td>-34098.000000</td>\n",
              "      <td>-109737.000000</td>\n",
              "      <td>-15090.000000</td>\n",
              "      <td>-443661.000000</td>\n",
              "      <td>-2243.530000</td>\n",
              "      <td>NaN</td>\n",
              "    </tr>\n",
              "    <tr>\n",
              "      <th>25%</th>\n",
              "      <td>201506.000000</td>\n",
              "      <td>2015.000000</td>\n",
              "      <td>0.0</td>\n",
              "      <td>28.000000</td>\n",
              "      <td>199.000000</td>\n",
              "      <td>1.000000</td>\n",
              "      <td>201506.000000</td>\n",
              "      <td>3.875000</td>\n",
              "      <td>0.000000</td>\n",
              "      <td>201308.000000</td>\n",
              "      <td>0.000000</td>\n",
              "      <td>0.000000</td>\n",
              "      <td>-14608.500000</td>\n",
              "      <td>-4256.000000</td>\n",
              "      <td>-499.750000</td>\n",
              "      <td>-6755.500000</td>\n",
              "      <td>-647.500000</td>\n",
              "      <td>-56712.000000</td>\n",
              "      <td>0.000000</td>\n",
              "      <td>NaN</td>\n",
              "    </tr>\n",
              "    <tr>\n",
              "      <th>50%</th>\n",
              "      <td>201608.000000</td>\n",
              "      <td>2016.000000</td>\n",
              "      <td>0.0</td>\n",
              "      <td>56.000000</td>\n",
              "      <td>284.000000</td>\n",
              "      <td>1.000000</td>\n",
              "      <td>201608.000000</td>\n",
              "      <td>4.500000</td>\n",
              "      <td>0.000000</td>\n",
              "      <td>201501.000000</td>\n",
              "      <td>0.000000</td>\n",
              "      <td>0.000000</td>\n",
              "      <td>-3595.500000</td>\n",
              "      <td>-728.500000</td>\n",
              "      <td>-86.000000</td>\n",
              "      <td>-855.500000</td>\n",
              "      <td>-220.000000</td>\n",
              "      <td>-25005.500000</td>\n",
              "      <td>0.000000</td>\n",
              "      <td>NaN</td>\n",
              "    </tr>\n",
              "    <tr>\n",
              "      <th>75%</th>\n",
              "      <td>201710.000000</td>\n",
              "      <td>2017.000000</td>\n",
              "      <td>0.0</td>\n",
              "      <td>91.000000</td>\n",
              "      <td>327.000000</td>\n",
              "      <td>1.000000</td>\n",
              "      <td>201710.000000</td>\n",
              "      <td>5.250000</td>\n",
              "      <td>0.000000</td>\n",
              "      <td>201611.000000</td>\n",
              "      <td>0.000000</td>\n",
              "      <td>1048.500000</td>\n",
              "      <td>-220.000000</td>\n",
              "      <td>0.000000</td>\n",
              "      <td>0.000000</td>\n",
              "      <td>0.000000</td>\n",
              "      <td>-105.000000</td>\n",
              "      <td>-6394.750000</td>\n",
              "      <td>0.000000</td>\n",
              "      <td>NaN</td>\n",
              "    </tr>\n",
              "    <tr>\n",
              "      <th>max</th>\n",
              "      <td>201903.000000</td>\n",
              "      <td>2019.000000</td>\n",
              "      <td>0.0</td>\n",
              "      <td>241.000000</td>\n",
              "      <td>478.000000</td>\n",
              "      <td>15.000000</td>\n",
              "      <td>201903.000000</td>\n",
              "      <td>10.100000</td>\n",
              "      <td>188971.210000</td>\n",
              "      <td>201901.000000</td>\n",
              "      <td>91790.000000</td>\n",
              "      <td>37723.000000</td>\n",
              "      <td>187918.000000</td>\n",
              "      <td>0.000000</td>\n",
              "      <td>0.000000</td>\n",
              "      <td>61264.000000</td>\n",
              "      <td>258299.000000</td>\n",
              "      <td>30101.000000</td>\n",
              "      <td>167815.930000</td>\n",
              "      <td>NaN</td>\n",
              "    </tr>\n",
              "  </tbody>\n",
              "</table>\n",
              "</div>"
            ],
            "text/plain": [
              "       monthly_reporting_period          Year  ...  modification_cost  estimated_ltv\n",
              "count              17493.000000  17493.000000  ...       17493.000000            0.0\n",
              "mean              201616.980449   2016.104556  ...         808.901773            NaN\n",
              "std                  141.516651      1.418850  ...        6624.799560            NaN\n",
              "min               201401.000000   2014.000000  ...       -2243.530000            NaN\n",
              "25%               201506.000000   2015.000000  ...           0.000000            NaN\n",
              "50%               201608.000000   2016.000000  ...           0.000000            NaN\n",
              "75%               201710.000000   2017.000000  ...           0.000000            NaN\n",
              "max               201903.000000   2019.000000  ...      167815.930000            NaN\n",
              "\n",
              "[8 rows x 20 columns]"
            ]
          },
          "metadata": {
            "tags": []
          },
          "execution_count": 51
        }
      ]
    },
    {
      "cell_type": "code",
      "metadata": {
        "id": "vDmYdalPQXCY",
        "colab_type": "code",
        "outputId": "b5c72787-0eb9-4e46-af9a-147ef846a8ba",
        "colab": {
          "base_uri": "https://localhost:8080/",
          "height": 304
        }
      },
      "source": [
        "# All loans still open (March 2019)\n",
        "still_pendingdf = only_after_2014df[only_after_2014df[\"monthly_reporting_period\"] == 201903]\n",
        "still_pendingdf = still_pendingdf[still_pendingdf[\"loan_age\"] > 0]\n",
        "still_pendingdf.describe()"
      ],
      "execution_count": 52,
      "outputs": [
        {
          "output_type": "execute_result",
          "data": {
            "text/html": [
              "<div>\n",
              "<style scoped>\n",
              "    .dataframe tbody tr th:only-of-type {\n",
              "        vertical-align: middle;\n",
              "    }\n",
              "\n",
              "    .dataframe tbody tr th {\n",
              "        vertical-align: top;\n",
              "    }\n",
              "\n",
              "    .dataframe thead th {\n",
              "        text-align: right;\n",
              "    }\n",
              "</style>\n",
              "<table border=\"1\" class=\"dataframe\">\n",
              "  <thead>\n",
              "    <tr style=\"text-align: right;\">\n",
              "      <th></th>\n",
              "      <th>monthly_reporting_period</th>\n",
              "      <th>Year</th>\n",
              "      <th>current_actual_upb</th>\n",
              "      <th>loan_age</th>\n",
              "      <th>months_to_maturity</th>\n",
              "      <th>zero_balance_code</th>\n",
              "      <th>zero_balance_date</th>\n",
              "      <th>current_interest_rate</th>\n",
              "      <th>current_deffered_upb</th>\n",
              "      <th>ddlpi</th>\n",
              "      <th>mi_recoveries</th>\n",
              "      <th>non_mi_recoveries</th>\n",
              "      <th>expenses</th>\n",
              "      <th>legal_costs</th>\n",
              "      <th>maintenance_preservation_costs</th>\n",
              "      <th>taxes_insurance</th>\n",
              "      <th>misc_expenses</th>\n",
              "      <th>actual_loss_calculation</th>\n",
              "      <th>modification_cost</th>\n",
              "      <th>estimated_ltv</th>\n",
              "    </tr>\n",
              "  </thead>\n",
              "  <tbody>\n",
              "    <tr>\n",
              "      <th>count</th>\n",
              "      <td>28622.0</td>\n",
              "      <td>28622.0</td>\n",
              "      <td>2.862200e+04</td>\n",
              "      <td>28622.000000</td>\n",
              "      <td>28622.000000</td>\n",
              "      <td>262.000000</td>\n",
              "      <td>262.0</td>\n",
              "      <td>28622.000000</td>\n",
              "      <td>28622.00000</td>\n",
              "      <td>546.000000</td>\n",
              "      <td>0.0</td>\n",
              "      <td>0.0</td>\n",
              "      <td>0.0</td>\n",
              "      <td>0.0</td>\n",
              "      <td>0.0</td>\n",
              "      <td>0.0</td>\n",
              "      <td>0.0</td>\n",
              "      <td>0.0</td>\n",
              "      <td>28622.000000</td>\n",
              "      <td>25549.000000</td>\n",
              "    </tr>\n",
              "    <tr>\n",
              "      <th>mean</th>\n",
              "      <td>201903.0</td>\n",
              "      <td>2019.0</td>\n",
              "      <td>1.747754e+05</td>\n",
              "      <td>65.441863</td>\n",
              "      <td>252.018552</td>\n",
              "      <td>2.286260</td>\n",
              "      <td>201903.0</td>\n",
              "      <td>4.160379</td>\n",
              "      <td>179.87361</td>\n",
              "      <td>201848.650183</td>\n",
              "      <td>NaN</td>\n",
              "      <td>NaN</td>\n",
              "      <td>NaN</td>\n",
              "      <td>NaN</td>\n",
              "      <td>NaN</td>\n",
              "      <td>NaN</td>\n",
              "      <td>NaN</td>\n",
              "      <td>NaN</td>\n",
              "      <td>545.712362</td>\n",
              "      <td>50.102583</td>\n",
              "    </tr>\n",
              "    <tr>\n",
              "      <th>std</th>\n",
              "      <td>0.0</td>\n",
              "      <td>0.0</td>\n",
              "      <td>1.127793e+05</td>\n",
              "      <td>44.863283</td>\n",
              "      <td>90.878905</td>\n",
              "      <td>4.045493</td>\n",
              "      <td>0.0</td>\n",
              "      <td>0.860716</td>\n",
              "      <td>3312.09337</td>\n",
              "      <td>106.583027</td>\n",
              "      <td>NaN</td>\n",
              "      <td>NaN</td>\n",
              "      <td>NaN</td>\n",
              "      <td>NaN</td>\n",
              "      <td>NaN</td>\n",
              "      <td>NaN</td>\n",
              "      <td>NaN</td>\n",
              "      <td>NaN</td>\n",
              "      <td>5223.075922</td>\n",
              "      <td>20.016628</td>\n",
              "    </tr>\n",
              "    <tr>\n",
              "      <th>min</th>\n",
              "      <td>201903.0</td>\n",
              "      <td>2019.0</td>\n",
              "      <td>0.000000e+00</td>\n",
              "      <td>14.000000</td>\n",
              "      <td>3.000000</td>\n",
              "      <td>1.000000</td>\n",
              "      <td>201903.0</td>\n",
              "      <td>2.000000</td>\n",
              "      <td>0.00000</td>\n",
              "      <td>200901.000000</td>\n",
              "      <td>NaN</td>\n",
              "      <td>NaN</td>\n",
              "      <td>NaN</td>\n",
              "      <td>NaN</td>\n",
              "      <td>NaN</td>\n",
              "      <td>NaN</td>\n",
              "      <td>NaN</td>\n",
              "      <td>NaN</td>\n",
              "      <td>-1568.380000</td>\n",
              "      <td>0.100000</td>\n",
              "    </tr>\n",
              "    <tr>\n",
              "      <th>25%</th>\n",
              "      <td>201903.0</td>\n",
              "      <td>2019.0</td>\n",
              "      <td>8.849245e+04</td>\n",
              "      <td>31.000000</td>\n",
              "      <td>166.000000</td>\n",
              "      <td>1.000000</td>\n",
              "      <td>201903.0</td>\n",
              "      <td>3.625000</td>\n",
              "      <td>0.00000</td>\n",
              "      <td>201812.000000</td>\n",
              "      <td>NaN</td>\n",
              "      <td>NaN</td>\n",
              "      <td>NaN</td>\n",
              "      <td>NaN</td>\n",
              "      <td>NaN</td>\n",
              "      <td>NaN</td>\n",
              "      <td>NaN</td>\n",
              "      <td>NaN</td>\n",
              "      <td>0.000000</td>\n",
              "      <td>35.900000</td>\n",
              "    </tr>\n",
              "    <tr>\n",
              "      <th>50%</th>\n",
              "      <td>201903.0</td>\n",
              "      <td>2019.0</td>\n",
              "      <td>1.511835e+05</td>\n",
              "      <td>53.000000</td>\n",
              "      <td>287.000000</td>\n",
              "      <td>1.000000</td>\n",
              "      <td>201903.0</td>\n",
              "      <td>4.000000</td>\n",
              "      <td>0.00000</td>\n",
              "      <td>201901.000000</td>\n",
              "      <td>NaN</td>\n",
              "      <td>NaN</td>\n",
              "      <td>NaN</td>\n",
              "      <td>NaN</td>\n",
              "      <td>NaN</td>\n",
              "      <td>NaN</td>\n",
              "      <td>NaN</td>\n",
              "      <td>NaN</td>\n",
              "      <td>0.000000</td>\n",
              "      <td>51.600000</td>\n",
              "    </tr>\n",
              "    <tr>\n",
              "      <th>75%</th>\n",
              "      <td>201903.0</td>\n",
              "      <td>2019.0</td>\n",
              "      <td>2.407966e+05</td>\n",
              "      <td>83.000000</td>\n",
              "      <td>326.000000</td>\n",
              "      <td>1.000000</td>\n",
              "      <td>201903.0</td>\n",
              "      <td>4.500000</td>\n",
              "      <td>0.00000</td>\n",
              "      <td>201901.000000</td>\n",
              "      <td>NaN</td>\n",
              "      <td>NaN</td>\n",
              "      <td>NaN</td>\n",
              "      <td>NaN</td>\n",
              "      <td>NaN</td>\n",
              "      <td>NaN</td>\n",
              "      <td>NaN</td>\n",
              "      <td>NaN</td>\n",
              "      <td>0.000000</td>\n",
              "      <td>64.900000</td>\n",
              "    </tr>\n",
              "    <tr>\n",
              "      <th>max</th>\n",
              "      <td>201903.0</td>\n",
              "      <td>2019.0</td>\n",
              "      <td>1.151097e+06</td>\n",
              "      <td>241.000000</td>\n",
              "      <td>480.000000</td>\n",
              "      <td>15.000000</td>\n",
              "      <td>201903.0</td>\n",
              "      <td>9.875000</td>\n",
              "      <td>156319.17000</td>\n",
              "      <td>201901.000000</td>\n",
              "      <td>NaN</td>\n",
              "      <td>NaN</td>\n",
              "      <td>NaN</td>\n",
              "      <td>NaN</td>\n",
              "      <td>NaN</td>\n",
              "      <td>NaN</td>\n",
              "      <td>NaN</td>\n",
              "      <td>NaN</td>\n",
              "      <td>120969.780000</td>\n",
              "      <td>402.600000</td>\n",
              "    </tr>\n",
              "  </tbody>\n",
              "</table>\n",
              "</div>"
            ],
            "text/plain": [
              "       monthly_reporting_period     Year  ...  modification_cost  estimated_ltv\n",
              "count                   28622.0  28622.0  ...       28622.000000   25549.000000\n",
              "mean                   201903.0   2019.0  ...         545.712362      50.102583\n",
              "std                         0.0      0.0  ...        5223.075922      20.016628\n",
              "min                    201903.0   2019.0  ...       -1568.380000       0.100000\n",
              "25%                    201903.0   2019.0  ...           0.000000      35.900000\n",
              "50%                    201903.0   2019.0  ...           0.000000      51.600000\n",
              "75%                    201903.0   2019.0  ...           0.000000      64.900000\n",
              "max                    201903.0   2019.0  ...      120969.780000     402.600000\n",
              "\n",
              "[8 rows x 20 columns]"
            ]
          },
          "metadata": {
            "tags": []
          },
          "execution_count": 52
        }
      ]
    },
    {
      "cell_type": "code",
      "metadata": {
        "id": "ixNpKATeQ5_6",
        "colab_type": "code",
        "colab": {
          "base_uri": "https://localhost:8080/",
          "height": 122
        },
        "outputId": "105788c3-bdd6-4fd8-fa60-83083d0e24f0"
      },
      "source": [
        "# How many of the terminated loans in different ways?\n",
        "zero_balance_distribution = zero_balance_after_2014df[\"zero_balance_code\"].value_counts()\n",
        "zero_balance_distribution"
      ],
      "execution_count": 53,
      "outputs": [
        {
          "output_type": "execute_result",
          "data": {
            "text/plain": [
              "1.0     16963\n",
              "15.0      284\n",
              "2.0       158\n",
              "3.0        50\n",
              "6.0        38\n",
              "Name: zero_balance_code, dtype: int64"
            ]
          },
          "metadata": {
            "tags": []
          },
          "execution_count": 53
        }
      ]
    },
    {
      "cell_type": "code",
      "metadata": {
        "id": "Dr5KcSbcVmQz",
        "colab_type": "code",
        "colab": {
          "base_uri": "https://localhost:8080/",
          "height": 455
        },
        "outputId": "96091ea2-30ca-41ee-a1c0-7086516a547d"
      },
      "source": [
        "# Plotting the Zero Balance Codes\n",
        "\n",
        "plt.figure(num=None, figsize=(15, 6), dpi=80, facecolor='w', edgecolor='k')\n",
        "plt.axes(xlabel=\"Type of Termination\", ylabel=\"Number of Loans\")\n",
        "plt.title(\"Distribution of Loans by Type of Termination: Log Scale\")\n",
        "labels_str = [\"Prepaid/Matured\", \"Note Sale/ \\n Repurchase Sale\", \"Third Party Sale\", \"Short Sale/ \\n Charge Off\", \"Repurchase \\n prior to Disposition\"]\n",
        "# labels = sorted([key for key in PPM_by_year.keys()])\n",
        "heights = zero_balance_distribution.values\n",
        "# zero_balance_distribution\n",
        "plt.bar(labels_str, heights, log=True, color=\"gold\")\n",
        "plt.savefig('dist_termination_log.png')"
      ],
      "execution_count": 54,
      "outputs": [
        {
          "output_type": "display_data",
          "data": {
            "image/png": "[encoded data removed]",
            "text/plain": [
              "<Figure size 1200x480 with 1 Axes>"
            ]
          },
          "metadata": {
            "tags": []
          }
        }
      ]
    },
    {
      "cell_type": "code",
      "metadata": {
        "id": "7X3a4JVna1cM",
        "colab_type": "code",
        "colab": {
          "base_uri": "https://localhost:8080/",
          "height": 455
        },
        "outputId": "9b3c83cb-04d3-4037-f4ff-8656a8cc1b05"
      },
      "source": [
        "plt.figure(num=None, figsize=(15, 6), dpi=80, facecolor='w', edgecolor='k')\n",
        "plt.axes(xlabel=\"Type of Termination\", ylabel=\"Number of Loans\")\n",
        "plt.title(\"Distribution of Loans by Type of Termination: Linear Scale\")\n",
        "\n",
        "labels_str = [\"Prepaid/Matured\", \"Note Sale/ \\n Repurchase Sale\", \"Third Party Sale\", \"Short Sale/ \\n Charge Off\", \"Repurchase \\n prior to Disposition\"]\n",
        "# labels = sorted([key for key in PPM_by_year.keys()])\n",
        "heights = zero_balance_distribution.values\n",
        "plt.bar(labels_str, heights, log=False)\n",
        "plt.savefig('dist_termination.png')"
      ],
      "execution_count": 55,
      "outputs": [
        {
          "output_type": "display_data",
          "data": {
            "image/png": "[encoded data removed]",
            "text/plain": [
              "<Figure size 1200x480 with 1 Axes>"
            ]
          },
          "metadata": {
            "tags": []
          }
        }
      ]
    },
    {
      "cell_type": "markdown",
      "metadata": {
        "id": "NXm6h4wTap_J",
        "colab_type": "text"
      },
      "source": [
        "As we can see above, the vast majority of terminated loans is in terms of Matured/Prepaid loans."
      ]
    },
    {
      "cell_type": "markdown",
      "metadata": {
        "id": "8QbWd-mebPkm",
        "colab_type": "text"
      },
      "source": [
        "## Now as part of the prompt, lets consider only the year 2016, and only Prepaid/Charged Off loans."
      ]
    },
    {
      "cell_type": "code",
      "metadata": {
        "id": "D1pkX8FVbXxx",
        "colab_type": "code",
        "colab": {
          "base_uri": "https://localhost:8080/",
          "height": 70
        },
        "outputId": "5b0c7ae7-5ab3-4114-bd7b-bbf5b5aae387"
      },
      "source": [
        "# IF YOU'RE ONLY INTERESTED IN IR C\n",
        "prepaid_or_CO_2016df = zero_balance_after_2014df[zero_balance_after_2014df[\"Year\"] == 2016]\n",
        "prepaid_or_CO_2016df = prepaid_or_CO_2016df[prepaid_or_CO_2016df[\"zero_balance_code\"] <= 3.0]\n",
        "prepaid_or_CO_2016df = prepaid_or_CO_2016df[prepaid_or_CO_2016df[\"zero_balance_code\"] != 2.0]\n",
        "prepaid_or_CO_2016df[\"zero_balance_code\"].value_counts()"
      ],
      "execution_count": 56,
      "outputs": [
        {
          "output_type": "execute_result",
          "data": {
            "text/plain": [
              "1.0    4132\n",
              "3.0       5\n",
              "Name: zero_balance_code, dtype: int64"
            ]
          },
          "metadata": {
            "tags": []
          },
          "execution_count": 56
        }
      ]
    },
    {
      "cell_type": "markdown",
      "metadata": {
        "id": "Xy0l-teneLdl",
        "colab_type": "text"
      },
      "source": [
        "Now, we can find the (Min, Mean, Median, Max) for loan age, Months to Maturity and Current Interest Rates ALL AT ONCE:"
      ]
    },
    {
      "cell_type": "code",
      "metadata": {
        "id": "rvL0uOKAeLAU",
        "colab_type": "code",
        "colab": {
          "base_uri": "https://localhost:8080/",
          "height": 304
        },
        "outputId": "fb346acc-4ca7-40be-d6dd-deccfb9abe66"
      },
      "source": [
        "prepaid_or_CO_2016df.describe()"
      ],
      "execution_count": 57,
      "outputs": [
        {
          "output_type": "execute_result",
          "data": {
            "text/html": [
              "<div>\n",
              "<style scoped>\n",
              "    .dataframe tbody tr th:only-of-type {\n",
              "        vertical-align: middle;\n",
              "    }\n",
              "\n",
              "    .dataframe tbody tr th {\n",
              "        vertical-align: top;\n",
              "    }\n",
              "\n",
              "    .dataframe thead th {\n",
              "        text-align: right;\n",
              "    }\n",
              "</style>\n",
              "<table border=\"1\" class=\"dataframe\">\n",
              "  <thead>\n",
              "    <tr style=\"text-align: right;\">\n",
              "      <th></th>\n",
              "      <th>monthly_reporting_period</th>\n",
              "      <th>Year</th>\n",
              "      <th>current_actual_upb</th>\n",
              "      <th>loan_age</th>\n",
              "      <th>months_to_maturity</th>\n",
              "      <th>zero_balance_code</th>\n",
              "      <th>zero_balance_date</th>\n",
              "      <th>current_interest_rate</th>\n",
              "      <th>current_deffered_upb</th>\n",
              "      <th>ddlpi</th>\n",
              "      <th>mi_recoveries</th>\n",
              "      <th>non_mi_recoveries</th>\n",
              "      <th>expenses</th>\n",
              "      <th>legal_costs</th>\n",
              "      <th>maintenance_preservation_costs</th>\n",
              "      <th>taxes_insurance</th>\n",
              "      <th>misc_expenses</th>\n",
              "      <th>actual_loss_calculation</th>\n",
              "      <th>modification_cost</th>\n",
              "      <th>estimated_ltv</th>\n",
              "    </tr>\n",
              "  </thead>\n",
              "  <tbody>\n",
              "    <tr>\n",
              "      <th>count</th>\n",
              "      <td>4137.000000</td>\n",
              "      <td>4137.0</td>\n",
              "      <td>4137.0</td>\n",
              "      <td>4137.000000</td>\n",
              "      <td>4137.000000</td>\n",
              "      <td>4137.000000</td>\n",
              "      <td>4137.000000</td>\n",
              "      <td>4137.000000</td>\n",
              "      <td>4137.000000</td>\n",
              "      <td>66.000000</td>\n",
              "      <td>5.000000</td>\n",
              "      <td>5.000000</td>\n",
              "      <td>5.000000</td>\n",
              "      <td>5.00000</td>\n",
              "      <td>5.000000</td>\n",
              "      <td>5.000000</td>\n",
              "      <td>5.000000</td>\n",
              "      <td>5.000000</td>\n",
              "      <td>4137.000000</td>\n",
              "      <td>0.0</td>\n",
              "    </tr>\n",
              "    <tr>\n",
              "      <th>mean</th>\n",
              "      <td>201607.062606</td>\n",
              "      <td>2016.0</td>\n",
              "      <td>0.0</td>\n",
              "      <td>57.968576</td>\n",
              "      <td>264.247281</td>\n",
              "      <td>1.002417</td>\n",
              "      <td>201607.062606</td>\n",
              "      <td>4.492757</td>\n",
              "      <td>14.148741</td>\n",
              "      <td>201538.075758</td>\n",
              "      <td>9763.400000</td>\n",
              "      <td>4024.400000</td>\n",
              "      <td>-38783.200000</td>\n",
              "      <td>-3971.80000</td>\n",
              "      <td>-390.000000</td>\n",
              "      <td>-33905.400000</td>\n",
              "      <td>-516.000000</td>\n",
              "      <td>-114599.400000</td>\n",
              "      <td>328.610723</td>\n",
              "      <td>NaN</td>\n",
              "    </tr>\n",
              "    <tr>\n",
              "      <th>std</th>\n",
              "      <td>3.282433</td>\n",
              "      <td>0.0</td>\n",
              "      <td>0.0</td>\n",
              "      <td>42.677839</td>\n",
              "      <td>83.941362</td>\n",
              "      <td>0.069496</td>\n",
              "      <td>3.282433</td>\n",
              "      <td>0.925011</td>\n",
              "      <td>569.650025</td>\n",
              "      <td>132.759622</td>\n",
              "      <td>21831.626092</td>\n",
              "      <td>6127.249326</td>\n",
              "      <td>48294.238416</td>\n",
              "      <td>3299.41657</td>\n",
              "      <td>310.865727</td>\n",
              "      <td>45149.263702</td>\n",
              "      <td>306.255612</td>\n",
              "      <td>139178.948677</td>\n",
              "      <td>3626.130846</td>\n",
              "      <td>NaN</td>\n",
              "    </tr>\n",
              "    <tr>\n",
              "      <th>min</th>\n",
              "      <td>201601.000000</td>\n",
              "      <td>2016.0</td>\n",
              "      <td>0.0</td>\n",
              "      <td>1.000000</td>\n",
              "      <td>0.000000</td>\n",
              "      <td>1.000000</td>\n",
              "      <td>201601.000000</td>\n",
              "      <td>2.000000</td>\n",
              "      <td>0.000000</td>\n",
              "      <td>201005.000000</td>\n",
              "      <td>0.000000</td>\n",
              "      <td>0.000000</td>\n",
              "      <td>-118485.000000</td>\n",
              "      <td>-8134.00000</td>\n",
              "      <td>-825.000000</td>\n",
              "      <td>-109737.000000</td>\n",
              "      <td>-1040.000000</td>\n",
              "      <td>-350559.000000</td>\n",
              "      <td>0.000000</td>\n",
              "      <td>NaN</td>\n",
              "    </tr>\n",
              "    <tr>\n",
              "      <th>25%</th>\n",
              "      <td>201604.000000</td>\n",
              "      <td>2016.0</td>\n",
              "      <td>0.0</td>\n",
              "      <td>25.000000</td>\n",
              "      <td>206.000000</td>\n",
              "      <td>1.000000</td>\n",
              "      <td>201604.000000</td>\n",
              "      <td>3.875000</td>\n",
              "      <td>0.000000</td>\n",
              "      <td>201511.000000</td>\n",
              "      <td>0.000000</td>\n",
              "      <td>0.000000</td>\n",
              "      <td>-50931.000000</td>\n",
              "      <td>-6883.00000</td>\n",
              "      <td>-600.000000</td>\n",
              "      <td>-41672.000000</td>\n",
              "      <td>-525.000000</td>\n",
              "      <td>-123206.000000</td>\n",
              "      <td>0.000000</td>\n",
              "      <td>NaN</td>\n",
              "    </tr>\n",
              "    <tr>\n",
              "      <th>50%</th>\n",
              "      <td>201607.000000</td>\n",
              "      <td>2016.0</td>\n",
              "      <td>0.0</td>\n",
              "      <td>47.000000</td>\n",
              "      <td>292.000000</td>\n",
              "      <td>1.000000</td>\n",
              "      <td>201607.000000</td>\n",
              "      <td>4.375000</td>\n",
              "      <td>0.000000</td>\n",
              "      <td>201602.000000</td>\n",
              "      <td>0.000000</td>\n",
              "      <td>2667.000000</td>\n",
              "      <td>-11205.000000</td>\n",
              "      <td>-2368.00000</td>\n",
              "      <td>-270.000000</td>\n",
              "      <td>-8970.000000</td>\n",
              "      <td>-400.000000</td>\n",
              "      <td>-62402.000000</td>\n",
              "      <td>0.000000</td>\n",
              "      <td>NaN</td>\n",
              "    </tr>\n",
              "    <tr>\n",
              "      <th>75%</th>\n",
              "      <td>201610.000000</td>\n",
              "      <td>2016.0</td>\n",
              "      <td>0.0</td>\n",
              "      <td>81.000000</td>\n",
              "      <td>331.000000</td>\n",
              "      <td>1.000000</td>\n",
              "      <td>201610.000000</td>\n",
              "      <td>4.875000</td>\n",
              "      <td>0.000000</td>\n",
              "      <td>201606.000000</td>\n",
              "      <td>0.000000</td>\n",
              "      <td>2740.000000</td>\n",
              "      <td>-7956.000000</td>\n",
              "      <td>-1565.00000</td>\n",
              "      <td>-150.000000</td>\n",
              "      <td>-5138.000000</td>\n",
              "      <td>-315.000000</td>\n",
              "      <td>-34300.000000</td>\n",
              "      <td>0.000000</td>\n",
              "      <td>NaN</td>\n",
              "    </tr>\n",
              "    <tr>\n",
              "      <th>max</th>\n",
              "      <td>201612.000000</td>\n",
              "      <td>2016.0</td>\n",
              "      <td>0.0</td>\n",
              "      <td>212.000000</td>\n",
              "      <td>477.000000</td>\n",
              "      <td>3.000000</td>\n",
              "      <td>201612.000000</td>\n",
              "      <td>8.500000</td>\n",
              "      <td>26500.000000</td>\n",
              "      <td>201610.000000</td>\n",
              "      <td>48817.000000</td>\n",
              "      <td>14715.000000</td>\n",
              "      <td>-5339.000000</td>\n",
              "      <td>-909.00000</td>\n",
              "      <td>-105.000000</td>\n",
              "      <td>-4010.000000</td>\n",
              "      <td>-300.000000</td>\n",
              "      <td>-2530.000000</td>\n",
              "      <td>83656.040000</td>\n",
              "      <td>NaN</td>\n",
              "    </tr>\n",
              "  </tbody>\n",
              "</table>\n",
              "</div>"
            ],
            "text/plain": [
              "       monthly_reporting_period    Year  ...  modification_cost  estimated_ltv\n",
              "count               4137.000000  4137.0  ...        4137.000000            0.0\n",
              "mean              201607.062606  2016.0  ...         328.610723            NaN\n",
              "std                    3.282433     0.0  ...        3626.130846            NaN\n",
              "min               201601.000000  2016.0  ...           0.000000            NaN\n",
              "25%               201604.000000  2016.0  ...           0.000000            NaN\n",
              "50%               201607.000000  2016.0  ...           0.000000            NaN\n",
              "75%               201610.000000  2016.0  ...           0.000000            NaN\n",
              "max               201612.000000  2016.0  ...       83656.040000            NaN\n",
              "\n",
              "[8 rows x 20 columns]"
            ]
          },
          "metadata": {
            "tags": []
          },
          "execution_count": 57
        }
      ]
    },
    {
      "cell_type": "code",
      "metadata": {
        "id": "APcCbXZ2iyWL",
        "colab_type": "code",
        "colab": {
          "base_uri": "https://localhost:8080/",
          "height": 422
        },
        "outputId": "7000a1de-c7e0-478d-aa71-021abd9a3b59"
      },
      "source": [
        "prepaid_or_CO_2016df"
      ],
      "execution_count": 58,
      "outputs": [
        {
          "output_type": "execute_result",
          "data": {
            "text/html": [
              "<div>\n",
              "<style scoped>\n",
              "    .dataframe tbody tr th:only-of-type {\n",
              "        vertical-align: middle;\n",
              "    }\n",
              "\n",
              "    .dataframe tbody tr th {\n",
              "        vertical-align: top;\n",
              "    }\n",
              "\n",
              "    .dataframe thead th {\n",
              "        text-align: right;\n",
              "    }\n",
              "</style>\n",
              "<table border=\"1\" class=\"dataframe\">\n",
              "  <thead>\n",
              "    <tr style=\"text-align: right;\">\n",
              "      <th></th>\n",
              "      <th>loan_sequence_number</th>\n",
              "      <th>monthly_reporting_period</th>\n",
              "      <th>Year</th>\n",
              "      <th>current_actual_upb</th>\n",
              "      <th>current_lds</th>\n",
              "      <th>loan_age</th>\n",
              "      <th>months_to_maturity</th>\n",
              "      <th>repurchase_flag</th>\n",
              "      <th>modification_flag</th>\n",
              "      <th>zero_balance_code</th>\n",
              "      <th>zero_balance_date</th>\n",
              "      <th>current_interest_rate</th>\n",
              "      <th>current_deffered_upb</th>\n",
              "      <th>ddlpi</th>\n",
              "      <th>mi_recoveries</th>\n",
              "      <th>net_sales_proceeds</th>\n",
              "      <th>non_mi_recoveries</th>\n",
              "      <th>expenses</th>\n",
              "      <th>legal_costs</th>\n",
              "      <th>maintenance_preservation_costs</th>\n",
              "      <th>taxes_insurance</th>\n",
              "      <th>misc_expenses</th>\n",
              "      <th>actual_loss_calculation</th>\n",
              "      <th>modification_cost</th>\n",
              "      <th>step_modification_flag</th>\n",
              "      <th>deferred_payment_modification</th>\n",
              "      <th>estimated_ltv</th>\n",
              "    </tr>\n",
              "  </thead>\n",
              "  <tbody>\n",
              "    <tr>\n",
              "      <th>608</th>\n",
              "      <td>F101Q4161660</td>\n",
              "      <td>201603</td>\n",
              "      <td>2016</td>\n",
              "      <td>0.0</td>\n",
              "      <td>0</td>\n",
              "      <td>172</td>\n",
              "      <td>188</td>\n",
              "      <td>N</td>\n",
              "      <td>NaN</td>\n",
              "      <td>1.0</td>\n",
              "      <td>201603.0</td>\n",
              "      <td>8.250</td>\n",
              "      <td>0.0</td>\n",
              "      <td>NaN</td>\n",
              "      <td>NaN</td>\n",
              "      <td>NaN</td>\n",
              "      <td>NaN</td>\n",
              "      <td>NaN</td>\n",
              "      <td>NaN</td>\n",
              "      <td>NaN</td>\n",
              "      <td>NaN</td>\n",
              "      <td>NaN</td>\n",
              "      <td>NaN</td>\n",
              "      <td>0.00</td>\n",
              "      <td>NaN</td>\n",
              "      <td>NaN</td>\n",
              "      <td>NaN</td>\n",
              "    </tr>\n",
              "    <tr>\n",
              "      <th>936</th>\n",
              "      <td>F110Q1086486</td>\n",
              "      <td>201604</td>\n",
              "      <td>2016</td>\n",
              "      <td>0.0</td>\n",
              "      <td>0</td>\n",
              "      <td>73</td>\n",
              "      <td>287</td>\n",
              "      <td>N</td>\n",
              "      <td>NaN</td>\n",
              "      <td>1.0</td>\n",
              "      <td>201604.0</td>\n",
              "      <td>5.170</td>\n",
              "      <td>0.0</td>\n",
              "      <td>NaN</td>\n",
              "      <td>NaN</td>\n",
              "      <td>NaN</td>\n",
              "      <td>NaN</td>\n",
              "      <td>NaN</td>\n",
              "      <td>NaN</td>\n",
              "      <td>NaN</td>\n",
              "      <td>NaN</td>\n",
              "      <td>NaN</td>\n",
              "      <td>NaN</td>\n",
              "      <td>0.00</td>\n",
              "      <td>NaN</td>\n",
              "      <td>NaN</td>\n",
              "      <td>NaN</td>\n",
              "    </tr>\n",
              "    <tr>\n",
              "      <th>997</th>\n",
              "      <td>F199Q4111678</td>\n",
              "      <td>201602</td>\n",
              "      <td>2016</td>\n",
              "      <td>0.0</td>\n",
              "      <td>0</td>\n",
              "      <td>195</td>\n",
              "      <td>165</td>\n",
              "      <td>N</td>\n",
              "      <td>NaN</td>\n",
              "      <td>1.0</td>\n",
              "      <td>201602.0</td>\n",
              "      <td>7.750</td>\n",
              "      <td>0.0</td>\n",
              "      <td>NaN</td>\n",
              "      <td>NaN</td>\n",
              "      <td>NaN</td>\n",
              "      <td>NaN</td>\n",
              "      <td>NaN</td>\n",
              "      <td>NaN</td>\n",
              "      <td>NaN</td>\n",
              "      <td>NaN</td>\n",
              "      <td>NaN</td>\n",
              "      <td>NaN</td>\n",
              "      <td>0.00</td>\n",
              "      <td>NaN</td>\n",
              "      <td>NaN</td>\n",
              "      <td>NaN</td>\n",
              "    </tr>\n",
              "    <tr>\n",
              "      <th>1281</th>\n",
              "      <td>F101Q1209729</td>\n",
              "      <td>201607</td>\n",
              "      <td>2016</td>\n",
              "      <td>0.0</td>\n",
              "      <td>0</td>\n",
              "      <td>183</td>\n",
              "      <td>471</td>\n",
              "      <td>N</td>\n",
              "      <td>NaN</td>\n",
              "      <td>1.0</td>\n",
              "      <td>201607.0</td>\n",
              "      <td>7.625</td>\n",
              "      <td>0.0</td>\n",
              "      <td>NaN</td>\n",
              "      <td>NaN</td>\n",
              "      <td>NaN</td>\n",
              "      <td>NaN</td>\n",
              "      <td>NaN</td>\n",
              "      <td>NaN</td>\n",
              "      <td>NaN</td>\n",
              "      <td>NaN</td>\n",
              "      <td>NaN</td>\n",
              "      <td>NaN</td>\n",
              "      <td>0.00</td>\n",
              "      <td>NaN</td>\n",
              "      <td>NaN</td>\n",
              "      <td>NaN</td>\n",
              "    </tr>\n",
              "    <tr>\n",
              "      <th>2083</th>\n",
              "      <td>F104Q3120502</td>\n",
              "      <td>201608</td>\n",
              "      <td>2016</td>\n",
              "      <td>0.0</td>\n",
              "      <td>1</td>\n",
              "      <td>143</td>\n",
              "      <td>263</td>\n",
              "      <td>N</td>\n",
              "      <td>NaN</td>\n",
              "      <td>1.0</td>\n",
              "      <td>201608.0</td>\n",
              "      <td>2.000</td>\n",
              "      <td>0.0</td>\n",
              "      <td>201606.0</td>\n",
              "      <td>NaN</td>\n",
              "      <td>NaN</td>\n",
              "      <td>NaN</td>\n",
              "      <td>NaN</td>\n",
              "      <td>NaN</td>\n",
              "      <td>NaN</td>\n",
              "      <td>NaN</td>\n",
              "      <td>NaN</td>\n",
              "      <td>NaN</td>\n",
              "      <td>35536.55</td>\n",
              "      <td>NaN</td>\n",
              "      <td>NaN</td>\n",
              "      <td>NaN</td>\n",
              "    </tr>\n",
              "    <tr>\n",
              "      <th>...</th>\n",
              "      <td>...</td>\n",
              "      <td>...</td>\n",
              "      <td>...</td>\n",
              "      <td>...</td>\n",
              "      <td>...</td>\n",
              "      <td>...</td>\n",
              "      <td>...</td>\n",
              "      <td>...</td>\n",
              "      <td>...</td>\n",
              "      <td>...</td>\n",
              "      <td>...</td>\n",
              "      <td>...</td>\n",
              "      <td>...</td>\n",
              "      <td>...</td>\n",
              "      <td>...</td>\n",
              "      <td>...</td>\n",
              "      <td>...</td>\n",
              "      <td>...</td>\n",
              "      <td>...</td>\n",
              "      <td>...</td>\n",
              "      <td>...</td>\n",
              "      <td>...</td>\n",
              "      <td>...</td>\n",
              "      <td>...</td>\n",
              "      <td>...</td>\n",
              "      <td>...</td>\n",
              "      <td>...</td>\n",
              "    </tr>\n",
              "    <tr>\n",
              "      <th>3133373</th>\n",
              "      <td>F101Q3248421</td>\n",
              "      <td>201612</td>\n",
              "      <td>2016</td>\n",
              "      <td>0.0</td>\n",
              "      <td>0</td>\n",
              "      <td>183</td>\n",
              "      <td>177</td>\n",
              "      <td>N</td>\n",
              "      <td>NaN</td>\n",
              "      <td>1.0</td>\n",
              "      <td>201612.0</td>\n",
              "      <td>7.375</td>\n",
              "      <td>0.0</td>\n",
              "      <td>NaN</td>\n",
              "      <td>NaN</td>\n",
              "      <td>NaN</td>\n",
              "      <td>NaN</td>\n",
              "      <td>NaN</td>\n",
              "      <td>NaN</td>\n",
              "      <td>NaN</td>\n",
              "      <td>NaN</td>\n",
              "      <td>NaN</td>\n",
              "      <td>NaN</td>\n",
              "      <td>0.00</td>\n",
              "      <td>NaN</td>\n",
              "      <td>NaN</td>\n",
              "      <td>NaN</td>\n",
              "    </tr>\n",
              "    <tr>\n",
              "      <th>3135370</th>\n",
              "      <td>F107Q2132911</td>\n",
              "      <td>201608</td>\n",
              "      <td>2016</td>\n",
              "      <td>0.0</td>\n",
              "      <td>0</td>\n",
              "      <td>111</td>\n",
              "      <td>249</td>\n",
              "      <td>N</td>\n",
              "      <td>NaN</td>\n",
              "      <td>1.0</td>\n",
              "      <td>201608.0</td>\n",
              "      <td>7.375</td>\n",
              "      <td>0.0</td>\n",
              "      <td>NaN</td>\n",
              "      <td>NaN</td>\n",
              "      <td>NaN</td>\n",
              "      <td>NaN</td>\n",
              "      <td>NaN</td>\n",
              "      <td>NaN</td>\n",
              "      <td>NaN</td>\n",
              "      <td>NaN</td>\n",
              "      <td>NaN</td>\n",
              "      <td>NaN</td>\n",
              "      <td>0.00</td>\n",
              "      <td>NaN</td>\n",
              "      <td>NaN</td>\n",
              "      <td>NaN</td>\n",
              "    </tr>\n",
              "    <tr>\n",
              "      <th>3135996</th>\n",
              "      <td>F199Q2189293</td>\n",
              "      <td>201608</td>\n",
              "      <td>2016</td>\n",
              "      <td>0.0</td>\n",
              "      <td>0</td>\n",
              "      <td>207</td>\n",
              "      <td>153</td>\n",
              "      <td>N</td>\n",
              "      <td>NaN</td>\n",
              "      <td>1.0</td>\n",
              "      <td>201608.0</td>\n",
              "      <td>7.375</td>\n",
              "      <td>0.0</td>\n",
              "      <td>NaN</td>\n",
              "      <td>NaN</td>\n",
              "      <td>NaN</td>\n",
              "      <td>NaN</td>\n",
              "      <td>NaN</td>\n",
              "      <td>NaN</td>\n",
              "      <td>NaN</td>\n",
              "      <td>NaN</td>\n",
              "      <td>NaN</td>\n",
              "      <td>NaN</td>\n",
              "      <td>0.00</td>\n",
              "      <td>NaN</td>\n",
              "      <td>NaN</td>\n",
              "      <td>NaN</td>\n",
              "    </tr>\n",
              "    <tr>\n",
              "      <th>3136336</th>\n",
              "      <td>F107Q4127939</td>\n",
              "      <td>201609</td>\n",
              "      <td>2016</td>\n",
              "      <td>0.0</td>\n",
              "      <td>0</td>\n",
              "      <td>105</td>\n",
              "      <td>255</td>\n",
              "      <td>N</td>\n",
              "      <td>NaN</td>\n",
              "      <td>1.0</td>\n",
              "      <td>201609.0</td>\n",
              "      <td>7.375</td>\n",
              "      <td>0.0</td>\n",
              "      <td>NaN</td>\n",
              "      <td>NaN</td>\n",
              "      <td>NaN</td>\n",
              "      <td>NaN</td>\n",
              "      <td>NaN</td>\n",
              "      <td>NaN</td>\n",
              "      <td>NaN</td>\n",
              "      <td>NaN</td>\n",
              "      <td>NaN</td>\n",
              "      <td>NaN</td>\n",
              "      <td>0.00</td>\n",
              "      <td>NaN</td>\n",
              "      <td>NaN</td>\n",
              "      <td>NaN</td>\n",
              "    </tr>\n",
              "    <tr>\n",
              "      <th>3136480</th>\n",
              "      <td>F107Q3199746</td>\n",
              "      <td>201611</td>\n",
              "      <td>2016</td>\n",
              "      <td>0.0</td>\n",
              "      <td>0</td>\n",
              "      <td>109</td>\n",
              "      <td>251</td>\n",
              "      <td>N</td>\n",
              "      <td>NaN</td>\n",
              "      <td>1.0</td>\n",
              "      <td>201611.0</td>\n",
              "      <td>7.375</td>\n",
              "      <td>0.0</td>\n",
              "      <td>NaN</td>\n",
              "      <td>NaN</td>\n",
              "      <td>NaN</td>\n",
              "      <td>NaN</td>\n",
              "      <td>NaN</td>\n",
              "      <td>NaN</td>\n",
              "      <td>NaN</td>\n",
              "      <td>NaN</td>\n",
              "      <td>NaN</td>\n",
              "      <td>NaN</td>\n",
              "      <td>0.00</td>\n",
              "      <td>NaN</td>\n",
              "      <td>NaN</td>\n",
              "      <td>NaN</td>\n",
              "    </tr>\n",
              "  </tbody>\n",
              "</table>\n",
              "<p>4137 rows × 27 columns</p>\n",
              "</div>"
            ],
            "text/plain": [
              "        loan_sequence_number  ...  estimated_ltv\n",
              "608             F101Q4161660  ...            NaN\n",
              "936             F110Q1086486  ...            NaN\n",
              "997             F199Q4111678  ...            NaN\n",
              "1281            F101Q1209729  ...            NaN\n",
              "2083            F104Q3120502  ...            NaN\n",
              "...                      ...  ...            ...\n",
              "3133373         F101Q3248421  ...            NaN\n",
              "3135370         F107Q2132911  ...            NaN\n",
              "3135996         F199Q2189293  ...            NaN\n",
              "3136336         F107Q4127939  ...            NaN\n",
              "3136480         F107Q3199746  ...            NaN\n",
              "\n",
              "[4137 rows x 27 columns]"
            ]
          },
          "metadata": {
            "tags": []
          },
          "execution_count": 58
        }
      ]
    },
    {
      "cell_type": "code",
      "metadata": {
        "id": "VY6lCPNYetiK",
        "colab_type": "code",
        "colab": {}
      },
      "source": [
        "p_o_co_2016_IR = {}\n",
        "i = 0\n",
        "for loan in prepaid_or_CO_2016df[\"loan_sequence_number\"]:\n",
        "  p_o_co_2016_IR[loan] = [prepaid_or_CO_2016df[\"current_interest_rate\"].iloc[i]]\n",
        "  i+= 1\n",
        "\n",
        "for loan in p_o_co_2016_IR.keys():\n",
        "  orig_loan = orig_df.loc[orig_df[\"loan_sequence_number\"] == loan]\n",
        "  ir = np.float(orig_loan.loc[:,\"original_rate\"])\n",
        "  p_o_co_2016_IR[loan].append(ir)\n"
      ],
      "execution_count": 0,
      "outputs": []
    },
    {
      "cell_type": "code",
      "metadata": {
        "id": "NHNoPVqRvmoW",
        "colab_type": "code",
        "colab": {}
      },
      "source": [
        "# Finally, calculate the change in interest rate for all of these loans\n",
        "for loan in p_o_co_2016_IR.keys():\n",
        "  both = p_o_co_2016_IR[loan]\n",
        "  difference = both[0] - both[1]\n",
        "  p_o_co_2016_IR[loan].append(difference)\n"
      ],
      "execution_count": 0,
      "outputs": []
    },
    {
      "cell_type": "code",
      "metadata": {
        "id": "GZwP2pq3iehI",
        "colab_type": "code",
        "colab": {}
      },
      "source": [
        "all_differences_2016 = [p_o_co_2016_IR[x][2] for x in p_o_co_2016_IR.keys()]"
      ],
      "execution_count": 0,
      "outputs": []
    },
    {
      "cell_type": "code",
      "metadata": {
        "id": "zmJ_rJynzHQh",
        "colab_type": "code",
        "colab": {
          "base_uri": "https://localhost:8080/",
          "height": 122
        },
        "outputId": "d04adc91-880e-4f7a-8429-4af83aa7f77e"
      },
      "source": [
        "min_change = str(np.min(all_differences_2016))\n",
        "first_quartile_change = str(np.percentile(all_differences_2016, 25))\n",
        "mean_change = str(np.mean(all_differences_2016) )\n",
        "median_change = str(np.percentile(all_differences_2016, 50))\n",
        "third_quartile_change = str(np.percentile(all_differences_2016, q=75))\n",
        "max_change = str(np.max(all_differences_2016))\n",
        "\n",
        "print(\"min:\" + min_change + \"\\nfirst quartile:\"+ first_quartile_change + \"\\nmedian:\" + median_change + \"\\nthird quartile:\"+ third_quartile_change +  \"\\nmax:\" + max_change + \"\\nmean:\" + mean_change)"
      ],
      "execution_count": 62,
      "outputs": [
        {
          "output_type": "stream",
          "text": [
            "min:-5.375\n",
            "first quartile:0.0\n",
            "median:0.0\n",
            "third quartile:0.0\n",
            "max:2.2888183615066282e-07\n",
            "mean:-0.028009425954194006\n"
          ],
          "name": "stdout"
        }
      ]
    },
    {
      "cell_type": "markdown",
      "metadata": {
        "id": "asqVAemZ2rb8",
        "colab_type": "text"
      },
      "source": [
        "That distribution isn't super telling, so lets plot a histogram"
      ]
    },
    {
      "cell_type": "code",
      "metadata": {
        "id": "c80DvyY02qjd",
        "colab_type": "code",
        "colab": {
          "base_uri": "https://localhost:8080/",
          "height": 444
        },
        "outputId": "1d5b9f89-adf2-445c-e713-93641845d0f3"
      },
      "source": [
        "plt.figure(num=None, figsize=(10, 6), dpi=80, facecolor='w', edgecolor='k')\n",
        "plt.axes(xlabel=\"Change in Interest Rate\", ylabel=\"Number of Loans\")\n",
        "plt.title(\"Distribution of Interest Rate Changes by 2016\")\n",
        "\n",
        "plt.hist(all_differences_2016, log=False)\n",
        "plt.savefig('dist_IR_2016.png')"
      ],
      "execution_count": 63,
      "outputs": [
        {
          "output_type": "display_data",
          "data": {
            "image/png": "[encoded data removed]",
            "text/plain": [
              "<Figure size 800x480 with 1 Axes>"
            ]
          },
          "metadata": {
            "tags": []
          }
        }
      ]
    },
    {
      "cell_type": "code",
      "metadata": {
        "id": "Rf1WF1Tv3pAJ",
        "colab_type": "code",
        "colab": {
          "base_uri": "https://localhost:8080/",
          "height": 444
        },
        "outputId": "40bb0b04-e25e-4057-b50c-1f83de20c99f"
      },
      "source": [
        "plt.figure(num=None, figsize=(10, 6), dpi=80, facecolor='w', edgecolor='k')\n",
        "plt.axes(xlabel=\"Change in Interest Rate\", ylabel=\"Number of Loans\")\n",
        "plt.title(\"Distribution of Interest Rate Changes by 2016 - Log Scale\")\n",
        "\n",
        "plt.hist(all_differences_2016, log=True, color=\"orange\")\n",
        "plt.savefig('dist_IR_2016_log.png')"
      ],
      "execution_count": 64,
      "outputs": [
        {
          "output_type": "display_data",
          "data": {
            "image/png": "[encoded data removed]",
            "text/plain": [
              "<Figure size 800x480 with 1 Axes>"
            ]
          },
          "metadata": {
            "tags": []
          }
        }
      ]
    },
    {
      "cell_type": "markdown",
      "metadata": {
        "id": "VyLQfObNLTGD",
        "colab_type": "text"
      },
      "source": [
        "## However, since this insight into the Interest Rates is so telling, lets extend this to the last 6 years, total. (But only for loans that matured vs loans that were charged off)"
      ]
    },
    {
      "cell_type": "code",
      "metadata": {
        "id": "p9ir0Y_sLb81",
        "colab_type": "code",
        "colab": {
          "base_uri": "https://localhost:8080/",
          "height": 87
        },
        "outputId": "70ae0b71-5298-4373-cb2c-9661cb44a636"
      },
      "source": [
        "# IF YOU'RE ONLY INTERESTED IN IR FOR Repurchased vs Non-Repurchased\n",
        "prepaid_or_COdf = zero_balance_after_2014df.copy()\n",
        "prepaiddf = prepaid_or_COdf[prepaid_or_COdf[\"zero_balance_code\"] <= 3.0]\n",
        "prepaiddf = prepaiddf[prepaiddf[\"zero_balance_code\"] != 2.0]\n",
        "\n",
        "\n",
        "COdf = prepaid_or_COdf[prepaid_or_COdf[\"zero_balance_code\"] > 1.0]\n",
        "COdf = COdf[COdf[\"zero_balance_code\"] != 3.0]\n",
        "\n",
        "COdf[\"zero_balance_code\"].value_counts()"
      ],
      "execution_count": 65,
      "outputs": [
        {
          "output_type": "execute_result",
          "data": {
            "text/plain": [
              "15.0    284\n",
              "2.0     158\n",
              "6.0      38\n",
              "Name: zero_balance_code, dtype: int64"
            ]
          },
          "metadata": {
            "tags": []
          },
          "execution_count": 65
        }
      ]
    },
    {
      "cell_type": "code",
      "metadata": {
        "id": "VBa-8ErxbIRG",
        "colab_type": "code",
        "colab": {
          "base_uri": "https://localhost:8080/",
          "height": 70
        },
        "outputId": "946af564-de6c-4aaa-90c2-8e11436a1d55"
      },
      "source": [
        "prepaiddf[\"zero_balance_code\"].value_counts()\n"
      ],
      "execution_count": 66,
      "outputs": [
        {
          "output_type": "execute_result",
          "data": {
            "text/plain": [
              "1.0    16963\n",
              "3.0       50\n",
              "Name: zero_balance_code, dtype: int64"
            ]
          },
          "metadata": {
            "tags": []
          },
          "execution_count": 66
        }
      ]
    },
    {
      "cell_type": "code",
      "metadata": {
        "id": "kBfGDitKQbbh",
        "colab_type": "code",
        "colab": {}
      },
      "source": [
        "# extremely inefficient- would fix if had more time to optimise\n",
        "p_IR = {}\n",
        "i = 0\n",
        "for loan in prepaiddf[\"loan_sequence_number\"]:\n",
        "  if prepaiddf[\"current_interest_rate\"].iloc[i] > 0.1:\n",
        "    p_IR[loan] = [prepaiddf[\"current_interest_rate\"].iloc[i]]\n",
        "  i+= 1\n",
        "\n",
        "for loan in p_IR.keys():\n",
        "  orig_loan = orig_df.loc[orig_df[\"loan_sequence_number\"] == loan]\n",
        "  ir = np.float(orig_loan.loc[:,\"original_rate\"])\n",
        "  p_IR[loan].append(ir)\n"
      ],
      "execution_count": 0,
      "outputs": []
    },
    {
      "cell_type": "code",
      "metadata": {
        "id": "RIxRloVAElro",
        "colab_type": "code",
        "colab": {
          "base_uri": "https://localhost:8080/",
          "height": 34
        },
        "outputId": "3613ca8e-708e-407f-8039-83eb124f2a56"
      },
      "source": [
        "len(p_IR.keys())"
      ],
      "execution_count": 68,
      "outputs": [
        {
          "output_type": "execute_result",
          "data": {
            "text/plain": [
              "17013"
            ]
          },
          "metadata": {
            "tags": []
          },
          "execution_count": 68
        }
      ]
    },
    {
      "cell_type": "code",
      "metadata": {
        "id": "TFsW7XYRVL0-",
        "colab_type": "code",
        "colab": {}
      },
      "source": [
        "co_IR = {}\n",
        "i = 0\n",
        "for loan in COdf[\"loan_sequence_number\"]:\n",
        "  if COdf[\"current_interest_rate\"].iloc[i] > 0.1:\n",
        "    co_IR[loan] = [COdf[\"current_interest_rate\"].iloc[i]]\n",
        "  i+= 1\n",
        "\n",
        "for loan in co_IR.keys():\n",
        "  orig_loan = orig_df.loc[orig_df[\"loan_sequence_number\"] == loan]\n",
        "  ir = np.float(orig_loan.loc[:,\"original_rate\"])\n",
        "  co_IR[loan].append(ir)\n"
      ],
      "execution_count": 0,
      "outputs": []
    },
    {
      "cell_type": "code",
      "metadata": {
        "id": "l2nM5uinRPJM",
        "colab_type": "code",
        "colab": {}
      },
      "source": [
        "# Finally, calculate the interest for all of these loans\n",
        "for loan in p_IR.keys():\n",
        "  both = p_IR[loan]\n",
        "  difference = both[0] - both[1]\n",
        "  p_IR[loan].append(difference)\n"
      ],
      "execution_count": 0,
      "outputs": []
    },
    {
      "cell_type": "code",
      "metadata": {
        "id": "3RBNyDAWVmws",
        "colab_type": "code",
        "colab": {}
      },
      "source": [
        "# Finally, calculate the interest for all of these loans\n",
        "for loan in co_IR.keys():\n",
        "  both = co_IR[loan]\n",
        "  difference = both[0] - both[1]\n",
        "  co_IR[loan].append(difference)\n"
      ],
      "execution_count": 0,
      "outputs": []
    },
    {
      "cell_type": "code",
      "metadata": {
        "id": "SY8isnwQRhJu",
        "colab_type": "code",
        "colab": {}
      },
      "source": [
        "all_differences_p = [p_IR[x][2] for x in p_IR.keys()]"
      ],
      "execution_count": 0,
      "outputs": []
    },
    {
      "cell_type": "code",
      "metadata": {
        "id": "caO0rB6gVjY-",
        "colab_type": "code",
        "colab": {}
      },
      "source": [
        "all_differences_co = [co_IR[x][2] for x in co_IR.keys()]"
      ],
      "execution_count": 0,
      "outputs": []
    },
    {
      "cell_type": "code",
      "metadata": {
        "id": "ws7wee1rRxOK",
        "colab_type": "code",
        "outputId": "eed7576c-d2c6-4cf2-cd16-e6a61cb072af",
        "colab": {
          "base_uri": "https://localhost:8080/",
          "height": 122
        }
      },
      "source": [
        "min_change = str(np.min(all_differences_p))\n",
        "first_quartile_change = str(np.percentile(all_differences_p, 25))\n",
        "mean_change = str(np.mean(all_differences_p) )\n",
        "median_change = str(np.percentile(all_differences_p, 50))\n",
        "third_quartile_change = str(np.percentile(all_differences_p, q=75))\n",
        "max_change = str(np.max(all_differences_p))\n",
        "\n",
        "print(\"min:\" + min_change + \"\\nfirst quartile:\"+ first_quartile_change + \"\\nmedian:\" + median_change + \"\\nthird quartile:\"+ third_quartile_change +  \"\\nmax:\" + max_change + \"\\nmean:\" + mean_change)"
      ],
      "execution_count": 74,
      "outputs": [
        {
          "output_type": "stream",
          "text": [
            "min:-5.375\n",
            "first quartile:0.0\n",
            "median:0.0\n",
            "third quartile:0.0\n",
            "max:0.125\n",
            "mean:-0.025048491207273704\n"
          ],
          "name": "stdout"
        }
      ]
    },
    {
      "cell_type": "code",
      "metadata": {
        "id": "lgjvMGysVsZn",
        "colab_type": "code",
        "outputId": "e5f02f45-b182-4c32-da3f-fe2df509e7f8",
        "colab": {
          "base_uri": "https://localhost:8080/",
          "height": 122
        }
      },
      "source": [
        "min_change = str(np.min(all_differences_co))\n",
        "first_quartile_change = str(np.percentile(all_differences_co, 25))\n",
        "mean_change = str(np.mean(all_differences_co) )\n",
        "median_change = str(np.percentile(all_differences_co, 50))\n",
        "third_quartile_change = str(np.percentile(all_differences_co, q=75))\n",
        "max_change = str(np.max(all_differences_co))\n",
        "\n",
        "print(\"min:\" + min_change + \"\\nfirst quartile:\"+ first_quartile_change + \"\\nmedian:\" + median_change + \"\\nthird quartile:\"+ third_quartile_change +  \"\\nmax:\" + max_change + \"\\nmean:\" + mean_change)"
      ],
      "execution_count": 75,
      "outputs": [
        {
          "output_type": "stream",
          "text": [
            "min:-5.125\n",
            "first quartile:-2.0\n",
            "median:0.0\n",
            "third quartile:0.0\n",
            "max:0.125\n",
            "mean:-1.1166145818233488\n"
          ],
          "name": "stdout"
        }
      ]
    },
    {
      "cell_type": "code",
      "metadata": {
        "id": "9YbR58eMSWWl",
        "colab_type": "code",
        "outputId": "ee8fadb5-c7ff-4e8d-ff01-bf9ae350a5bf",
        "colab": {
          "base_uri": "https://localhost:8080/",
          "height": 444
        }
      },
      "source": [
        "plt.figure(num=None, figsize=(10, 6), dpi=80, facecolor='w', edgecolor='k')\n",
        "plt.axes(xlabel=\"Change in Interest Rate\", ylabel=\"Number of Loans\")\n",
        "plt.title(\"Distribution of Interest Rate Changes For Non-Repurchased Loans\")\n",
        "\n",
        "plt.hist(all_differences_p, log=False)\n",
        "plt.savefig('dist_IR_Non_ref.png')"
      ],
      "execution_count": 76,
      "outputs": [
        {
          "output_type": "display_data",
          "data": {
            "image/png": "[encoded data removed]",
            "text/plain": [
              "<Figure size 800x480 with 1 Axes>"
            ]
          },
          "metadata": {
            "tags": []
          }
        }
      ]
    },
    {
      "cell_type": "code",
      "metadata": {
        "id": "5vlXnjUhV3Fy",
        "colab_type": "code",
        "outputId": "ec731e00-2916-4dce-c5de-a85f89c89885",
        "colab": {
          "base_uri": "https://localhost:8080/",
          "height": 444
        }
      },
      "source": [
        "plt.figure(num=None, figsize=(10, 6), dpi=80, facecolor='w', edgecolor='k')\n",
        "plt.axes(xlabel=\"Change in Interest Rate\", ylabel=\"Number of Loans\")\n",
        "plt.title(\"Distribution of Interest Rate Changes For Repurchased Loans\")\n",
        "\n",
        "plt.hist(all_differences_co, log=False, color=\"crimson\")\n",
        "plt.savefig('dist_IR_ref.png')"
      ],
      "execution_count": 77,
      "outputs": [
        {
          "output_type": "display_data",
          "data": {
            "image/png": "[encoded data removed]",
            "text/plain": [
              "<Figure size 800x480 with 1 Axes>"
            ]
          },
          "metadata": {
            "tags": []
          }
        }
      ]
    },
    {
      "cell_type": "code",
      "metadata": {
        "id": "a2BYGSFmSZIL",
        "colab_type": "code",
        "outputId": "5e806be5-96f6-4028-db43-c91fc91dc286",
        "colab": {
          "base_uri": "https://localhost:8080/",
          "height": 444
        }
      },
      "source": [
        "plt.figure(num=None, figsize=(10, 6), dpi=80, facecolor='w', edgecolor='k')\n",
        "plt.axes(xlabel=\"Change in Interest Rate\", ylabel=\"Number of Loans\")\n",
        "plt.title(\"Distribution of Interest Rate Changes For Non-Repurchased Loans - Log Scale\")\n",
        "\n",
        "plt.hist(all_differences_p, log=True)\n",
        "plt.savefig('dist_IR_Non_ref_log.png')"
      ],
      "execution_count": 78,
      "outputs": [
        {
          "output_type": "display_data",
          "data": {
            "image/png": "[encoded data removed]",
            "text/plain": [
              "<Figure size 800x480 with 1 Axes>"
            ]
          },
          "metadata": {
            "tags": []
          }
        }
      ]
    },
    {
      "cell_type": "code",
      "metadata": {
        "id": "UmoeBWcXV8j8",
        "colab_type": "code",
        "outputId": "c3514965-b0bb-43ff-8c82-855e679f159d",
        "colab": {
          "base_uri": "https://localhost:8080/",
          "height": 444
        }
      },
      "source": [
        "plt.figure(num=None, figsize=(10, 6), dpi=80, facecolor='w', edgecolor='k')\n",
        "plt.axes(xlabel=\"Change in Interest Rate\", ylabel=\"Number of Loans\")\n",
        "plt.title(\"Distribution of Interest Rate Changes For Repurchased Loans - Log Scale\")\n",
        "\n",
        "plt.hist(all_differences_co, log=True, color=\"crimson\")\n",
        "plt.savefig('dist_IR_ref_log.png')"
      ],
      "execution_count": 79,
      "outputs": [
        {
          "output_type": "display_data",
          "data": {
            "image/png": "[encoded data removed]",
            "text/plain": [
              "<Figure size 800x480 with 1 Axes>"
            ]
          },
          "metadata": {
            "tags": []
          }
        }
      ]
    },
    {
      "cell_type": "markdown",
      "metadata": {
        "id": "AcaacUhMYqLh",
        "colab_type": "text"
      },
      "source": [
        "While the size of the subset of loans that were refinanced was smaller than the ones that weren't- the distribution of larger Interst-rate modifications definitely skews more towards refinanced loans."
      ]
    },
    {
      "cell_type": "markdown",
      "metadata": {
        "id": "PUv_n2RuGZQG",
        "colab_type": "text"
      },
      "source": [
        "## Finally, lets take a look at DTI and Credit Scores, for Refinanced and non-Refinanced loans."
      ]
    },
    {
      "cell_type": "code",
      "metadata": {
        "id": "QAGWMG5DGYmZ",
        "colab_type": "code",
        "colab": {}
      },
      "source": [
        "p_DTI = {}\n",
        "\n",
        "i = 0\n",
        "for loan in prepaiddf[\"loan_sequence_number\"]:\n",
        "  orig_loan = orig_df.loc[orig_df[\"loan_sequence_number\"] == loan]\n",
        "  dti = np.float(orig_loan.loc[:,\"dti_ratio\"])\n",
        "  p_DTI[loan] = dti\n",
        "  i+= 1"
      ],
      "execution_count": 0,
      "outputs": []
    },
    {
      "cell_type": "code",
      "metadata": {
        "id": "YJJslBQXjm7T",
        "colab_type": "code",
        "colab": {}
      },
      "source": [
        "all_nonrefinanced_DTI = [p_DTI[x] for x in p_DTI.keys() if p_DTI[x] != 999]\n"
      ],
      "execution_count": 0,
      "outputs": []
    },
    {
      "cell_type": "code",
      "metadata": {
        "id": "a02SIOBDiUi8",
        "colab_type": "code",
        "colab": {}
      },
      "source": [
        "c_DTI = {}\n",
        "\n",
        "i = 0\n",
        "for loan in COdf[\"loan_sequence_number\"]:\n",
        "  orig_loan = orig_df.loc[orig_df[\"loan_sequence_number\"] == loan]\n",
        "  dti = np.float(orig_loan.loc[:,\"dti_ratio\"])\n",
        "  c_DTI[loan] = dti\n",
        "  i+= 1"
      ],
      "execution_count": 0,
      "outputs": []
    },
    {
      "cell_type": "code",
      "metadata": {
        "id": "SJ52A_Azjzco",
        "colab_type": "code",
        "colab": {}
      },
      "source": [
        "all_refinanced_DTI = [c_DTI[x] for x in c_DTI.keys() if c_DTI[x] != 999 ]"
      ],
      "execution_count": 0,
      "outputs": []
    },
    {
      "cell_type": "code",
      "metadata": {
        "id": "amWv-EbljJ4q",
        "colab_type": "code",
        "outputId": "2a24f014-a14a-43b8-f32f-683f8b8d2e0b",
        "colab": {
          "base_uri": "https://localhost:8080/",
          "height": 444
        }
      },
      "source": [
        "plt.figure(num=None, figsize=(10, 6), dpi=80, facecolor='w', edgecolor='k')\n",
        "plt.axes(xlabel=\"DTI\", ylabel=\"Number of Loans\")\n",
        "plt.title(\"Distribution of DTI For Repurchased Loans\")\n",
        "\n",
        "plt.hist(all_refinanced_DTI, log=False, color=\"crimson\", bins=25)\n",
        "plt.savefig('dist_DTI_ref.png')"
      ],
      "execution_count": 84,
      "outputs": [
        {
          "output_type": "display_data",
          "data": {
            "image/png": "[encoded data removed]",
            "text/plain": [
              "<Figure size 800x480 with 1 Axes>"
            ]
          },
          "metadata": {
            "tags": []
          }
        }
      ]
    },
    {
      "cell_type": "code",
      "metadata": {
        "id": "FO7pjuQMkWne",
        "colab_type": "code",
        "outputId": "92840838-c965-4343-c0f1-1300e1b54d96",
        "colab": {
          "base_uri": "https://localhost:8080/",
          "height": 444
        }
      },
      "source": [
        "\n",
        "plt.figure(num=None, figsize=(10, 6), dpi=80, facecolor='w', edgecolor='k')\n",
        "plt.axes(xlabel=\"DTI\", ylabel=\"Number of Loans\")\n",
        "plt.title(\"Distribution of DTI For Non-Repurchased Loans\")\n",
        "\n",
        "plt.hist(all_nonrefinanced_DTI, log=False, bins=15)\n",
        "\n",
        "plt.savefig('dist_DTI_non_ref.png')"
      ],
      "execution_count": 85,
      "outputs": [
        {
          "output_type": "display_data",
          "data": {
            "image/png": "[encoded data removed]",
            "text/plain": [
              "<Figure size 800x480 with 1 Axes>"
            ]
          },
          "metadata": {
            "tags": []
          }
        }
      ]
    },
    {
      "cell_type": "markdown",
      "metadata": {
        "id": "PVadOTjWlZyD",
        "colab_type": "text"
      },
      "source": [
        "##Lets End by looking at credit scores in the same way."
      ]
    },
    {
      "cell_type": "code",
      "metadata": {
        "id": "iY-EBQEulfTk",
        "colab_type": "code",
        "colab": {}
      },
      "source": [
        "p_credit = {}\n",
        "\n",
        "i = 0\n",
        "for loan in prepaiddf[\"loan_sequence_number\"]:\n",
        "  orig_loan = orig_df.loc[orig_df[\"loan_sequence_number\"] == loan]\n",
        "  dti = np.float(orig_loan.loc[:,\"credit_score\"])\n",
        "  p_credit[loan] = dti\n",
        "  i+= 1"
      ],
      "execution_count": 0,
      "outputs": []
    },
    {
      "cell_type": "code",
      "metadata": {
        "id": "eCMFpyUmlsbI",
        "colab_type": "code",
        "colab": {}
      },
      "source": [
        "all_nonrefinanced_credit = [p_credit[x] for x in p_credit.keys() if p_credit[x] != 9999]"
      ],
      "execution_count": 0,
      "outputs": []
    },
    {
      "cell_type": "code",
      "metadata": {
        "id": "vQ2aWygzlyAB",
        "colab_type": "code",
        "colab": {}
      },
      "source": [
        "c_credit = {}\n",
        "\n",
        "i = 0\n",
        "for loan in COdf[\"loan_sequence_number\"]:\n",
        "  orig_loan = orig_df.loc[orig_df[\"loan_sequence_number\"] == loan]\n",
        "  dti = np.float(orig_loan.loc[:,\"credit_score\"])\n",
        "  c_credit[loan] = dti\n",
        "  i+= 1"
      ],
      "execution_count": 0,
      "outputs": []
    },
    {
      "cell_type": "code",
      "metadata": {
        "id": "Yja-as9il69X",
        "colab_type": "code",
        "colab": {}
      },
      "source": [
        "all_refinanced_credit = [c_credit[x] for x in c_credit.keys() if c_credit[x] != 9999 ]"
      ],
      "execution_count": 0,
      "outputs": []
    },
    {
      "cell_type": "code",
      "metadata": {
        "id": "5iLjiyaBl81Z",
        "colab_type": "code",
        "outputId": "6d077fcd-64f6-423b-c106-35057a94825c",
        "colab": {
          "base_uri": "https://localhost:8080/",
          "height": 444
        }
      },
      "source": [
        "plt.figure(num=None, figsize=(10, 6), dpi=80, facecolor='w', edgecolor='k')\n",
        "plt.axes(xlabel=\"Credit Score\", ylabel=\"Number of Loans\")\n",
        "plt.title(\"Distribution of Credit Score For Repurchased Loans\")\n",
        "\n",
        "plt.hist(all_refinanced_credit, log=False, color=\"crimson\", bins=20)\n",
        "plt.savefig('dist_credit_ref.png')"
      ],
      "execution_count": 90,
      "outputs": [
        {
          "output_type": "display_data",
          "data": {
            "image/png": "[encoded data removed]",
            "text/plain": [
              "<Figure size 800x480 with 1 Axes>"
            ]
          },
          "metadata": {
            "tags": []
          }
        }
      ]
    },
    {
      "cell_type": "code",
      "metadata": {
        "id": "1nRbgly_miD2",
        "colab_type": "code",
        "outputId": "cb2cd803-5b45-43cb-99f0-0165697ceb2f",
        "colab": {
          "base_uri": "https://localhost:8080/",
          "height": 444
        }
      },
      "source": [
        "\n",
        "plt.figure(num=None, figsize=(10, 6), dpi=80, facecolor='w', edgecolor='k')\n",
        "plt.axes(xlabel=\"Credit Score\", ylabel=\"Number of Loans\")\n",
        "plt.title(\"Distribution of Credit Score For Non-Repurchased Loans\")\n",
        "\n",
        "plt.hist(all_nonrefinanced_credit, log=False, bins=25)\n",
        "plt.savefig('dist_credit_non_ref.png')"
      ],
      "execution_count": 91,
      "outputs": [
        {
          "output_type": "display_data",
          "data": {
            "image/png": "[encoded data removed]",
            "text/plain": [
              "<Figure size 800x480 with 1 Axes>"
            ]
          },
          "metadata": {
            "tags": []
          }
        }
      ]
    }
  ]
}