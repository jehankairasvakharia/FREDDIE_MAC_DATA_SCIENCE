{
  "nbformat": 4,
  "nbformat_minor": 0,
  "metadata": {
    "colab": {
      "name": "FREDDIE_MAC_ML_MODELS.ipynb",
      "provenance": [],
      "collapsed_sections": []
    },
    "kernelspec": {
      "name": "python3",
      "display_name": "Python 3"
    },
    "accelerator": "TPU"
  },
  "cells": [
    {
      "cell_type": "markdown",
      "metadata": {
        "id": "PT3HP0eiHjcp",
        "colab_type": "text"
      },
      "source": [
        "# This notebook will make use of insights from the previous part to populate ML models."
      ]
    },
    {
      "cell_type": "markdown",
      "metadata": {
        "id": "L9Tm20c3Hstd",
        "colab_type": "text"
      },
      "source": [
        "## Preprocessing the data"
      ]
    },
    {
      "cell_type": "code",
      "metadata": {
        "id": "dmsH1ZBXFOog",
        "colab_type": "code",
        "colab": {}
      },
      "source": [
        "# Imports\n",
        "import math\n",
        "import operator\n",
        "import numpy as np\n",
        "import scipy as sp\n",
        "import pandas as pd\n",
        "import matplotlib.pyplot as plt\n",
        "%matplotlib inline\n",
        "\n",
        "from sklearn.model_selection import train_test_split\n",
        "from sklearn.model_selection import cross_val_score\n",
        "from sklearn.ensemble import RandomForestClassifier\n",
        "\n",
        "from sklearn.metrics import precision_recall_curve\n",
        "from sklearn.metrics import plot_precision_recall_curve\n",
        "from sklearn.metrics import average_precision_score"
      ],
      "execution_count": 0,
      "outputs": []
    },
    {
      "cell_type": "code",
      "metadata": {
        "id": "n9YV15kkF4OA",
        "colab_type": "code",
        "colab": {}
      },
      "source": [
        "# PATHS\n",
        "\n",
        "origination_path = \"origination_sample.csv\"\n",
        "update_path = \"update_sample.csv\""
      ],
      "execution_count": 0,
      "outputs": []
    },
    {
      "cell_type": "code",
      "metadata": {
        "id": "SJ7xp0vgF665",
        "colab_type": "code",
        "outputId": "b33a6c84-d9fb-42d7-e6be-3321a9cf3b35",
        "colab": {
          "base_uri": "https://localhost:8080/",
          "height": 72
        }
      },
      "source": [
        "# Set up pandas dataframes\n",
        "orig_df = pd.read_csv(origination_path)\n",
        "orig_df = orig_df.set_index('loan_sequence_number')\n",
        "update_df =  pd.read_csv(update_path)\n",
        "update_df =update_df.set_index('loan_sequence_number')"
      ],
      "execution_count": 3,
      "outputs": [
        {
          "output_type": "stream",
          "text": [
            "/usr/local/lib/python3.6/dist-packages/IPython/core/interactiveshell.py:2718: DtypeWarning: Columns (3,7,14,23,24) have mixed types. Specify dtype option on import or set low_memory=False.\n",
            "  interactivity=interactivity, compiler=compiler, result=result)\n"
          ],
          "name": "stderr"
        }
      ]
    },
    {
      "cell_type": "markdown",
      "metadata": {
        "id": "blRa4ImAGKhl",
        "colab_type": "text"
      },
      "source": [
        "Lets add the field \"Year\" to both the dataframes"
      ]
    },
    {
      "cell_type": "code",
      "metadata": {
        "id": "LSnc0aWqGSty",
        "colab_type": "code",
        "colab": {}
      },
      "source": [
        "orig_df.insert(2, \"Year\", value=orig_df[\"first_payment_date\"].floordiv(100))\n",
        "update_df.insert(2, \"Year\", update_df[\"monthly_reporting_period\"].floordiv(100))"
      ],
      "execution_count": 0,
      "outputs": []
    },
    {
      "cell_type": "markdown",
      "metadata": {
        "id": "QIQ6pV7xHf95",
        "colab_type": "text"
      },
      "source": [
        "Now let's set up the training and testing sets."
      ]
    },
    {
      "cell_type": "markdown",
      "metadata": {
        "id": "CMn7PMQ1H5vA",
        "colab_type": "text"
      },
      "source": [
        "We should first figure out what we want to predict:   Propensity to Repurchase\n",
        "\n",
        "Well, based on previous insights we have a few features that we're interested in:\n",
        "\n",
        "\n",
        "1.   First-time homebuyer flag\n",
        "2.   Source of Origination\n",
        "3.   Property State\n",
        "4.   Original LTV\n",
        "5.   CLTV\n",
        "6.   Current DTI\n",
        "7.   Change in IR\n",
        "8.   Current Credit Score\n",
        "9.   Loan Age\n",
        "10.  Months To Maturity\n",
        "11. Year\n",
        "12. Current UPB\n",
        "\n",
        "For predicting default, we should be predicting:\n",
        "Zero-Balance Code of (Not 1.0 or 2.0)\n",
        "\n",
        "For predicting repurchase, we should be predicting:\n",
        "Repurchase Flag = 'Y'\n",
        "\n"
      ]
    },
    {
      "cell_type": "code",
      "metadata": {
        "id": "xw627dsYPfPE",
        "colab_type": "code",
        "colab": {}
      },
      "source": [
        "update_filtered_df = update_df.filter([\"loan_sequence_number\", \"Year\", \"current_actual_upb\", \"months_to_maturity\", \"repurchase_flag\", \"zero_balance_code\", \"current_interest_rate\"])"
      ],
      "execution_count": 0,
      "outputs": []
    },
    {
      "cell_type": "code",
      "metadata": {
        "id": "mFDI7pNAPzab",
        "colab_type": "code",
        "outputId": "8aa62e4f-6a45-4e9e-d625-d15181bd06a4",
        "colab": {
          "base_uri": "https://localhost:8080/",
          "height": 492
        }
      },
      "source": [
        "update_df.dtypes"
      ],
      "execution_count": 6,
      "outputs": [
        {
          "output_type": "execute_result",
          "data": {
            "text/plain": [
              "monthly_reporting_period            int64\n",
              "current_actual_upb                float64\n",
              "Year                                int64\n",
              "current_lds                        object\n",
              "loan_age                            int64\n",
              "months_to_maturity                  int64\n",
              "repurchase_flag                    object\n",
              "modification_flag                  object\n",
              "zero_balance_code                 float64\n",
              "zero_balance_date                 float64\n",
              "current_interest_rate             float64\n",
              "current_deffered_upb              float64\n",
              "ddlpi                             float64\n",
              "mi_recoveries                     float64\n",
              "net_sales_proceeds                 object\n",
              "non_mi_recoveries                 float64\n",
              "expenses                          float64\n",
              "legal_costs                       float64\n",
              "maintenance_preservation_costs    float64\n",
              "taxes_insurance                   float64\n",
              "misc_expenses                     float64\n",
              "actual_loss_calculation           float64\n",
              "modification_cost                 float64\n",
              "step_modification_flag             object\n",
              "deferred_payment_modification      object\n",
              "estimated_ltv                     float64\n",
              "dtype: object"
            ]
          },
          "metadata": {
            "tags": []
          },
          "execution_count": 6
        }
      ]
    },
    {
      "cell_type": "code",
      "metadata": {
        "id": "6QsFuZN_TIdz",
        "colab_type": "code",
        "outputId": "331b5925-11f7-4eea-bc11-a3c045144d50",
        "colab": {
          "base_uri": "https://localhost:8080/",
          "height": 140
        }
      },
      "source": [
        "update_filtered_df.dtypes"
      ],
      "execution_count": 7,
      "outputs": [
        {
          "output_type": "execute_result",
          "data": {
            "text/plain": [
              "Year                       int64\n",
              "current_actual_upb       float64\n",
              "months_to_maturity         int64\n",
              "repurchase_flag           object\n",
              "zero_balance_code        float64\n",
              "current_interest_rate    float64\n",
              "dtype: object"
            ]
          },
          "metadata": {
            "tags": []
          },
          "execution_count": 7
        }
      ]
    },
    {
      "cell_type": "code",
      "metadata": {
        "id": "UtKSxXQTYmqx",
        "colab_type": "code",
        "colab": {}
      },
      "source": [
        "# removing intermediate values\n",
        "update_filtered_df = update_filtered_df[update_filtered_df[\"zero_balance_code\"] >= 1.0]"
      ],
      "execution_count": 0,
      "outputs": []
    },
    {
      "cell_type": "code",
      "metadata": {
        "id": "ZfDBg6wkbv6R",
        "colab_type": "code",
        "outputId": "3651fc67-81c9-4209-ac9b-335160704af2",
        "colab": {
          "base_uri": "https://localhost:8080/",
          "height": 431
        }
      },
      "source": [
        "update_filtered_df"
      ],
      "execution_count": 9,
      "outputs": [
        {
          "output_type": "execute_result",
          "data": {
            "text/html": [
              "<div>\n",
              "<style scoped>\n",
              "    .dataframe tbody tr th:only-of-type {\n",
              "        vertical-align: middle;\n",
              "    }\n",
              "\n",
              "    .dataframe tbody tr th {\n",
              "        vertical-align: top;\n",
              "    }\n",
              "\n",
              "    .dataframe thead th {\n",
              "        text-align: right;\n",
              "    }\n",
              "</style>\n",
              "<table border=\"1\" class=\"dataframe\">\n",
              "  <thead>\n",
              "    <tr style=\"text-align: right;\">\n",
              "      <th></th>\n",
              "      <th>Year</th>\n",
              "      <th>current_actual_upb</th>\n",
              "      <th>months_to_maturity</th>\n",
              "      <th>repurchase_flag</th>\n",
              "      <th>zero_balance_code</th>\n",
              "      <th>current_interest_rate</th>\n",
              "    </tr>\n",
              "    <tr>\n",
              "      <th>loan_sequence_number</th>\n",
              "      <th></th>\n",
              "      <th></th>\n",
              "      <th></th>\n",
              "      <th></th>\n",
              "      <th></th>\n",
              "      <th></th>\n",
              "    </tr>\n",
              "  </thead>\n",
              "  <tbody>\n",
              "    <tr>\n",
              "      <th>F104Q2011766</th>\n",
              "      <td>2012</td>\n",
              "      <td>0.0</td>\n",
              "      <td>262</td>\n",
              "      <td>N</td>\n",
              "      <td>1.0</td>\n",
              "      <td>5.900</td>\n",
              "    </tr>\n",
              "    <tr>\n",
              "      <th>F101Q3333372</th>\n",
              "      <td>2014</td>\n",
              "      <td>0.0</td>\n",
              "      <td>207</td>\n",
              "      <td>N</td>\n",
              "      <td>1.0</td>\n",
              "      <td>7.750</td>\n",
              "    </tr>\n",
              "    <tr>\n",
              "      <th>F105Q2318868</th>\n",
              "      <td>2018</td>\n",
              "      <td>0.0</td>\n",
              "      <td>206</td>\n",
              "      <td>N</td>\n",
              "      <td>2.0</td>\n",
              "      <td>6.690</td>\n",
              "    </tr>\n",
              "    <tr>\n",
              "      <th>F104Q3012269</th>\n",
              "      <td>2011</td>\n",
              "      <td>0.0</td>\n",
              "      <td>282</td>\n",
              "      <td>N</td>\n",
              "      <td>1.0</td>\n",
              "      <td>6.480</td>\n",
              "    </tr>\n",
              "    <tr>\n",
              "      <th>F104Q4001084</th>\n",
              "      <td>2011</td>\n",
              "      <td>0.0</td>\n",
              "      <td>277</td>\n",
              "      <td>N</td>\n",
              "      <td>1.0</td>\n",
              "      <td>5.690</td>\n",
              "    </tr>\n",
              "    <tr>\n",
              "      <th>...</th>\n",
              "      <td>...</td>\n",
              "      <td>...</td>\n",
              "      <td>...</td>\n",
              "      <td>...</td>\n",
              "      <td>...</td>\n",
              "      <td>...</td>\n",
              "    </tr>\n",
              "    <tr>\n",
              "      <th>F106Q1249353</th>\n",
              "      <td>2011</td>\n",
              "      <td>0.0</td>\n",
              "      <td>295</td>\n",
              "      <td>N</td>\n",
              "      <td>3.0</td>\n",
              "      <td>7.375</td>\n",
              "    </tr>\n",
              "    <tr>\n",
              "      <th>F108Q4039866</th>\n",
              "      <td>2014</td>\n",
              "      <td>0.0</td>\n",
              "      <td>294</td>\n",
              "      <td>N</td>\n",
              "      <td>1.0</td>\n",
              "      <td>7.375</td>\n",
              "    </tr>\n",
              "    <tr>\n",
              "      <th>F107Q3059569</th>\n",
              "      <td>2013</td>\n",
              "      <td>0.0</td>\n",
              "      <td>293</td>\n",
              "      <td>N</td>\n",
              "      <td>1.0</td>\n",
              "      <td>7.375</td>\n",
              "    </tr>\n",
              "    <tr>\n",
              "      <th>F108Q3121776</th>\n",
              "      <td>2014</td>\n",
              "      <td>0.0</td>\n",
              "      <td>293</td>\n",
              "      <td>N</td>\n",
              "      <td>1.0</td>\n",
              "      <td>7.375</td>\n",
              "    </tr>\n",
              "    <tr>\n",
              "      <th>F108Q2272689</th>\n",
              "      <td>2014</td>\n",
              "      <td>0.0</td>\n",
              "      <td>292</td>\n",
              "      <td>N</td>\n",
              "      <td>2.0</td>\n",
              "      <td>7.375</td>\n",
              "    </tr>\n",
              "  </tbody>\n",
              "</table>\n",
              "<p>41675 rows × 6 columns</p>\n",
              "</div>"
            ],
            "text/plain": [
              "                      Year  ...  current_interest_rate\n",
              "loan_sequence_number        ...                       \n",
              "F104Q2011766          2012  ...                  5.900\n",
              "F101Q3333372          2014  ...                  7.750\n",
              "F105Q2318868          2018  ...                  6.690\n",
              "F104Q3012269          2011  ...                  6.480\n",
              "F104Q4001084          2011  ...                  5.690\n",
              "...                    ...  ...                    ...\n",
              "F106Q1249353          2011  ...                  7.375\n",
              "F108Q4039866          2014  ...                  7.375\n",
              "F107Q3059569          2013  ...                  7.375\n",
              "F108Q3121776          2014  ...                  7.375\n",
              "F108Q2272689          2014  ...                  7.375\n",
              "\n",
              "[41675 rows x 6 columns]"
            ]
          },
          "metadata": {
            "tags": []
          },
          "execution_count": 9
        }
      ]
    },
    {
      "cell_type": "markdown",
      "metadata": {
        "id": "n_Jb6nh0kObz",
        "colab_type": "text"
      },
      "source": [
        "We need a default column to predict!"
      ]
    },
    {
      "cell_type": "code",
      "metadata": {
        "id": "fiRX-CLPYvGB",
        "colab_type": "code",
        "colab": {}
      },
      "source": [
        "#adding defaulted column\n",
        "update_filtered_df.insert(1, \"defaulted\", 0)"
      ],
      "execution_count": 0,
      "outputs": []
    },
    {
      "cell_type": "code",
      "metadata": {
        "id": "Vna8sAG_ZBXW",
        "colab_type": "code",
        "outputId": "5fadb37b-0eda-4e04-c8e8-67ff583017e5",
        "colab": {
          "base_uri": "https://localhost:8080/",
          "height": 105
        }
      },
      "source": [
        "# actually implementing defaulted (zero_balance_code > 2.0)\n",
        "for loan in update_filtered_df.index:\n",
        "\n",
        "  code = update_filtered_df[\"zero_balance_code\"].loc[loan]\n",
        "  if code > 2.0:\n",
        "    update_filtered_df[\"defaulted\"].loc[loan] = 1\n",
        "  "
      ],
      "execution_count": 11,
      "outputs": [
        {
          "output_type": "stream",
          "text": [
            "/usr/local/lib/python3.6/dist-packages/pandas/core/indexing.py:205: SettingWithCopyWarning: \n",
            "A value is trying to be set on a copy of a slice from a DataFrame\n",
            "\n",
            "See the caveats in the documentation: http://pandas.pydata.org/pandas-docs/stable/user_guide/indexing.html#returning-a-view-versus-a-copy\n",
            "  self._setitem_with_indexer(indexer, value)\n"
          ],
          "name": "stderr"
        }
      ]
    },
    {
      "cell_type": "code",
      "metadata": {
        "id": "5NnYAfKDZpvk",
        "colab_type": "code",
        "outputId": "fa129eb9-6947-4a59-a9b2-040e5dfeaed9",
        "colab": {
          "base_uri": "https://localhost:8080/",
          "height": 373
        }
      },
      "source": [
        "update_filtered_df.sample(10)"
      ],
      "execution_count": 12,
      "outputs": [
        {
          "output_type": "execute_result",
          "data": {
            "text/html": [
              "<div>\n",
              "<style scoped>\n",
              "    .dataframe tbody tr th:only-of-type {\n",
              "        vertical-align: middle;\n",
              "    }\n",
              "\n",
              "    .dataframe tbody tr th {\n",
              "        vertical-align: top;\n",
              "    }\n",
              "\n",
              "    .dataframe thead th {\n",
              "        text-align: right;\n",
              "    }\n",
              "</style>\n",
              "<table border=\"1\" class=\"dataframe\">\n",
              "  <thead>\n",
              "    <tr style=\"text-align: right;\">\n",
              "      <th></th>\n",
              "      <th>Year</th>\n",
              "      <th>defaulted</th>\n",
              "      <th>current_actual_upb</th>\n",
              "      <th>months_to_maturity</th>\n",
              "      <th>repurchase_flag</th>\n",
              "      <th>zero_balance_code</th>\n",
              "      <th>current_interest_rate</th>\n",
              "    </tr>\n",
              "    <tr>\n",
              "      <th>loan_sequence_number</th>\n",
              "      <th></th>\n",
              "      <th></th>\n",
              "      <th></th>\n",
              "      <th></th>\n",
              "      <th></th>\n",
              "      <th></th>\n",
              "      <th></th>\n",
              "    </tr>\n",
              "  </thead>\n",
              "  <tbody>\n",
              "    <tr>\n",
              "      <th>F103Q3601312</th>\n",
              "      <td>2011</td>\n",
              "      <td>0</td>\n",
              "      <td>0.0</td>\n",
              "      <td>272</td>\n",
              "      <td>N</td>\n",
              "      <td>1.0</td>\n",
              "      <td>6.250</td>\n",
              "    </tr>\n",
              "    <tr>\n",
              "      <th>F104Q2175461</th>\n",
              "      <td>2012</td>\n",
              "      <td>0</td>\n",
              "      <td>0.0</td>\n",
              "      <td>264</td>\n",
              "      <td>N</td>\n",
              "      <td>1.0</td>\n",
              "      <td>5.375</td>\n",
              "    </tr>\n",
              "    <tr>\n",
              "      <th>F112Q1113521</th>\n",
              "      <td>2013</td>\n",
              "      <td>0</td>\n",
              "      <td>0.0</td>\n",
              "      <td>347</td>\n",
              "      <td>N</td>\n",
              "      <td>1.0</td>\n",
              "      <td>4.125</td>\n",
              "    </tr>\n",
              "    <tr>\n",
              "      <th>F109Q1019189</th>\n",
              "      <td>2011</td>\n",
              "      <td>0</td>\n",
              "      <td>0.0</td>\n",
              "      <td>329</td>\n",
              "      <td>N</td>\n",
              "      <td>1.0</td>\n",
              "      <td>5.125</td>\n",
              "    </tr>\n",
              "    <tr>\n",
              "      <th>F109Q1421935</th>\n",
              "      <td>2013</td>\n",
              "      <td>0</td>\n",
              "      <td>0.0</td>\n",
              "      <td>311</td>\n",
              "      <td>N</td>\n",
              "      <td>1.0</td>\n",
              "      <td>4.875</td>\n",
              "    </tr>\n",
              "    <tr>\n",
              "      <th>F105Q3449410</th>\n",
              "      <td>2010</td>\n",
              "      <td>0</td>\n",
              "      <td>0.0</td>\n",
              "      <td>181</td>\n",
              "      <td>N</td>\n",
              "      <td>1.0</td>\n",
              "      <td>6.375</td>\n",
              "    </tr>\n",
              "    <tr>\n",
              "      <th>F109Q4333951</th>\n",
              "      <td>2011</td>\n",
              "      <td>0</td>\n",
              "      <td>0.0</td>\n",
              "      <td>159</td>\n",
              "      <td>N</td>\n",
              "      <td>1.0</td>\n",
              "      <td>4.750</td>\n",
              "    </tr>\n",
              "    <tr>\n",
              "      <th>F109Q2072856</th>\n",
              "      <td>2010</td>\n",
              "      <td>0</td>\n",
              "      <td>0.0</td>\n",
              "      <td>344</td>\n",
              "      <td>N</td>\n",
              "      <td>1.0</td>\n",
              "      <td>5.125</td>\n",
              "    </tr>\n",
              "    <tr>\n",
              "      <th>F106Q4302606</th>\n",
              "      <td>2014</td>\n",
              "      <td>0</td>\n",
              "      <td>0.0</td>\n",
              "      <td>90</td>\n",
              "      <td>N</td>\n",
              "      <td>1.0</td>\n",
              "      <td>6.000</td>\n",
              "    </tr>\n",
              "    <tr>\n",
              "      <th>F109Q2250009</th>\n",
              "      <td>2012</td>\n",
              "      <td>0</td>\n",
              "      <td>0.0</td>\n",
              "      <td>325</td>\n",
              "      <td>N</td>\n",
              "      <td>1.0</td>\n",
              "      <td>4.875</td>\n",
              "    </tr>\n",
              "  </tbody>\n",
              "</table>\n",
              "</div>"
            ],
            "text/plain": [
              "                      Year  defaulted  ...  zero_balance_code  current_interest_rate\n",
              "loan_sequence_number                   ...                                          \n",
              "F103Q3601312          2011          0  ...                1.0                  6.250\n",
              "F104Q2175461          2012          0  ...                1.0                  5.375\n",
              "F112Q1113521          2013          0  ...                1.0                  4.125\n",
              "F109Q1019189          2011          0  ...                1.0                  5.125\n",
              "F109Q1421935          2013          0  ...                1.0                  4.875\n",
              "F105Q3449410          2010          0  ...                1.0                  6.375\n",
              "F109Q4333951          2011          0  ...                1.0                  4.750\n",
              "F109Q2072856          2010          0  ...                1.0                  5.125\n",
              "F106Q4302606          2014          0  ...                1.0                  6.000\n",
              "F109Q2250009          2012          0  ...                1.0                  4.875\n",
              "\n",
              "[10 rows x 7 columns]"
            ]
          },
          "metadata": {
            "tags": []
          },
          "execution_count": 12
        }
      ]
    },
    {
      "cell_type": "code",
      "metadata": {
        "id": "-8e3hRGga2tM",
        "colab_type": "code",
        "colab": {}
      },
      "source": [
        "#adding original interest rate\n",
        "update_filtered_df = update_filtered_df.merge(orig_df[\"original_rate\"], how='inner', left_index=True, right_index=True)"
      ],
      "execution_count": 0,
      "outputs": []
    },
    {
      "cell_type": "code",
      "metadata": {
        "id": "u02hujnmh5Tb",
        "colab_type": "code",
        "colab": {}
      },
      "source": [
        "# inserting changed interest rate\n",
        "update_filtered_df.insert(8, \"changed_rate\", update_filtered_df[\"current_interest_rate\"].subtract(update_filtered_df['original_rate']))"
      ],
      "execution_count": 0,
      "outputs": []
    },
    {
      "cell_type": "code",
      "metadata": {
        "id": "nU8Mi-spi5Wa",
        "colab_type": "code",
        "colab": {}
      },
      "source": [
        "# round off the values to 3 dp\n",
        "update_filtered_df[\"changed_rate\"] = update_filtered_df[\"changed_rate\"].round(3)"
      ],
      "execution_count": 0,
      "outputs": []
    },
    {
      "cell_type": "code",
      "metadata": {
        "id": "VmSCyXoSjLO5",
        "colab_type": "code",
        "outputId": "6e324253-1f32-4626-b7f7-125122b1a398",
        "colab": {
          "base_uri": "https://localhost:8080/",
          "height": 228
        }
      },
      "source": [
        "update_filtered_df[\"changed_rate\"].value_counts().sort_index()"
      ],
      "execution_count": 16,
      "outputs": [
        {
          "output_type": "execute_result",
          "data": {
            "text/plain": [
              "-9.125        2\n",
              "-8.875        2\n",
              "-8.750        1\n",
              "-8.625        1\n",
              "-8.375        5\n",
              "          ...  \n",
              "-0.375        8\n",
              "-0.250        3\n",
              "-0.125        2\n",
              "-0.000    40100\n",
              " 0.125        2\n",
              "Name: changed_rate, Length: 86, dtype: int64"
            ]
          },
          "metadata": {
            "tags": []
          },
          "execution_count": 16
        }
      ]
    },
    {
      "cell_type": "markdown",
      "metadata": {
        "id": "sEJWImzYkHJN",
        "colab_type": "text"
      },
      "source": [
        "Now lets insert credit score, first_home, property_state, channel."
      ]
    },
    {
      "cell_type": "code",
      "metadata": {
        "id": "fBQ4i5LimZkm",
        "colab_type": "code",
        "colab": {}
      },
      "source": [
        "update_filtered_df = update_filtered_df.merge(orig_df[\"credit_score\"], how='inner', left_index=True, right_index=True)\n",
        "update_filtered_df = update_filtered_df.merge(orig_df[\"first_time_homebuyer_flag\"], how='inner', left_index=True, right_index=True)\n",
        "update_filtered_df = update_filtered_df.merge(orig_df[\"property_state\"], how='inner', left_index=True, right_index=True)\n",
        "update_filtered_df = update_filtered_df.merge(orig_df[\"channel\"], how='inner', left_index=True, right_index=True)\n",
        "update_filtered_df = update_filtered_df.merge(orig_df[\"dti_ratio\"], how='inner', left_index=True, right_index=True)\n"
      ],
      "execution_count": 0,
      "outputs": []
    },
    {
      "cell_type": "code",
      "metadata": {
        "id": "6Fz1Q6kXnDsM",
        "colab_type": "code",
        "outputId": "b4d04bcd-e84b-4edb-dc74-fdb486bcfa1f",
        "colab": {
          "base_uri": "https://localhost:8080/",
          "height": 393
        }
      },
      "source": [
        "update_filtered_df.sample(10)"
      ],
      "execution_count": 18,
      "outputs": [
        {
          "output_type": "execute_result",
          "data": {
            "text/html": [
              "<div>\n",
              "<style scoped>\n",
              "    .dataframe tbody tr th:only-of-type {\n",
              "        vertical-align: middle;\n",
              "    }\n",
              "\n",
              "    .dataframe tbody tr th {\n",
              "        vertical-align: top;\n",
              "    }\n",
              "\n",
              "    .dataframe thead th {\n",
              "        text-align: right;\n",
              "    }\n",
              "</style>\n",
              "<table border=\"1\" class=\"dataframe\">\n",
              "  <thead>\n",
              "    <tr style=\"text-align: right;\">\n",
              "      <th></th>\n",
              "      <th>Year</th>\n",
              "      <th>defaulted</th>\n",
              "      <th>current_actual_upb</th>\n",
              "      <th>months_to_maturity</th>\n",
              "      <th>repurchase_flag</th>\n",
              "      <th>zero_balance_code</th>\n",
              "      <th>current_interest_rate</th>\n",
              "      <th>original_rate</th>\n",
              "      <th>changed_rate</th>\n",
              "      <th>credit_score</th>\n",
              "      <th>first_time_homebuyer_flag</th>\n",
              "      <th>property_state</th>\n",
              "      <th>channel</th>\n",
              "      <th>dti_ratio</th>\n",
              "    </tr>\n",
              "    <tr>\n",
              "      <th>loan_sequence_number</th>\n",
              "      <th></th>\n",
              "      <th></th>\n",
              "      <th></th>\n",
              "      <th></th>\n",
              "      <th></th>\n",
              "      <th></th>\n",
              "      <th></th>\n",
              "      <th></th>\n",
              "      <th></th>\n",
              "      <th></th>\n",
              "      <th></th>\n",
              "      <th></th>\n",
              "      <th></th>\n",
              "      <th></th>\n",
              "    </tr>\n",
              "  </thead>\n",
              "  <tbody>\n",
              "    <tr>\n",
              "      <th>F108Q2231556</th>\n",
              "      <td>2013</td>\n",
              "      <td>0</td>\n",
              "      <td>0.0</td>\n",
              "      <td>305</td>\n",
              "      <td>N</td>\n",
              "      <td>1.0</td>\n",
              "      <td>6.625</td>\n",
              "      <td>6.625</td>\n",
              "      <td>0.0</td>\n",
              "      <td>682</td>\n",
              "      <td>Y</td>\n",
              "      <td>TN</td>\n",
              "      <td>R</td>\n",
              "      <td>36</td>\n",
              "    </tr>\n",
              "    <tr>\n",
              "      <th>F103Q3256316</th>\n",
              "      <td>2011</td>\n",
              "      <td>0</td>\n",
              "      <td>0.0</td>\n",
              "      <td>264</td>\n",
              "      <td>N</td>\n",
              "      <td>1.0</td>\n",
              "      <td>5.375</td>\n",
              "      <td>5.375</td>\n",
              "      <td>0.0</td>\n",
              "      <td>756</td>\n",
              "      <td>9</td>\n",
              "      <td>NY</td>\n",
              "      <td>R</td>\n",
              "      <td>26</td>\n",
              "    </tr>\n",
              "    <tr>\n",
              "      <th>F105Q3153291</th>\n",
              "      <td>2011</td>\n",
              "      <td>0</td>\n",
              "      <td>0.0</td>\n",
              "      <td>290</td>\n",
              "      <td>N</td>\n",
              "      <td>1.0</td>\n",
              "      <td>5.875</td>\n",
              "      <td>5.875</td>\n",
              "      <td>0.0</td>\n",
              "      <td>803</td>\n",
              "      <td>N</td>\n",
              "      <td>VA</td>\n",
              "      <td>T</td>\n",
              "      <td>49</td>\n",
              "    </tr>\n",
              "    <tr>\n",
              "      <th>F106Q4190775</th>\n",
              "      <td>2013</td>\n",
              "      <td>0</td>\n",
              "      <td>0.0</td>\n",
              "      <td>279</td>\n",
              "      <td>N</td>\n",
              "      <td>1.0</td>\n",
              "      <td>5.875</td>\n",
              "      <td>5.875</td>\n",
              "      <td>0.0</td>\n",
              "      <td>744</td>\n",
              "      <td>9</td>\n",
              "      <td>WA</td>\n",
              "      <td>T</td>\n",
              "      <td>33</td>\n",
              "    </tr>\n",
              "    <tr>\n",
              "      <th>F110Q3021679</th>\n",
              "      <td>2014</td>\n",
              "      <td>0</td>\n",
              "      <td>0.0</td>\n",
              "      <td>314</td>\n",
              "      <td>N</td>\n",
              "      <td>1.0</td>\n",
              "      <td>5.625</td>\n",
              "      <td>5.625</td>\n",
              "      <td>0.0</td>\n",
              "      <td>746</td>\n",
              "      <td>9</td>\n",
              "      <td>OR</td>\n",
              "      <td>R</td>\n",
              "      <td>37</td>\n",
              "    </tr>\n",
              "    <tr>\n",
              "      <th>F108Q1382410</th>\n",
              "      <td>2012</td>\n",
              "      <td>0</td>\n",
              "      <td>0.0</td>\n",
              "      <td>135</td>\n",
              "      <td>N</td>\n",
              "      <td>1.0</td>\n",
              "      <td>5.375</td>\n",
              "      <td>5.375</td>\n",
              "      <td>0.0</td>\n",
              "      <td>773</td>\n",
              "      <td>9</td>\n",
              "      <td>NE</td>\n",
              "      <td>R</td>\n",
              "      <td>27</td>\n",
              "    </tr>\n",
              "    <tr>\n",
              "      <th>F113Q2338736</th>\n",
              "      <td>2018</td>\n",
              "      <td>0</td>\n",
              "      <td>0.0</td>\n",
              "      <td>121</td>\n",
              "      <td>N</td>\n",
              "      <td>1.0</td>\n",
              "      <td>2.875</td>\n",
              "      <td>2.875</td>\n",
              "      <td>0.0</td>\n",
              "      <td>725</td>\n",
              "      <td>9</td>\n",
              "      <td>TX</td>\n",
              "      <td>C</td>\n",
              "      <td>26</td>\n",
              "    </tr>\n",
              "    <tr>\n",
              "      <th>F116Q2138161</th>\n",
              "      <td>2018</td>\n",
              "      <td>0</td>\n",
              "      <td>0.0</td>\n",
              "      <td>336</td>\n",
              "      <td>N</td>\n",
              "      <td>1.0</td>\n",
              "      <td>3.750</td>\n",
              "      <td>3.750</td>\n",
              "      <td>0.0</td>\n",
              "      <td>772</td>\n",
              "      <td>Y</td>\n",
              "      <td>NM</td>\n",
              "      <td>C</td>\n",
              "      <td>29</td>\n",
              "    </tr>\n",
              "    <tr>\n",
              "      <th>F111Q3036320</th>\n",
              "      <td>2012</td>\n",
              "      <td>0</td>\n",
              "      <td>0.0</td>\n",
              "      <td>344</td>\n",
              "      <td>N</td>\n",
              "      <td>1.0</td>\n",
              "      <td>4.500</td>\n",
              "      <td>4.500</td>\n",
              "      <td>0.0</td>\n",
              "      <td>807</td>\n",
              "      <td>Y</td>\n",
              "      <td>TN</td>\n",
              "      <td>R</td>\n",
              "      <td>19</td>\n",
              "    </tr>\n",
              "    <tr>\n",
              "      <th>F108Q1059318</th>\n",
              "      <td>2011</td>\n",
              "      <td>0</td>\n",
              "      <td>0.0</td>\n",
              "      <td>319</td>\n",
              "      <td>N</td>\n",
              "      <td>1.0</td>\n",
              "      <td>5.500</td>\n",
              "      <td>5.500</td>\n",
              "      <td>0.0</td>\n",
              "      <td>782</td>\n",
              "      <td>Y</td>\n",
              "      <td>NJ</td>\n",
              "      <td>R</td>\n",
              "      <td>44</td>\n",
              "    </tr>\n",
              "  </tbody>\n",
              "</table>\n",
              "</div>"
            ],
            "text/plain": [
              "                      Year  defaulted  ...  channel  dti_ratio\n",
              "loan_sequence_number                   ...                    \n",
              "F108Q2231556          2013          0  ...        R         36\n",
              "F103Q3256316          2011          0  ...        R         26\n",
              "F105Q3153291          2011          0  ...        T         49\n",
              "F106Q4190775          2013          0  ...        T         33\n",
              "F110Q3021679          2014          0  ...        R         37\n",
              "F108Q1382410          2012          0  ...        R         27\n",
              "F113Q2338736          2018          0  ...        C         26\n",
              "F116Q2138161          2018          0  ...        C         29\n",
              "F111Q3036320          2012          0  ...        R         19\n",
              "F108Q1059318          2011          0  ...        R         44\n",
              "\n",
              "[10 rows x 14 columns]"
            ]
          },
          "metadata": {
            "tags": []
          },
          "execution_count": 18
        }
      ]
    },
    {
      "cell_type": "markdown",
      "metadata": {
        "id": "LJZKA1jXm5Da",
        "colab_type": "text"
      },
      "source": [
        "Great! Now we have all the fields of data necessary."
      ]
    },
    {
      "cell_type": "markdown",
      "metadata": {
        "id": "RKE1UzRLj-M3",
        "colab_type": "text"
      },
      "source": [
        "## Now is when we should start splitting up the dataset into train/test data for our different models. "
      ]
    },
    {
      "cell_type": "markdown",
      "metadata": {
        "id": "iNV2Si3MnYxU",
        "colab_type": "text"
      },
      "source": [
        "First, we're going to split up the data into repurchase_model_df "
      ]
    },
    {
      "cell_type": "code",
      "metadata": {
        "id": "35pWDshonXLq",
        "colab_type": "code",
        "colab": {}
      },
      "source": [
        "#Create the dataframe used for the model data\n",
        "repurchase_model_df = update_filtered_df.copy()"
      ],
      "execution_count": 0,
      "outputs": []
    },
    {
      "cell_type": "code",
      "metadata": {
        "id": "brhsui_TJzUE",
        "colab_type": "code",
        "outputId": "5811ba52-e252-46d5-c076-97d7a1fcb2cd",
        "colab": {
          "base_uri": "https://localhost:8080/",
          "height": 451
        }
      },
      "source": [
        "repurchase_model_df"
      ],
      "execution_count": 20,
      "outputs": [
        {
          "output_type": "execute_result",
          "data": {
            "text/html": [
              "<div>\n",
              "<style scoped>\n",
              "    .dataframe tbody tr th:only-of-type {\n",
              "        vertical-align: middle;\n",
              "    }\n",
              "\n",
              "    .dataframe tbody tr th {\n",
              "        vertical-align: top;\n",
              "    }\n",
              "\n",
              "    .dataframe thead th {\n",
              "        text-align: right;\n",
              "    }\n",
              "</style>\n",
              "<table border=\"1\" class=\"dataframe\">\n",
              "  <thead>\n",
              "    <tr style=\"text-align: right;\">\n",
              "      <th></th>\n",
              "      <th>Year</th>\n",
              "      <th>defaulted</th>\n",
              "      <th>current_actual_upb</th>\n",
              "      <th>months_to_maturity</th>\n",
              "      <th>repurchase_flag</th>\n",
              "      <th>zero_balance_code</th>\n",
              "      <th>current_interest_rate</th>\n",
              "      <th>original_rate</th>\n",
              "      <th>changed_rate</th>\n",
              "      <th>credit_score</th>\n",
              "      <th>first_time_homebuyer_flag</th>\n",
              "      <th>property_state</th>\n",
              "      <th>channel</th>\n",
              "      <th>dti_ratio</th>\n",
              "    </tr>\n",
              "    <tr>\n",
              "      <th>loan_sequence_number</th>\n",
              "      <th></th>\n",
              "      <th></th>\n",
              "      <th></th>\n",
              "      <th></th>\n",
              "      <th></th>\n",
              "      <th></th>\n",
              "      <th></th>\n",
              "      <th></th>\n",
              "      <th></th>\n",
              "      <th></th>\n",
              "      <th></th>\n",
              "      <th></th>\n",
              "      <th></th>\n",
              "      <th></th>\n",
              "    </tr>\n",
              "  </thead>\n",
              "  <tbody>\n",
              "    <tr>\n",
              "      <th>F104Q2011766</th>\n",
              "      <td>2012</td>\n",
              "      <td>0</td>\n",
              "      <td>0.0</td>\n",
              "      <td>262</td>\n",
              "      <td>N</td>\n",
              "      <td>1.0</td>\n",
              "      <td>5.900</td>\n",
              "      <td>5.900</td>\n",
              "      <td>-0.0</td>\n",
              "      <td>618</td>\n",
              "      <td>N</td>\n",
              "      <td>WI</td>\n",
              "      <td>R</td>\n",
              "      <td>42</td>\n",
              "    </tr>\n",
              "    <tr>\n",
              "      <th>F101Q3333372</th>\n",
              "      <td>2014</td>\n",
              "      <td>0</td>\n",
              "      <td>0.0</td>\n",
              "      <td>207</td>\n",
              "      <td>N</td>\n",
              "      <td>1.0</td>\n",
              "      <td>7.750</td>\n",
              "      <td>7.750</td>\n",
              "      <td>0.0</td>\n",
              "      <td>718</td>\n",
              "      <td>N</td>\n",
              "      <td>OH</td>\n",
              "      <td>T</td>\n",
              "      <td>999</td>\n",
              "    </tr>\n",
              "    <tr>\n",
              "      <th>F105Q2318868</th>\n",
              "      <td>2018</td>\n",
              "      <td>0</td>\n",
              "      <td>0.0</td>\n",
              "      <td>206</td>\n",
              "      <td>N</td>\n",
              "      <td>2.0</td>\n",
              "      <td>6.690</td>\n",
              "      <td>6.690</td>\n",
              "      <td>-0.0</td>\n",
              "      <td>681</td>\n",
              "      <td>N</td>\n",
              "      <td>VA</td>\n",
              "      <td>C</td>\n",
              "      <td>41</td>\n",
              "    </tr>\n",
              "    <tr>\n",
              "      <th>F104Q3012269</th>\n",
              "      <td>2011</td>\n",
              "      <td>0</td>\n",
              "      <td>0.0</td>\n",
              "      <td>282</td>\n",
              "      <td>N</td>\n",
              "      <td>1.0</td>\n",
              "      <td>6.480</td>\n",
              "      <td>6.480</td>\n",
              "      <td>-0.0</td>\n",
              "      <td>668</td>\n",
              "      <td>N</td>\n",
              "      <td>IL</td>\n",
              "      <td>R</td>\n",
              "      <td>27</td>\n",
              "    </tr>\n",
              "    <tr>\n",
              "      <th>F104Q4001084</th>\n",
              "      <td>2011</td>\n",
              "      <td>0</td>\n",
              "      <td>0.0</td>\n",
              "      <td>277</td>\n",
              "      <td>N</td>\n",
              "      <td>1.0</td>\n",
              "      <td>5.690</td>\n",
              "      <td>5.690</td>\n",
              "      <td>-0.0</td>\n",
              "      <td>734</td>\n",
              "      <td>N</td>\n",
              "      <td>OH</td>\n",
              "      <td>R</td>\n",
              "      <td>41</td>\n",
              "    </tr>\n",
              "    <tr>\n",
              "      <th>...</th>\n",
              "      <td>...</td>\n",
              "      <td>...</td>\n",
              "      <td>...</td>\n",
              "      <td>...</td>\n",
              "      <td>...</td>\n",
              "      <td>...</td>\n",
              "      <td>...</td>\n",
              "      <td>...</td>\n",
              "      <td>...</td>\n",
              "      <td>...</td>\n",
              "      <td>...</td>\n",
              "      <td>...</td>\n",
              "      <td>...</td>\n",
              "      <td>...</td>\n",
              "    </tr>\n",
              "    <tr>\n",
              "      <th>F106Q1249353</th>\n",
              "      <td>2011</td>\n",
              "      <td>1</td>\n",
              "      <td>0.0</td>\n",
              "      <td>295</td>\n",
              "      <td>N</td>\n",
              "      <td>3.0</td>\n",
              "      <td>7.375</td>\n",
              "      <td>7.375</td>\n",
              "      <td>0.0</td>\n",
              "      <td>663</td>\n",
              "      <td>9</td>\n",
              "      <td>FL</td>\n",
              "      <td>R</td>\n",
              "      <td>44</td>\n",
              "    </tr>\n",
              "    <tr>\n",
              "      <th>F108Q4039866</th>\n",
              "      <td>2014</td>\n",
              "      <td>0</td>\n",
              "      <td>0.0</td>\n",
              "      <td>294</td>\n",
              "      <td>N</td>\n",
              "      <td>1.0</td>\n",
              "      <td>7.375</td>\n",
              "      <td>7.375</td>\n",
              "      <td>0.0</td>\n",
              "      <td>747</td>\n",
              "      <td>N</td>\n",
              "      <td>IL</td>\n",
              "      <td>C</td>\n",
              "      <td>19</td>\n",
              "    </tr>\n",
              "    <tr>\n",
              "      <th>F107Q3059569</th>\n",
              "      <td>2013</td>\n",
              "      <td>0</td>\n",
              "      <td>0.0</td>\n",
              "      <td>293</td>\n",
              "      <td>N</td>\n",
              "      <td>1.0</td>\n",
              "      <td>7.375</td>\n",
              "      <td>7.375</td>\n",
              "      <td>0.0</td>\n",
              "      <td>706</td>\n",
              "      <td>N</td>\n",
              "      <td>LA</td>\n",
              "      <td>T</td>\n",
              "      <td>61</td>\n",
              "    </tr>\n",
              "    <tr>\n",
              "      <th>F108Q3121776</th>\n",
              "      <td>2014</td>\n",
              "      <td>0</td>\n",
              "      <td>0.0</td>\n",
              "      <td>293</td>\n",
              "      <td>N</td>\n",
              "      <td>1.0</td>\n",
              "      <td>7.375</td>\n",
              "      <td>7.375</td>\n",
              "      <td>0.0</td>\n",
              "      <td>652</td>\n",
              "      <td>N</td>\n",
              "      <td>VA</td>\n",
              "      <td>R</td>\n",
              "      <td>25</td>\n",
              "    </tr>\n",
              "    <tr>\n",
              "      <th>F108Q2272689</th>\n",
              "      <td>2014</td>\n",
              "      <td>0</td>\n",
              "      <td>0.0</td>\n",
              "      <td>292</td>\n",
              "      <td>N</td>\n",
              "      <td>2.0</td>\n",
              "      <td>7.375</td>\n",
              "      <td>7.375</td>\n",
              "      <td>0.0</td>\n",
              "      <td>787</td>\n",
              "      <td>9</td>\n",
              "      <td>TN</td>\n",
              "      <td>C</td>\n",
              "      <td>57</td>\n",
              "    </tr>\n",
              "  </tbody>\n",
              "</table>\n",
              "<p>41675 rows × 14 columns</p>\n",
              "</div>"
            ],
            "text/plain": [
              "                      Year  defaulted  ...  channel  dti_ratio\n",
              "loan_sequence_number                   ...                    \n",
              "F104Q2011766          2012          0  ...        R         42\n",
              "F101Q3333372          2014          0  ...        T        999\n",
              "F105Q2318868          2018          0  ...        C         41\n",
              "F104Q3012269          2011          0  ...        R         27\n",
              "F104Q4001084          2011          0  ...        R         41\n",
              "...                    ...        ...  ...      ...        ...\n",
              "F106Q1249353          2011          1  ...        R         44\n",
              "F108Q4039866          2014          0  ...        C         19\n",
              "F107Q3059569          2013          0  ...        T         61\n",
              "F108Q3121776          2014          0  ...        R         25\n",
              "F108Q2272689          2014          0  ...        C         57\n",
              "\n",
              "[41675 rows x 14 columns]"
            ]
          },
          "metadata": {
            "tags": []
          },
          "execution_count": 20
        }
      ]
    },
    {
      "cell_type": "code",
      "metadata": {
        "id": "1px1a7yZI4Bw",
        "colab_type": "code",
        "colab": {}
      },
      "source": [
        "repurchase_model_df =  repurchase_model_df.drop(labels=repurchase_model_df[repurchase_model_df[\"current_interest_rate\"] == 0.0].index, axis=\"index\")\n",
        "repurchase_model_df =  repurchase_model_df.drop(labels=repurchase_model_df[repurchase_model_df[\"first_time_homebuyer_flag\"] == \"9\"].index, axis=\"index\")"
      ],
      "execution_count": 0,
      "outputs": []
    },
    {
      "cell_type": "code",
      "metadata": {
        "id": "A5ak3-6NKL27",
        "colab_type": "code",
        "outputId": "9aa5b0c6-c3ef-47f3-efb7-9b595583a46d",
        "colab": {
          "base_uri": "https://localhost:8080/",
          "height": 451
        }
      },
      "source": [
        "repurchase_model_df"
      ],
      "execution_count": 22,
      "outputs": [
        {
          "output_type": "execute_result",
          "data": {
            "text/html": [
              "<div>\n",
              "<style scoped>\n",
              "    .dataframe tbody tr th:only-of-type {\n",
              "        vertical-align: middle;\n",
              "    }\n",
              "\n",
              "    .dataframe tbody tr th {\n",
              "        vertical-align: top;\n",
              "    }\n",
              "\n",
              "    .dataframe thead th {\n",
              "        text-align: right;\n",
              "    }\n",
              "</style>\n",
              "<table border=\"1\" class=\"dataframe\">\n",
              "  <thead>\n",
              "    <tr style=\"text-align: right;\">\n",
              "      <th></th>\n",
              "      <th>Year</th>\n",
              "      <th>defaulted</th>\n",
              "      <th>current_actual_upb</th>\n",
              "      <th>months_to_maturity</th>\n",
              "      <th>repurchase_flag</th>\n",
              "      <th>zero_balance_code</th>\n",
              "      <th>current_interest_rate</th>\n",
              "      <th>original_rate</th>\n",
              "      <th>changed_rate</th>\n",
              "      <th>credit_score</th>\n",
              "      <th>first_time_homebuyer_flag</th>\n",
              "      <th>property_state</th>\n",
              "      <th>channel</th>\n",
              "      <th>dti_ratio</th>\n",
              "    </tr>\n",
              "    <tr>\n",
              "      <th>loan_sequence_number</th>\n",
              "      <th></th>\n",
              "      <th></th>\n",
              "      <th></th>\n",
              "      <th></th>\n",
              "      <th></th>\n",
              "      <th></th>\n",
              "      <th></th>\n",
              "      <th></th>\n",
              "      <th></th>\n",
              "      <th></th>\n",
              "      <th></th>\n",
              "      <th></th>\n",
              "      <th></th>\n",
              "      <th></th>\n",
              "    </tr>\n",
              "  </thead>\n",
              "  <tbody>\n",
              "    <tr>\n",
              "      <th>F104Q2011766</th>\n",
              "      <td>2012</td>\n",
              "      <td>0</td>\n",
              "      <td>0.0</td>\n",
              "      <td>262</td>\n",
              "      <td>N</td>\n",
              "      <td>1.0</td>\n",
              "      <td>5.900</td>\n",
              "      <td>5.900</td>\n",
              "      <td>-0.0</td>\n",
              "      <td>618</td>\n",
              "      <td>N</td>\n",
              "      <td>WI</td>\n",
              "      <td>R</td>\n",
              "      <td>42</td>\n",
              "    </tr>\n",
              "    <tr>\n",
              "      <th>F101Q3333372</th>\n",
              "      <td>2014</td>\n",
              "      <td>0</td>\n",
              "      <td>0.0</td>\n",
              "      <td>207</td>\n",
              "      <td>N</td>\n",
              "      <td>1.0</td>\n",
              "      <td>7.750</td>\n",
              "      <td>7.750</td>\n",
              "      <td>0.0</td>\n",
              "      <td>718</td>\n",
              "      <td>N</td>\n",
              "      <td>OH</td>\n",
              "      <td>T</td>\n",
              "      <td>999</td>\n",
              "    </tr>\n",
              "    <tr>\n",
              "      <th>F105Q2318868</th>\n",
              "      <td>2018</td>\n",
              "      <td>0</td>\n",
              "      <td>0.0</td>\n",
              "      <td>206</td>\n",
              "      <td>N</td>\n",
              "      <td>2.0</td>\n",
              "      <td>6.690</td>\n",
              "      <td>6.690</td>\n",
              "      <td>-0.0</td>\n",
              "      <td>681</td>\n",
              "      <td>N</td>\n",
              "      <td>VA</td>\n",
              "      <td>C</td>\n",
              "      <td>41</td>\n",
              "    </tr>\n",
              "    <tr>\n",
              "      <th>F104Q3012269</th>\n",
              "      <td>2011</td>\n",
              "      <td>0</td>\n",
              "      <td>0.0</td>\n",
              "      <td>282</td>\n",
              "      <td>N</td>\n",
              "      <td>1.0</td>\n",
              "      <td>6.480</td>\n",
              "      <td>6.480</td>\n",
              "      <td>-0.0</td>\n",
              "      <td>668</td>\n",
              "      <td>N</td>\n",
              "      <td>IL</td>\n",
              "      <td>R</td>\n",
              "      <td>27</td>\n",
              "    </tr>\n",
              "    <tr>\n",
              "      <th>F104Q4001084</th>\n",
              "      <td>2011</td>\n",
              "      <td>0</td>\n",
              "      <td>0.0</td>\n",
              "      <td>277</td>\n",
              "      <td>N</td>\n",
              "      <td>1.0</td>\n",
              "      <td>5.690</td>\n",
              "      <td>5.690</td>\n",
              "      <td>-0.0</td>\n",
              "      <td>734</td>\n",
              "      <td>N</td>\n",
              "      <td>OH</td>\n",
              "      <td>R</td>\n",
              "      <td>41</td>\n",
              "    </tr>\n",
              "    <tr>\n",
              "      <th>...</th>\n",
              "      <td>...</td>\n",
              "      <td>...</td>\n",
              "      <td>...</td>\n",
              "      <td>...</td>\n",
              "      <td>...</td>\n",
              "      <td>...</td>\n",
              "      <td>...</td>\n",
              "      <td>...</td>\n",
              "      <td>...</td>\n",
              "      <td>...</td>\n",
              "      <td>...</td>\n",
              "      <td>...</td>\n",
              "      <td>...</td>\n",
              "      <td>...</td>\n",
              "    </tr>\n",
              "    <tr>\n",
              "      <th>F108Q2214163</th>\n",
              "      <td>2013</td>\n",
              "      <td>0</td>\n",
              "      <td>0.0</td>\n",
              "      <td>299</td>\n",
              "      <td>N</td>\n",
              "      <td>1.0</td>\n",
              "      <td>7.375</td>\n",
              "      <td>7.375</td>\n",
              "      <td>0.0</td>\n",
              "      <td>635</td>\n",
              "      <td>Y</td>\n",
              "      <td>KS</td>\n",
              "      <td>T</td>\n",
              "      <td>47</td>\n",
              "    </tr>\n",
              "    <tr>\n",
              "      <th>F107Q4024977</th>\n",
              "      <td>2013</td>\n",
              "      <td>0</td>\n",
              "      <td>0.0</td>\n",
              "      <td>296</td>\n",
              "      <td>N</td>\n",
              "      <td>1.0</td>\n",
              "      <td>7.375</td>\n",
              "      <td>7.375</td>\n",
              "      <td>0.0</td>\n",
              "      <td>732</td>\n",
              "      <td>N</td>\n",
              "      <td>NC</td>\n",
              "      <td>R</td>\n",
              "      <td>43</td>\n",
              "    </tr>\n",
              "    <tr>\n",
              "      <th>F108Q4039866</th>\n",
              "      <td>2014</td>\n",
              "      <td>0</td>\n",
              "      <td>0.0</td>\n",
              "      <td>294</td>\n",
              "      <td>N</td>\n",
              "      <td>1.0</td>\n",
              "      <td>7.375</td>\n",
              "      <td>7.375</td>\n",
              "      <td>0.0</td>\n",
              "      <td>747</td>\n",
              "      <td>N</td>\n",
              "      <td>IL</td>\n",
              "      <td>C</td>\n",
              "      <td>19</td>\n",
              "    </tr>\n",
              "    <tr>\n",
              "      <th>F107Q3059569</th>\n",
              "      <td>2013</td>\n",
              "      <td>0</td>\n",
              "      <td>0.0</td>\n",
              "      <td>293</td>\n",
              "      <td>N</td>\n",
              "      <td>1.0</td>\n",
              "      <td>7.375</td>\n",
              "      <td>7.375</td>\n",
              "      <td>0.0</td>\n",
              "      <td>706</td>\n",
              "      <td>N</td>\n",
              "      <td>LA</td>\n",
              "      <td>T</td>\n",
              "      <td>61</td>\n",
              "    </tr>\n",
              "    <tr>\n",
              "      <th>F108Q3121776</th>\n",
              "      <td>2014</td>\n",
              "      <td>0</td>\n",
              "      <td>0.0</td>\n",
              "      <td>293</td>\n",
              "      <td>N</td>\n",
              "      <td>1.0</td>\n",
              "      <td>7.375</td>\n",
              "      <td>7.375</td>\n",
              "      <td>0.0</td>\n",
              "      <td>652</td>\n",
              "      <td>N</td>\n",
              "      <td>VA</td>\n",
              "      <td>R</td>\n",
              "      <td>25</td>\n",
              "    </tr>\n",
              "  </tbody>\n",
              "</table>\n",
              "<p>27504 rows × 14 columns</p>\n",
              "</div>"
            ],
            "text/plain": [
              "                      Year  defaulted  ...  channel  dti_ratio\n",
              "loan_sequence_number                   ...                    \n",
              "F104Q2011766          2012          0  ...        R         42\n",
              "F101Q3333372          2014          0  ...        T        999\n",
              "F105Q2318868          2018          0  ...        C         41\n",
              "F104Q3012269          2011          0  ...        R         27\n",
              "F104Q4001084          2011          0  ...        R         41\n",
              "...                    ...        ...  ...      ...        ...\n",
              "F108Q2214163          2013          0  ...        T         47\n",
              "F107Q4024977          2013          0  ...        R         43\n",
              "F108Q4039866          2014          0  ...        C         19\n",
              "F107Q3059569          2013          0  ...        T         61\n",
              "F108Q3121776          2014          0  ...        R         25\n",
              "\n",
              "[27504 rows x 14 columns]"
            ]
          },
          "metadata": {
            "tags": []
          },
          "execution_count": 22
        }
      ]
    },
    {
      "cell_type": "code",
      "metadata": {
        "id": "XMoCUIoYJj8g",
        "colab_type": "code",
        "outputId": "3220e3c9-d7be-47c1-f4d0-c83200163f5b",
        "colab": {
          "base_uri": "https://localhost:8080/",
          "height": 228
        }
      },
      "source": [
        "repurchase_model_df[\"current_interest_rate\"].value_counts().sort_index()"
      ],
      "execution_count": 23,
      "outputs": [
        {
          "output_type": "execute_result",
          "data": {
            "text/plain": [
              "2.000     70\n",
              "2.125      4\n",
              "2.250      1\n",
              "2.375      2\n",
              "2.500      9\n",
              "          ..\n",
              "8.875      3\n",
              "9.000      1\n",
              "9.125      1\n",
              "9.500      1\n",
              "10.100     1\n",
              "Name: current_interest_rate, Length: 258, dtype: int64"
            ]
          },
          "metadata": {
            "tags": []
          },
          "execution_count": 23
        }
      ]
    },
    {
      "cell_type": "code",
      "metadata": {
        "id": "eTNpFb46IIC8",
        "colab_type": "code",
        "colab": {}
      },
      "source": [
        "# replacing flags with numerical data \n",
        "repurchase_model_df = repurchase_model_df.drop([\"defaulted\", \"current_interest_rate\", \"original_rate\", \"current_actual_upb\"], axis=1)\n",
        "repurchase_model_df[\"first_time_homebuyer_flag\"] = repurchase_model_df[\"first_time_homebuyer_flag\"].replace(\"N\", 0)\n",
        "repurchase_model_df[\"first_time_homebuyer_flag\"] = repurchase_model_df[\"first_time_homebuyer_flag\"].replace(\"Y\", 1)\n"
      ],
      "execution_count": 0,
      "outputs": []
    },
    {
      "cell_type": "code",
      "metadata": {
        "id": "C93NIfQ0SwHe",
        "colab_type": "code",
        "colab": {}
      },
      "source": [
        "# replacing string columns with one-hot encoding\n",
        "# repurchase_model_df[\"property_state\"] = repurchase_model_df.drop(\"property_state\", axis=1)\n",
        "\n",
        "repurchase_model_df.insert(10, \"retail_flag\", repurchase_model_df[\"channel\"].eq('R'))"
      ],
      "execution_count": 0,
      "outputs": []
    },
    {
      "cell_type": "code",
      "metadata": {
        "id": "eM1R_u_5UYZF",
        "colab_type": "code",
        "colab": {}
      },
      "source": [
        "repurchase_model_df.insert(10, \"broker_flag\", repurchase_model_df[\"channel\"].eq('B'))"
      ],
      "execution_count": 0,
      "outputs": []
    },
    {
      "cell_type": "code",
      "metadata": {
        "id": "KNAiokc6UdQN",
        "colab_type": "code",
        "colab": {}
      },
      "source": [
        "repurchase_model_df.insert(10, \"correspondent_flag\", repurchase_model_df[\"channel\"].eq('C'))"
      ],
      "execution_count": 0,
      "outputs": []
    },
    {
      "cell_type": "code",
      "metadata": {
        "id": "ZdZCZTezUmV9",
        "colab_type": "code",
        "colab": {}
      },
      "source": [
        "repurchase_model_df.insert(10, \"third_party_orig_flag\", repurchase_model_df[\"channel\"].eq('T'))"
      ],
      "execution_count": 0,
      "outputs": []
    },
    {
      "cell_type": "code",
      "metadata": {
        "id": "Bc0VpoC_ViXI",
        "colab_type": "code",
        "outputId": "8a173e35-128a-4e25-d6a1-5bc32fb55b47",
        "colab": {
          "base_uri": "https://localhost:8080/",
          "height": 451
        }
      },
      "source": [
        "repurchase_model_df.replace(True, 1)\n",
        "repurchase_model_df.replace(False, 0)"
      ],
      "execution_count": 29,
      "outputs": [
        {
          "output_type": "execute_result",
          "data": {
            "text/html": [
              "<div>\n",
              "<style scoped>\n",
              "    .dataframe tbody tr th:only-of-type {\n",
              "        vertical-align: middle;\n",
              "    }\n",
              "\n",
              "    .dataframe tbody tr th {\n",
              "        vertical-align: top;\n",
              "    }\n",
              "\n",
              "    .dataframe thead th {\n",
              "        text-align: right;\n",
              "    }\n",
              "</style>\n",
              "<table border=\"1\" class=\"dataframe\">\n",
              "  <thead>\n",
              "    <tr style=\"text-align: right;\">\n",
              "      <th></th>\n",
              "      <th>Year</th>\n",
              "      <th>months_to_maturity</th>\n",
              "      <th>repurchase_flag</th>\n",
              "      <th>zero_balance_code</th>\n",
              "      <th>changed_rate</th>\n",
              "      <th>credit_score</th>\n",
              "      <th>first_time_homebuyer_flag</th>\n",
              "      <th>property_state</th>\n",
              "      <th>channel</th>\n",
              "      <th>dti_ratio</th>\n",
              "      <th>third_party_orig_flag</th>\n",
              "      <th>correspondent_flag</th>\n",
              "      <th>broker_flag</th>\n",
              "      <th>retail_flag</th>\n",
              "    </tr>\n",
              "    <tr>\n",
              "      <th>loan_sequence_number</th>\n",
              "      <th></th>\n",
              "      <th></th>\n",
              "      <th></th>\n",
              "      <th></th>\n",
              "      <th></th>\n",
              "      <th></th>\n",
              "      <th></th>\n",
              "      <th></th>\n",
              "      <th></th>\n",
              "      <th></th>\n",
              "      <th></th>\n",
              "      <th></th>\n",
              "      <th></th>\n",
              "      <th></th>\n",
              "    </tr>\n",
              "  </thead>\n",
              "  <tbody>\n",
              "    <tr>\n",
              "      <th>F104Q2011766</th>\n",
              "      <td>2012</td>\n",
              "      <td>262</td>\n",
              "      <td>N</td>\n",
              "      <td>1.0</td>\n",
              "      <td>0.0</td>\n",
              "      <td>618</td>\n",
              "      <td>0</td>\n",
              "      <td>WI</td>\n",
              "      <td>R</td>\n",
              "      <td>42</td>\n",
              "      <td>0.0</td>\n",
              "      <td>0.0</td>\n",
              "      <td>0.0</td>\n",
              "      <td>1.0</td>\n",
              "    </tr>\n",
              "    <tr>\n",
              "      <th>F101Q3333372</th>\n",
              "      <td>2014</td>\n",
              "      <td>207</td>\n",
              "      <td>N</td>\n",
              "      <td>1.0</td>\n",
              "      <td>0.0</td>\n",
              "      <td>718</td>\n",
              "      <td>0</td>\n",
              "      <td>OH</td>\n",
              "      <td>T</td>\n",
              "      <td>999</td>\n",
              "      <td>1.0</td>\n",
              "      <td>0.0</td>\n",
              "      <td>0.0</td>\n",
              "      <td>0.0</td>\n",
              "    </tr>\n",
              "    <tr>\n",
              "      <th>F105Q2318868</th>\n",
              "      <td>2018</td>\n",
              "      <td>206</td>\n",
              "      <td>N</td>\n",
              "      <td>2.0</td>\n",
              "      <td>0.0</td>\n",
              "      <td>681</td>\n",
              "      <td>0</td>\n",
              "      <td>VA</td>\n",
              "      <td>C</td>\n",
              "      <td>41</td>\n",
              "      <td>0.0</td>\n",
              "      <td>1.0</td>\n",
              "      <td>0.0</td>\n",
              "      <td>0.0</td>\n",
              "    </tr>\n",
              "    <tr>\n",
              "      <th>F104Q3012269</th>\n",
              "      <td>2011</td>\n",
              "      <td>282</td>\n",
              "      <td>N</td>\n",
              "      <td>1.0</td>\n",
              "      <td>0.0</td>\n",
              "      <td>668</td>\n",
              "      <td>0</td>\n",
              "      <td>IL</td>\n",
              "      <td>R</td>\n",
              "      <td>27</td>\n",
              "      <td>0.0</td>\n",
              "      <td>0.0</td>\n",
              "      <td>0.0</td>\n",
              "      <td>1.0</td>\n",
              "    </tr>\n",
              "    <tr>\n",
              "      <th>F104Q4001084</th>\n",
              "      <td>2011</td>\n",
              "      <td>277</td>\n",
              "      <td>N</td>\n",
              "      <td>1.0</td>\n",
              "      <td>0.0</td>\n",
              "      <td>734</td>\n",
              "      <td>0</td>\n",
              "      <td>OH</td>\n",
              "      <td>R</td>\n",
              "      <td>41</td>\n",
              "      <td>0.0</td>\n",
              "      <td>0.0</td>\n",
              "      <td>0.0</td>\n",
              "      <td>1.0</td>\n",
              "    </tr>\n",
              "    <tr>\n",
              "      <th>...</th>\n",
              "      <td>...</td>\n",
              "      <td>...</td>\n",
              "      <td>...</td>\n",
              "      <td>...</td>\n",
              "      <td>...</td>\n",
              "      <td>...</td>\n",
              "      <td>...</td>\n",
              "      <td>...</td>\n",
              "      <td>...</td>\n",
              "      <td>...</td>\n",
              "      <td>...</td>\n",
              "      <td>...</td>\n",
              "      <td>...</td>\n",
              "      <td>...</td>\n",
              "    </tr>\n",
              "    <tr>\n",
              "      <th>F108Q2214163</th>\n",
              "      <td>2013</td>\n",
              "      <td>299</td>\n",
              "      <td>N</td>\n",
              "      <td>1.0</td>\n",
              "      <td>0.0</td>\n",
              "      <td>635</td>\n",
              "      <td>1</td>\n",
              "      <td>KS</td>\n",
              "      <td>T</td>\n",
              "      <td>47</td>\n",
              "      <td>1.0</td>\n",
              "      <td>0.0</td>\n",
              "      <td>0.0</td>\n",
              "      <td>0.0</td>\n",
              "    </tr>\n",
              "    <tr>\n",
              "      <th>F107Q4024977</th>\n",
              "      <td>2013</td>\n",
              "      <td>296</td>\n",
              "      <td>N</td>\n",
              "      <td>1.0</td>\n",
              "      <td>0.0</td>\n",
              "      <td>732</td>\n",
              "      <td>0</td>\n",
              "      <td>NC</td>\n",
              "      <td>R</td>\n",
              "      <td>43</td>\n",
              "      <td>0.0</td>\n",
              "      <td>0.0</td>\n",
              "      <td>0.0</td>\n",
              "      <td>1.0</td>\n",
              "    </tr>\n",
              "    <tr>\n",
              "      <th>F108Q4039866</th>\n",
              "      <td>2014</td>\n",
              "      <td>294</td>\n",
              "      <td>N</td>\n",
              "      <td>1.0</td>\n",
              "      <td>0.0</td>\n",
              "      <td>747</td>\n",
              "      <td>0</td>\n",
              "      <td>IL</td>\n",
              "      <td>C</td>\n",
              "      <td>19</td>\n",
              "      <td>0.0</td>\n",
              "      <td>1.0</td>\n",
              "      <td>0.0</td>\n",
              "      <td>0.0</td>\n",
              "    </tr>\n",
              "    <tr>\n",
              "      <th>F107Q3059569</th>\n",
              "      <td>2013</td>\n",
              "      <td>293</td>\n",
              "      <td>N</td>\n",
              "      <td>1.0</td>\n",
              "      <td>0.0</td>\n",
              "      <td>706</td>\n",
              "      <td>0</td>\n",
              "      <td>LA</td>\n",
              "      <td>T</td>\n",
              "      <td>61</td>\n",
              "      <td>1.0</td>\n",
              "      <td>0.0</td>\n",
              "      <td>0.0</td>\n",
              "      <td>0.0</td>\n",
              "    </tr>\n",
              "    <tr>\n",
              "      <th>F108Q3121776</th>\n",
              "      <td>2014</td>\n",
              "      <td>293</td>\n",
              "      <td>N</td>\n",
              "      <td>1.0</td>\n",
              "      <td>0.0</td>\n",
              "      <td>652</td>\n",
              "      <td>0</td>\n",
              "      <td>VA</td>\n",
              "      <td>R</td>\n",
              "      <td>25</td>\n",
              "      <td>0.0</td>\n",
              "      <td>0.0</td>\n",
              "      <td>0.0</td>\n",
              "      <td>1.0</td>\n",
              "    </tr>\n",
              "  </tbody>\n",
              "</table>\n",
              "<p>27504 rows × 14 columns</p>\n",
              "</div>"
            ],
            "text/plain": [
              "                      Year  months_to_maturity  ... broker_flag  retail_flag\n",
              "loan_sequence_number                            ...                         \n",
              "F104Q2011766          2012                 262  ...         0.0          1.0\n",
              "F101Q3333372          2014                 207  ...         0.0          0.0\n",
              "F105Q2318868          2018                 206  ...         0.0          0.0\n",
              "F104Q3012269          2011                 282  ...         0.0          1.0\n",
              "F104Q4001084          2011                 277  ...         0.0          1.0\n",
              "...                    ...                 ...  ...         ...          ...\n",
              "F108Q2214163          2013                 299  ...         0.0          0.0\n",
              "F107Q4024977          2013                 296  ...         0.0          1.0\n",
              "F108Q4039866          2014                 294  ...         0.0          0.0\n",
              "F107Q3059569          2013                 293  ...         0.0          0.0\n",
              "F108Q3121776          2014                 293  ...         0.0          1.0\n",
              "\n",
              "[27504 rows x 14 columns]"
            ]
          },
          "metadata": {
            "tags": []
          },
          "execution_count": 29
        }
      ]
    },
    {
      "cell_type": "code",
      "metadata": {
        "id": "ogcFp9uHS1Wu",
        "colab_type": "code",
        "colab": {}
      },
      "source": [
        "# Drop string columns\n",
        "repurchase_model_df = repurchase_model_df.drop(\"channel\", axis=1)"
      ],
      "execution_count": 0,
      "outputs": []
    },
    {
      "cell_type": "code",
      "metadata": {
        "id": "YD3b9EESVKWg",
        "colab_type": "code",
        "colab": {}
      },
      "source": [
        "repurchase_model_df = repurchase_model_df.drop(\"property_state\", axis=1)"
      ],
      "execution_count": 0,
      "outputs": []
    },
    {
      "cell_type": "code",
      "metadata": {
        "id": "zkAMS_GLLemY",
        "colab_type": "code",
        "outputId": "a7a2a6ad-69c2-4019-bc6f-0ddec543fb5b",
        "colab": {
          "base_uri": "https://localhost:8080/",
          "height": 393
        }
      },
      "source": [
        "repurchase_model_df.sample(10)"
      ],
      "execution_count": 32,
      "outputs": [
        {
          "output_type": "execute_result",
          "data": {
            "text/html": [
              "<div>\n",
              "<style scoped>\n",
              "    .dataframe tbody tr th:only-of-type {\n",
              "        vertical-align: middle;\n",
              "    }\n",
              "\n",
              "    .dataframe tbody tr th {\n",
              "        vertical-align: top;\n",
              "    }\n",
              "\n",
              "    .dataframe thead th {\n",
              "        text-align: right;\n",
              "    }\n",
              "</style>\n",
              "<table border=\"1\" class=\"dataframe\">\n",
              "  <thead>\n",
              "    <tr style=\"text-align: right;\">\n",
              "      <th></th>\n",
              "      <th>Year</th>\n",
              "      <th>months_to_maturity</th>\n",
              "      <th>repurchase_flag</th>\n",
              "      <th>zero_balance_code</th>\n",
              "      <th>changed_rate</th>\n",
              "      <th>credit_score</th>\n",
              "      <th>first_time_homebuyer_flag</th>\n",
              "      <th>dti_ratio</th>\n",
              "      <th>third_party_orig_flag</th>\n",
              "      <th>correspondent_flag</th>\n",
              "      <th>broker_flag</th>\n",
              "      <th>retail_flag</th>\n",
              "    </tr>\n",
              "    <tr>\n",
              "      <th>loan_sequence_number</th>\n",
              "      <th></th>\n",
              "      <th></th>\n",
              "      <th></th>\n",
              "      <th></th>\n",
              "      <th></th>\n",
              "      <th></th>\n",
              "      <th></th>\n",
              "      <th></th>\n",
              "      <th></th>\n",
              "      <th></th>\n",
              "      <th></th>\n",
              "      <th></th>\n",
              "    </tr>\n",
              "  </thead>\n",
              "  <tbody>\n",
              "    <tr>\n",
              "      <th>F103Q2451524</th>\n",
              "      <td>2012</td>\n",
              "      <td>256</td>\n",
              "      <td>N</td>\n",
              "      <td>1.0</td>\n",
              "      <td>0.0</td>\n",
              "      <td>756</td>\n",
              "      <td>0</td>\n",
              "      <td>28</td>\n",
              "      <td>True</td>\n",
              "      <td>False</td>\n",
              "      <td>False</td>\n",
              "      <td>False</td>\n",
              "    </tr>\n",
              "    <tr>\n",
              "      <th>F105Q3381533</th>\n",
              "      <td>2013</td>\n",
              "      <td>272</td>\n",
              "      <td>N</td>\n",
              "      <td>1.0</td>\n",
              "      <td>0.0</td>\n",
              "      <td>731</td>\n",
              "      <td>0</td>\n",
              "      <td>35</td>\n",
              "      <td>True</td>\n",
              "      <td>False</td>\n",
              "      <td>False</td>\n",
              "      <td>False</td>\n",
              "    </tr>\n",
              "    <tr>\n",
              "      <th>F110Q1147460</th>\n",
              "      <td>2012</td>\n",
              "      <td>334</td>\n",
              "      <td>N</td>\n",
              "      <td>1.0</td>\n",
              "      <td>0.0</td>\n",
              "      <td>803</td>\n",
              "      <td>0</td>\n",
              "      <td>26</td>\n",
              "      <td>False</td>\n",
              "      <td>True</td>\n",
              "      <td>False</td>\n",
              "      <td>False</td>\n",
              "    </tr>\n",
              "    <tr>\n",
              "      <th>F106Q4022631</th>\n",
              "      <td>2010</td>\n",
              "      <td>314</td>\n",
              "      <td>N</td>\n",
              "      <td>1.0</td>\n",
              "      <td>0.0</td>\n",
              "      <td>754</td>\n",
              "      <td>0</td>\n",
              "      <td>30</td>\n",
              "      <td>True</td>\n",
              "      <td>False</td>\n",
              "      <td>False</td>\n",
              "      <td>False</td>\n",
              "    </tr>\n",
              "    <tr>\n",
              "      <th>F110Q2254114</th>\n",
              "      <td>2012</td>\n",
              "      <td>162</td>\n",
              "      <td>N</td>\n",
              "      <td>1.0</td>\n",
              "      <td>0.0</td>\n",
              "      <td>751</td>\n",
              "      <td>0</td>\n",
              "      <td>23</td>\n",
              "      <td>False</td>\n",
              "      <td>False</td>\n",
              "      <td>False</td>\n",
              "      <td>True</td>\n",
              "    </tr>\n",
              "    <tr>\n",
              "      <th>F105Q3250401</th>\n",
              "      <td>2016</td>\n",
              "      <td>224</td>\n",
              "      <td>N</td>\n",
              "      <td>1.0</td>\n",
              "      <td>0.0</td>\n",
              "      <td>584</td>\n",
              "      <td>0</td>\n",
              "      <td>38</td>\n",
              "      <td>True</td>\n",
              "      <td>False</td>\n",
              "      <td>False</td>\n",
              "      <td>False</td>\n",
              "    </tr>\n",
              "    <tr>\n",
              "      <th>F102Q4235779</th>\n",
              "      <td>2014</td>\n",
              "      <td>225</td>\n",
              "      <td>N</td>\n",
              "      <td>1.0</td>\n",
              "      <td>0.0</td>\n",
              "      <td>744</td>\n",
              "      <td>0</td>\n",
              "      <td>22</td>\n",
              "      <td>True</td>\n",
              "      <td>False</td>\n",
              "      <td>False</td>\n",
              "      <td>False</td>\n",
              "    </tr>\n",
              "    <tr>\n",
              "      <th>F109Q1002066</th>\n",
              "      <td>2015</td>\n",
              "      <td>284</td>\n",
              "      <td>N</td>\n",
              "      <td>1.0</td>\n",
              "      <td>0.0</td>\n",
              "      <td>706</td>\n",
              "      <td>0</td>\n",
              "      <td>33</td>\n",
              "      <td>False</td>\n",
              "      <td>False</td>\n",
              "      <td>False</td>\n",
              "      <td>True</td>\n",
              "    </tr>\n",
              "    <tr>\n",
              "      <th>F109Q1552909</th>\n",
              "      <td>2016</td>\n",
              "      <td>152</td>\n",
              "      <td>N</td>\n",
              "      <td>1.0</td>\n",
              "      <td>0.0</td>\n",
              "      <td>714</td>\n",
              "      <td>0</td>\n",
              "      <td>24</td>\n",
              "      <td>False</td>\n",
              "      <td>False</td>\n",
              "      <td>False</td>\n",
              "      <td>True</td>\n",
              "    </tr>\n",
              "    <tr>\n",
              "      <th>F103Q2310541</th>\n",
              "      <td>2011</td>\n",
              "      <td>262</td>\n",
              "      <td>N</td>\n",
              "      <td>1.0</td>\n",
              "      <td>0.0</td>\n",
              "      <td>780</td>\n",
              "      <td>0</td>\n",
              "      <td>34</td>\n",
              "      <td>True</td>\n",
              "      <td>False</td>\n",
              "      <td>False</td>\n",
              "      <td>False</td>\n",
              "    </tr>\n",
              "  </tbody>\n",
              "</table>\n",
              "</div>"
            ],
            "text/plain": [
              "                      Year  months_to_maturity  ... broker_flag  retail_flag\n",
              "loan_sequence_number                            ...                         \n",
              "F103Q2451524          2012                 256  ...       False        False\n",
              "F105Q3381533          2013                 272  ...       False        False\n",
              "F110Q1147460          2012                 334  ...       False        False\n",
              "F106Q4022631          2010                 314  ...       False        False\n",
              "F110Q2254114          2012                 162  ...       False         True\n",
              "F105Q3250401          2016                 224  ...       False        False\n",
              "F102Q4235779          2014                 225  ...       False        False\n",
              "F109Q1002066          2015                 284  ...       False         True\n",
              "F109Q1552909          2016                 152  ...       False         True\n",
              "F103Q2310541          2011                 262  ...       False        False\n",
              "\n",
              "[10 rows x 12 columns]"
            ]
          },
          "metadata": {
            "tags": []
          },
          "execution_count": 32
        }
      ]
    },
    {
      "cell_type": "code",
      "metadata": {
        "id": "_287quuvLqzZ",
        "colab_type": "code",
        "colab": {}
      },
      "source": [
        "#splitting up feature and label data\n",
        "features_df = repurchase_model_df.drop(labels=[\"repurchase_flag\"], axis=1)\n",
        "labels_df = repurchase_model_df.filter(items=[\"repurchase_flag\"])"
      ],
      "execution_count": 0,
      "outputs": []
    },
    {
      "cell_type": "code",
      "metadata": {
        "id": "xgLDuBj4Pt0e",
        "colab_type": "code",
        "colab": {}
      },
      "source": [
        "#Replacing labels with numerical data\n",
        "labels_df = labels_df.replace(\"Y\", 1)\n",
        "labels_df = labels_df.replace(\"N\", 0)"
      ],
      "execution_count": 0,
      "outputs": []
    },
    {
      "cell_type": "code",
      "metadata": {
        "id": "Mh85a3OeL5gb",
        "colab_type": "code",
        "outputId": "5a252874-ad6b-4dcc-f5f6-bdad7597c513",
        "colab": {
          "base_uri": "https://localhost:8080/",
          "height": 70
        }
      },
      "source": [
        "labels_df[\"repurchase_flag\"].value_counts()"
      ],
      "execution_count": 35,
      "outputs": [
        {
          "output_type": "execute_result",
          "data": {
            "text/plain": [
              "0    27369\n",
              "1      135\n",
              "Name: repurchase_flag, dtype: int64"
            ]
          },
          "metadata": {
            "tags": []
          },
          "execution_count": 35
        }
      ]
    },
    {
      "cell_type": "markdown",
      "metadata": {
        "id": "8Vt2E0UiNDS2",
        "colab_type": "text"
      },
      "source": [
        "Now lets set up our training and testing data"
      ]
    },
    {
      "cell_type": "code",
      "metadata": {
        "id": "x35tbCVmM7CX",
        "colab_type": "code",
        "outputId": "4ce4f568-6001-4cda-e994-dbb2ccc83ef8",
        "colab": {
          "base_uri": "https://localhost:8080/",
          "height": 228
        }
      },
      "source": [
        "features_train, features_test, labels_train, labels_test =  train_test_split(features_df, labels_df, test_size=0.33, random_state=42)\n",
        "features_train.dtypes"
      ],
      "execution_count": 36,
      "outputs": [
        {
          "output_type": "execute_result",
          "data": {
            "text/plain": [
              "Year                           int64\n",
              "months_to_maturity             int64\n",
              "zero_balance_code            float64\n",
              "changed_rate                 float64\n",
              "credit_score                   int64\n",
              "first_time_homebuyer_flag      int64\n",
              "dti_ratio                      int64\n",
              "third_party_orig_flag           bool\n",
              "correspondent_flag              bool\n",
              "broker_flag                     bool\n",
              "retail_flag                     bool\n",
              "dtype: object"
            ]
          },
          "metadata": {
            "tags": []
          },
          "execution_count": 36
        }
      ]
    },
    {
      "cell_type": "code",
      "metadata": {
        "id": "0drf8XdoOud2",
        "colab_type": "code",
        "outputId": "ad2a62b3-2fa2-4ab8-9517-793bb9f2d894",
        "colab": {
          "base_uri": "https://localhost:8080/",
          "height": 87
        }
      },
      "source": [
        "print('Training Features Shape:', features_train.shape)\n",
        "print('Training Labels Shape:', labels_train.shape)\n",
        "print('Testing Features Shape:', features_test.shape)\n",
        "print('Testing Labels Shape:', labels_test.shape)"
      ],
      "execution_count": 37,
      "outputs": [
        {
          "output_type": "stream",
          "text": [
            "Training Features Shape: (18427, 11)\n",
            "Training Labels Shape: (18427, 1)\n",
            "Testing Features Shape: (9077, 11)\n",
            "Testing Labels Shape: (9077, 1)\n"
          ],
          "name": "stdout"
        }
      ]
    },
    {
      "cell_type": "code",
      "metadata": {
        "id": "HPjHiBY8PHYq",
        "colab_type": "code",
        "colab": {}
      },
      "source": [
        "rf = RandomForestClassifier(n_estimators= 1000, random_state = 42)"
      ],
      "execution_count": 0,
      "outputs": []
    },
    {
      "cell_type": "code",
      "metadata": {
        "id": "jhVlDVHkWsKT",
        "colab_type": "code",
        "colab": {}
      },
      "source": [
        ""
      ],
      "execution_count": 0,
      "outputs": []
    },
    {
      "cell_type": "code",
      "metadata": {
        "id": "xMJOXihrPV0k",
        "colab_type": "code",
        "outputId": "d94cb842-576b-4a32-df6c-4a4f78bf68e5",
        "colab": {
          "base_uri": "https://localhost:8080/",
          "height": 213
        }
      },
      "source": [
        "rf.fit(features_train, labels_train)"
      ],
      "execution_count": 39,
      "outputs": [
        {
          "output_type": "stream",
          "text": [
            "/usr/local/lib/python3.6/dist-packages/ipykernel_launcher.py:1: DataConversionWarning: A column-vector y was passed when a 1d array was expected. Please change the shape of y to (n_samples,), for example using ravel().\n",
            "  \"\"\"Entry point for launching an IPython kernel.\n"
          ],
          "name": "stderr"
        },
        {
          "output_type": "execute_result",
          "data": {
            "text/plain": [
              "RandomForestClassifier(bootstrap=True, ccp_alpha=0.0, class_weight=None,\n",
              "                       criterion='gini', max_depth=None, max_features='auto',\n",
              "                       max_leaf_nodes=None, max_samples=None,\n",
              "                       min_impurity_decrease=0.0, min_impurity_split=None,\n",
              "                       min_samples_leaf=1, min_samples_split=2,\n",
              "                       min_weight_fraction_leaf=0.0, n_estimators=1000,\n",
              "                       n_jobs=None, oob_score=False, random_state=42, verbose=0,\n",
              "                       warm_start=False)"
            ]
          },
          "metadata": {
            "tags": []
          },
          "execution_count": 39
        }
      ]
    },
    {
      "cell_type": "code",
      "metadata": {
        "id": "BppcL8ivW39S",
        "colab_type": "code",
        "colab": {}
      },
      "source": [
        "# Use the forest's predict method on the test data\n",
        "predictions = rf.predict(features_test)"
      ],
      "execution_count": 0,
      "outputs": []
    },
    {
      "cell_type": "code",
      "metadata": {
        "id": "UfTz7cJKXmON",
        "colab_type": "code",
        "outputId": "546e567a-e087-4f31-de38-714182227ac9",
        "colab": {
          "base_uri": "https://localhost:8080/",
          "height": 34
        }
      },
      "source": [
        "labels_test_array = labels_test[\"repurchase_flag\"].to_numpy()\n",
        "labels_test_array"
      ],
      "execution_count": 41,
      "outputs": [
        {
          "output_type": "execute_result",
          "data": {
            "text/plain": [
              "array([0, 0, 0, ..., 0, 0, 0])"
            ]
          },
          "metadata": {
            "tags": []
          },
          "execution_count": 41
        }
      ]
    },
    {
      "cell_type": "code",
      "metadata": {
        "id": "wmml3bNBYSfz",
        "colab_type": "code",
        "outputId": "54f0ac08-2aae-4f07-c354-e3d82576696b",
        "colab": {
          "base_uri": "https://localhost:8080/",
          "height": 34
        }
      },
      "source": [
        "# Calculate the absolute errors\n",
        "errors = np.absolute(predictions - labels_test_array)\n",
        "errors"
      ],
      "execution_count": 42,
      "outputs": [
        {
          "output_type": "execute_result",
          "data": {
            "text/plain": [
              "array([0, 0, 0, ..., 0, 0, 0])"
            ]
          },
          "metadata": {
            "tags": []
          },
          "execution_count": 42
        }
      ]
    },
    {
      "cell_type": "code",
      "metadata": {
        "id": "hoVgHlVlYwzO",
        "colab_type": "code",
        "outputId": "262e7f99-bc84-481c-b04a-4f9dbb12d1df",
        "colab": {
          "base_uri": "https://localhost:8080/",
          "height": 34
        }
      },
      "source": [
        "# Calculate rmse\n",
        "rmse = np.sqrt(np.mean(np.square(errors)))\n",
        "# Calculate and display accuracy\n",
        "rmse"
      ],
      "execution_count": 44,
      "outputs": [
        {
          "output_type": "execute_result",
          "data": {
            "text/plain": [
              "0.03319164923494721"
            ]
          },
          "metadata": {
            "tags": []
          },
          "execution_count": 44
        }
      ]
    },
    {
      "cell_type": "code",
      "metadata": {
        "id": "o2t6nWdXcbqP",
        "colab_type": "code",
        "outputId": "c5c17084-a754-45bd-a7e8-585941dea3c5",
        "colab": {
          "base_uri": "https://localhost:8080/",
          "height": 230
        }
      },
      "source": [
        "#Cross Validation accuracy\n",
        "a = cross_val_score(rf, features_test, labels_test, cv=5)\n",
        "np.ndarray.mean(a)"
      ],
      "execution_count": 45,
      "outputs": [
        {
          "output_type": "stream",
          "text": [
            "/usr/local/lib/python3.6/dist-packages/sklearn/model_selection/_validation.py:515: DataConversionWarning: A column-vector y was passed when a 1d array was expected. Please change the shape of y to (n_samples,), for example using ravel().\n",
            "  estimator.fit(X_train, y_train, **fit_params)\n",
            "/usr/local/lib/python3.6/dist-packages/sklearn/model_selection/_validation.py:515: DataConversionWarning: A column-vector y was passed when a 1d array was expected. Please change the shape of y to (n_samples,), for example using ravel().\n",
            "  estimator.fit(X_train, y_train, **fit_params)\n",
            "/usr/local/lib/python3.6/dist-packages/sklearn/model_selection/_validation.py:515: DataConversionWarning: A column-vector y was passed when a 1d array was expected. Please change the shape of y to (n_samples,), for example using ravel().\n",
            "  estimator.fit(X_train, y_train, **fit_params)\n",
            "/usr/local/lib/python3.6/dist-packages/sklearn/model_selection/_validation.py:515: DataConversionWarning: A column-vector y was passed when a 1d array was expected. Please change the shape of y to (n_samples,), for example using ravel().\n",
            "  estimator.fit(X_train, y_train, **fit_params)\n",
            "/usr/local/lib/python3.6/dist-packages/sklearn/model_selection/_validation.py:515: DataConversionWarning: A column-vector y was passed when a 1d array was expected. Please change the shape of y to (n_samples,), for example using ravel().\n",
            "  estimator.fit(X_train, y_train, **fit_params)\n"
          ],
          "name": "stderr"
        },
        {
          "output_type": "execute_result",
          "data": {
            "text/plain": [
              "0.9988984356985959"
            ]
          },
          "metadata": {
            "tags": []
          },
          "execution_count": 45
        }
      ]
    },
    {
      "cell_type": "code",
      "metadata": {
        "id": "oqsMP_i-dSSL",
        "colab_type": "code",
        "outputId": "9513d6a2-e91c-43f3-a91d-f0ca2f1b77dd",
        "colab": {
          "base_uri": "https://localhost:8080/",
          "height": 295
        }
      },
      "source": [
        "# Checking Precision and Recall\n",
        "disp = plot_precision_recall_curve(rf, features_test, labels_test)\n",
        "disp.ax_.set_title('Precision-Recall curve:')\n",
        "plt.savefig(\"/content/drive/My Drive/SENSO_ASSIGNMENT/precision_recall_curve.png\")"
      ],
      "execution_count": 46,
      "outputs": [
        {
          "output_type": "display_data",
          "data": {
            "image/png": "[encoded data removed]",
            "text/plain": [
              "<Figure size 432x288 with 1 Axes>"
            ]
          },
          "metadata": {
            "tags": []
          }
        }
      ]
    }
  ]
}